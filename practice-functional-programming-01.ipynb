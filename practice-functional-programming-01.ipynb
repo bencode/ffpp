{
 "cells": [
  {
   "cell_type": "markdown",
   "id": "4c58a38e-fb32-4435-9f40-52a15f2682b5",
   "metadata": {},
   "source": [
    "# 从动作流（FlowAction）的设计思考函数的可组合性原理（草稿）"
   ]
  },
  {
   "cell_type": "markdown",
   "id": "c8c1e7e0-99ec-42a1-b25a-27dfe12e6e7e",
   "metadata": {},
   "source": [
    "## -1. 关于主题\n",
    "\n",
    "- **为什么要这么写？**\n",
    "- 函数式编程"
   ]
  },
  {
   "cell_type": "markdown",
   "id": "2d917645-21c0-4474-8152-7b59331789ff",
   "metadata": {},
   "source": [
    "## 0. 关于动作流\n",
    "- 前置动作，实现逻辑和后置动作，称为流(Flow)。\n",
    "- 调用服务(InvokeService), 打开视图(OpenView), 关闭页面(Close), 跳转（Goto）称为动作（Action）\n",
    "两者合起来称为 (FlowAction)\n",
    "- 参考 [Action动作流程设计](https://aliyuque.antfin.com/trantor/eewi6i/hxr71y4p2ntenoih)"
   ]
  },
  {
   "cell_type": "markdown",
   "id": "d908065f-5261-4ada-a928-e58d3e0abbaf",
   "metadata": {},
   "source": [
    "## 1. 动作流的Schema描述"
   ]
  },
  {
   "cell_type": "markdown",
   "id": "80a23fdb-a93d-4045-a9bf-5b80e99d2550",
   "metadata": {},
   "source": [
    "### 前置节点 - Validate"
   ]
  },
  {
   "cell_type": "code",
   "execution_count": 1,
   "id": "c31b28e7-3987-4377-bdd2-91581a99714b",
   "metadata": {
    "tags": []
   },
   "outputs": [],
   "source": [
    "const beforeFlow = {\n",
    "    type: 'Flow',\n",
    "    name: 'Validate',\n",
    "    props: {\n",
    "        // 这里只是演示，实际中不需要，直接实现成 breakOnFirst即可满足需求\n",
    "        breakOnFirst: true,\n",
    "    },\n",
    "    children: [\n",
    "        {\n",
    "            type: 'Action',\n",
    "            name: 'ValidateData',\n",
    "            props: {\n",
    "              // 规则选择器的属性值\n",
    "            }\n",
    "        },\n",
    "        \n",
    "        {\n",
    "            type: 'Action',\n",
    "            name: 'InvokeService',\n",
    "            props: {\n",
    "                serviceKey: 'xxx',\n",
    "            }\n",
    "        }\n",
    "    ]\n",
    "}"
   ]
  },
  {
   "cell_type": "markdown",
   "id": "2a2e6b5f-ba5a-4fc5-965c-c2f2057d28a7",
   "metadata": {
    "tags": []
   },
   "source": [
    "### 逻辑节点 - Compute"
   ]
  },
  {
   "cell_type": "code",
   "execution_count": 2,
   "id": "e1925d10-bf8d-4bd1-9cbb-bb72ebdb4ae0",
   "metadata": {
    "tags": []
   },
   "outputs": [],
   "source": [
    "const computeFlow = {\n",
    "    type: 'Flow',\n",
    "    name: 'Compute',\n",
    "    props: {\n",
    "        parallel: true,\n",
    "    },\n",
    "    children: [\n",
    "        {\n",
    "            type: 'Action',\n",
    "            name: 'InvokeService',\n",
    "            props: {\n",
    "                serviceKey: 'loadProducts',\n",
    "            }\n",
    "        },\n",
    "        {\n",
    "            // 工作流\n",
    "            type: 'Action',\n",
    "            name: 'InvokeFlow',\n",
    "            props: {\n",
    "                flowKey: 'notifyDingding'\n",
    "            }\n",
    "        }\n",
    "    ]\n",
    "}"
   ]
  },
  {
   "cell_type": "markdown",
   "id": "0721d820-6f77-4174-85e1-ce1138d45646",
   "metadata": {},
   "source": [
    "### 后置节点 - Effect"
   ]
  },
  {
   "cell_type": "code",
   "execution_count": 3,
   "id": "fec4d628-5eca-45da-ba0d-88a2990ea8d2",
   "metadata": {
    "tags": []
   },
   "outputs": [],
   "source": [
    "const afterFlow = {\n",
    "    type: 'Flow',\n",
    "    name: 'Effect',\n",
    "    props: {},\n",
    "    children: [\n",
    "        {\n",
    "            type: 'Action',\n",
    "            name: 'OpenView',\n",
    "            props: {\n",
    "                viewKey: 'sayHello'\n",
    "            }\n",
    "        }\n",
    "    ]\n",
    "}"
   ]
  },
  {
   "cell_type": "markdown",
   "id": "768320d6-87c4-46c1-baa9-6e9bd945d4f5",
   "metadata": {},
   "source": [
    "### Pipeline"
   ]
  },
  {
   "cell_type": "code",
   "execution_count": 4,
   "id": "dbb981a7-b1b2-466d-9184-6e17563b1b25",
   "metadata": {
    "tags": []
   },
   "outputs": [],
   "source": [
    "const pipeline = {\n",
    "    type: 'Flow',\n",
    "    name: 'Pipeline',\n",
    "    children: [\n",
    "        beforeFlow,\n",
    "        computeFlow,\n",
    "        afterFlow\n",
    "    ]\n",
    "}"
   ]
  },
  {
   "cell_type": "code",
   "execution_count": 5,
   "id": "1eae1eac-bdbd-455b-8dc4-2760b943acd7",
   "metadata": {
    "tags": []
   },
   "outputs": [
    {
     "name": "stdout",
     "output_type": "stream",
     "text": [
      "{\n",
      "  type: \u001b[32m'Flow'\u001b[39m,\n",
      "  name: \u001b[32m'Pipeline'\u001b[39m,\n",
      "  children: [\n",
      "    {\n",
      "      type: \u001b[32m'Flow'\u001b[39m,\n",
      "      name: \u001b[32m'Validate'\u001b[39m,\n",
      "      props: \u001b[36m[Object]\u001b[39m,\n",
      "      children: \u001b[36m[Array]\u001b[39m\n",
      "    },\n",
      "    {\n",
      "      type: \u001b[32m'Flow'\u001b[39m,\n",
      "      name: \u001b[32m'Compute'\u001b[39m,\n",
      "      props: \u001b[36m[Object]\u001b[39m,\n",
      "      children: \u001b[36m[Array]\u001b[39m\n",
      "    },\n",
      "    { type: \u001b[32m'Flow'\u001b[39m, name: \u001b[32m'Effect'\u001b[39m, props: {}, children: \u001b[36m[Array]\u001b[39m }\n",
      "  ]\n",
      "}\n"
     ]
    }
   ],
   "source": [
    "pipeline\n"
   ]
  },
  {
   "cell_type": "markdown",
   "id": "994e1376-3e1b-4bf7-82d2-c202c12595c5",
   "metadata": {
    "tags": []
   },
   "source": [
    "### 类型定义"
   ]
  },
  {
   "cell_type": "code",
   "execution_count": 6,
   "id": "ed38fdce-9789-41f3-a2bb-a402d76e4d32",
   "metadata": {
    "tags": []
   },
   "outputs": [],
   "source": [
    "type ActionNode = {\n",
    "    type: 'Action',\n",
    "    name: string,\n",
    "    props: Record<string, unknown>\n",
    "}\n",
    "\n",
    "type FlowNode = {\n",
    "    type: 'Flow',\n",
    "    name: string,\n",
    "    props: Record<string, unknown>\n",
    "    children: (FlowNode | ActionNode)[]  // 这里支持嵌套\n",
    "}"
   ]
  },
  {
   "cell_type": "markdown",
   "id": "6b1f4602-6323-4434-90a5-6ecc20ff0773",
   "metadata": {
    "tags": []
   },
   "source": [
    "### 动作的定义\n",
    "\n",
    "- 什么是动作？如何定义动作？\n",
    "- 动作是一个操作，操作属于一种计算，函数即计算，所以动作可以用函数表达。—— 动作即函数"
   ]
  },
  {
   "cell_type": "markdown",
   "id": "a64adc92-fc63-4828-95e7-a0d5f0ed4bfd",
   "metadata": {
    "tags": []
   },
   "source": [
    "### trival version"
   ]
  },
  {
   "cell_type": "code",
   "execution_count": null,
   "id": "aefe8515-f6d1-4721-9710-1ad91a53a22e",
   "metadata": {
    "tags": []
   },
   "outputs": [],
   "source": [
    "const validateData = (ctx, props) => {\n",
    "    const record = ctx.record\n",
    "    // 实际上会解析规则来执行\n",
    "    return props.validate(record)\n",
    "}\n",
    "\n"
   ]
  },
  {
   "cell_type": "code",
   "execution_count": null,
   "id": "06a06a28-e2d8-469f-bd81-d0261d4e607d",
   "metadata": {
    "tags": []
   },
   "outputs": [],
   "source": [
    "const invokeService = async (ctx, props) => {\n",
    "    const route = ctx.route\n",
    "    return props.invokeService(props.serviceKey)\n",
    "}"
   ]
  },
  {
   "cell_type": "code",
   "execution_count": null,
   "id": "50fcb151-c868-46f4-9852-e3734c8d4275",
   "metadata": {
    "tags": []
   },
   "outputs": [],
   "source": [
    "const openView = (ctx, props) => {\n",
    "  console.log('openView, openType: %s, recordId: %s', props.openType, ctx.record.id)\n",
    "}\n",
    "\n",
    "const openView = props => ctx => {\n",
    "}\n",
    "\n",
    "oepn({ type: 'modal' }) // ctx => {}"
   ]
  },
  {
   "cell_type": "code",
   "execution_count": 7,
   "id": "c702ede5-5563-4f00-acc2-c6f4212b33be",
   "metadata": {
    "tags": []
   },
   "outputs": [],
   "source": [
    "const ctx = {\n",
    "    record: { id: '1', name: 'iphone' },\n",
    "    route: { module: 'products', action: 'show' }\n",
    "}"
   ]
  },
  {
   "cell_type": "code",
   "execution_count": null,
   "id": "08ed10b6-e638-4f28-a3e8-525f869082d9",
   "metadata": {
    "tags": []
   },
   "outputs": [],
   "source": [
    "openView(ctx, { openType: 'modal' })"
   ]
  },
  {
   "cell_type": "markdown",
   "id": "75e588f8-682b-4965-9fa7-47bc28022d70",
   "metadata": {
    "tags": []
   },
   "source": [
    "### 问题和想法\n",
    "\n",
    "- 函数和函数的组合\n",
    "- [ ] 为什么从Schema的定义能想到函数的组合？"
   ]
  },
  {
   "cell_type": "markdown",
   "id": "fe27543c-67ea-41a3-a313-e24c603a7cfa",
   "metadata": {},
   "source": [
    "## 函数组合 Function Composition"
   ]
  },
  {
   "cell_type": "markdown",
   "id": "b903e9ad-fa21-4c10-be78-d9fdbbe10542",
   "metadata": {
    "tags": []
   },
   "source": [
    "### arity1\n",
    "\n",
    "- [ ] 什么样的函数可组合？\n"
   ]
  },
  {
   "cell_type": "code",
   "execution_count": 8,
   "id": "10a148cb-38b9-4e1f-b024-a14df541af8b",
   "metadata": {
    "tags": []
   },
   "outputs": [],
   "source": [
    "const add1 = x => x + 1\n",
    "const x2 = x => x * 2\n",
    "const add = (x, y) => x + y"
   ]
  },
  {
   "cell_type": "code",
   "execution_count": 9,
   "id": "93059a67-4bc9-4ead-9e7b-392564ddfa91",
   "metadata": {
    "tags": []
   },
   "outputs": [
    {
     "name": "stdout",
     "output_type": "stream",
     "text": [
      "\u001b[33m202\u001b[39m\n"
     ]
    }
   ],
   "source": [
    "// (x + 1) * 2\n",
    "\n",
    "const f = x => x2(add1(x))\n",
    "f(100)"
   ]
  },
  {
   "cell_type": "code",
   "execution_count": 10,
   "id": "2724b3ae-a620-45d5-8e72-beb30dff7956",
   "metadata": {
    "tags": []
   },
   "outputs": [],
   "source": [
    "const compose = (f, g) => x => f(g(x)) "
   ]
  },
  {
   "cell_type": "code",
   "execution_count": 11,
   "id": "1a352352-924f-4245-a559-b17b4ae9b889",
   "metadata": {
    "tags": []
   },
   "outputs": [],
   "source": [
    "const f = compose(x2, add1)"
   ]
  },
  {
   "cell_type": "code",
   "execution_count": 12,
   "id": "d22d4726-13b0-4861-9ce6-f5783a0880c8",
   "metadata": {
    "tags": []
   },
   "outputs": [
    {
     "name": "stdout",
     "output_type": "stream",
     "text": [
      "\u001b[33m202\u001b[39m\n"
     ]
    }
   ],
   "source": [
    "f(100)"
   ]
  },
  {
   "cell_type": "markdown",
   "id": "7014cde9-c627-4a58-aa3f-86cd78f4eda5",
   "metadata": {},
   "source": [
    "### curry\n",
    "\n",
    "- [ ] how to get arity1?"
   ]
  },
  {
   "cell_type": "code",
   "execution_count": 13,
   "id": "3740b5e1-ff09-4d27-a9d7-ef2e11988050",
   "metadata": {
    "tags": []
   },
   "outputs": [],
   "source": [
    "const add = (x, y, z) => x + y + z\n",
    "const add2 = x => y => z => x + y + z"
   ]
  },
  {
   "cell_type": "code",
   "execution_count": 14,
   "id": "86d2d554-db48-435b-99c9-49e68d6963c7",
   "metadata": {
    "tags": []
   },
   "outputs": [
    {
     "name": "stdout",
     "output_type": "stream",
     "text": [
      "\u001b[33m6\u001b[39m\n"
     ]
    }
   ],
   "source": [
    "add(1,2,3)"
   ]
  },
  {
   "cell_type": "code",
   "execution_count": 16,
   "id": "c7a5683f-e92a-4962-94c3-3513387b7748",
   "metadata": {
    "tags": []
   },
   "outputs": [
    {
     "name": "stdout",
     "output_type": "stream",
     "text": [
      "\u001b[33m6\u001b[39m\n"
     ]
    }
   ],
   "source": [
    "const f = add2(1)(2)    \n",
    "f(3)"
   ]
  },
  {
   "cell_type": "markdown",
   "id": "109d50bb-4e47-4ee3-be33-a57844c782df",
   "metadata": {},
   "source": [
    "### pointless\n",
    "\n",
    "- [ ] 函数参数的顺序应该怎么样？"
   ]
  },
  {
   "cell_type": "code",
   "execution_count": 6,
   "id": "308e5c96-5fb3-4673-9c24-43de212fa078",
   "metadata": {
    "tags": []
   },
   "outputs": [],
   "source": [
    "const range = n => [...Array(n).keys()]"
   ]
  },
  {
   "cell_type": "code",
   "execution_count": 18,
   "id": "174e778e-a7f6-40cb-911d-ded3c0fd4ef0",
   "metadata": {
    "tags": []
   },
   "outputs": [
    {
     "name": "stdout",
     "output_type": "stream",
     "text": [
      "[\n",
      "  \u001b[33m0\u001b[39m, \u001b[33m1\u001b[39m, \u001b[33m2\u001b[39m, \u001b[33m3\u001b[39m, \u001b[33m4\u001b[39m,\n",
      "  \u001b[33m5\u001b[39m, \u001b[33m6\u001b[39m, \u001b[33m7\u001b[39m, \u001b[33m8\u001b[39m, \u001b[33m9\u001b[39m\n",
      "]\n"
     ]
    }
   ],
   "source": [
    "range(10)"
   ]
  },
  {
   "cell_type": "code",
   "execution_count": 7,
   "id": "a36d748b-d46e-4b24-8dce-431a76229558",
   "metadata": {
    "tags": []
   },
   "outputs": [],
   "source": [
    "const { faker } = require('@faker-js/faker')"
   ]
  },
  {
   "cell_type": "markdown",
   "id": "66a5b550-9f4b-429a-844f-7e70ef4b50ba",
   "metadata": {},
   "source": [
    "[faker-js](https://fakerjs.dev/guide/usage.html) [faker-js/api](https://fakerjs.dev/api/)"
   ]
  },
  {
   "cell_type": "code",
   "execution_count": 20,
   "id": "be83d34e-706b-4593-b8d0-958f34fe7fd6",
   "metadata": {
    "tags": []
   },
   "outputs": [
    {
     "name": "stdout",
     "output_type": "stream",
     "text": [
      "Birman\n"
     ]
    }
   ],
   "source": [
    "faker.animal.cat()"
   ]
  },
  {
   "cell_type": "code",
   "execution_count": 8,
   "id": "af76a0f2-5f1a-4207-b237-5445d7204ab7",
   "metadata": {
    "tags": []
   },
   "outputs": [
    {
     "name": "stdout",
     "output_type": "stream",
     "text": [
      "[\n",
      "  {\n",
      "    id: \u001b[32m'36eaf9f3-1955-4311-bcff-9a6b07958c2b'\u001b[39m,\n",
      "    name: \u001b[32m'Ragdoll'\u001b[39m,\n",
      "    age: \u001b[33m91\u001b[39m,\n",
      "    dark: \u001b[33mtrue\u001b[39m\n",
      "  },\n",
      "  {\n",
      "    id: \u001b[32m'0969a674-c79e-4d5b-a4b0-8454fe47806e'\u001b[39m,\n",
      "    name: \u001b[32m'Russian Blue'\u001b[39m,\n",
      "    age: \u001b[33m97\u001b[39m,\n",
      "    dark: \u001b[33mfalse\u001b[39m\n",
      "  },\n",
      "  {\n",
      "    id: \u001b[32m'89248fbd-2b5b-4745-9558-9188304435be'\u001b[39m,\n",
      "    name: \u001b[32m'Snowshoe'\u001b[39m,\n",
      "    age: \u001b[33m32\u001b[39m,\n",
      "    dark: \u001b[33mfalse\u001b[39m\n",
      "  },\n",
      "  {\n",
      "    id: \u001b[32m'1eb3617e-6bce-498a-b68f-626517848f16'\u001b[39m,\n",
      "    name: \u001b[32m'Selkirk Rex'\u001b[39m,\n",
      "    age: \u001b[33m1\u001b[39m,\n",
      "    dark: \u001b[33mfalse\u001b[39m\n",
      "  },\n",
      "  {\n",
      "    id: \u001b[32m'6436790b-1488-4774-9ec5-cff56085f6f8'\u001b[39m,\n",
      "    name: \u001b[32m'Maine Coon'\u001b[39m,\n",
      "    age: \u001b[33m62\u001b[39m,\n",
      "    dark: \u001b[33mfalse\u001b[39m\n",
      "  },\n",
      "  {\n",
      "    id: \u001b[32m'0bd7cfd3-73dd-4c84-94d7-f85a835847e1'\u001b[39m,\n",
      "    name: \u001b[32m'British Shorthair'\u001b[39m,\n",
      "    age: \u001b[33m2\u001b[39m,\n",
      "    dark: \u001b[33mtrue\u001b[39m\n",
      "  },\n",
      "  {\n",
      "    id: \u001b[32m'034efd3e-86d8-4c93-bc5c-803af63c09b5'\u001b[39m,\n",
      "    name: \u001b[32m'Munchkin'\u001b[39m,\n",
      "    age: \u001b[33m65\u001b[39m,\n",
      "    dark: \u001b[33mtrue\u001b[39m\n",
      "  },\n",
      "  {\n",
      "    id: \u001b[32m'159f3f54-c3dd-4975-b694-e3c790f46d4b'\u001b[39m,\n",
      "    name: \u001b[32m'Turkish Angora'\u001b[39m,\n",
      "    age: \u001b[33m47\u001b[39m,\n",
      "    dark: \u001b[33mfalse\u001b[39m\n",
      "  },\n",
      "  {\n",
      "    id: \u001b[32m'29654ead-9a05-4647-9987-6b9cf4ca9215'\u001b[39m,\n",
      "    name: \u001b[32m'Norwegian Forest Cat'\u001b[39m,\n",
      "    age: \u001b[33m31\u001b[39m,\n",
      "    dark: \u001b[33mtrue\u001b[39m\n",
      "  },\n",
      "  {\n",
      "    id: \u001b[32m'e5e573b0-6a75-42ff-a962-9149274c1563'\u001b[39m,\n",
      "    name: \u001b[32m'Highlander'\u001b[39m,\n",
      "    age: \u001b[33m52\u001b[39m,\n",
      "    dark: \u001b[33mtrue\u001b[39m\n",
      "  },\n",
      "  {\n",
      "    id: \u001b[32m'644634b7-4b79-47ea-a515-cdd378b685ff'\u001b[39m,\n",
      "    name: \u001b[32m'Thai'\u001b[39m,\n",
      "    age: \u001b[33m88\u001b[39m,\n",
      "    dark: \u001b[33mtrue\u001b[39m\n",
      "  },\n",
      "  {\n",
      "    id: \u001b[32m'ab527622-c036-4fe0-8361-dbbfe33d095c'\u001b[39m,\n",
      "    name: \u001b[32m'Scottish Fold'\u001b[39m,\n",
      "    age: \u001b[33m77\u001b[39m,\n",
      "    dark: \u001b[33mtrue\u001b[39m\n",
      "  },\n",
      "  {\n",
      "    id: \u001b[32m'ed5cbdd4-4ad6-47fb-9c90-6cbbf2e90fe6'\u001b[39m,\n",
      "    name: \u001b[32m'Selkirk Rex'\u001b[39m,\n",
      "    age: \u001b[33m100\u001b[39m,\n",
      "    dark: \u001b[33mfalse\u001b[39m\n",
      "  },\n",
      "  {\n",
      "    id: \u001b[32m'1fe82fbf-b656-46cf-8106-2d08d0b463ce'\u001b[39m,\n",
      "    name: \u001b[32m'Abyssinian'\u001b[39m,\n",
      "    age: \u001b[33m68\u001b[39m,\n",
      "    dark: \u001b[33mfalse\u001b[39m\n",
      "  },\n",
      "  {\n",
      "    id: \u001b[32m'e8107e93-a8e2-4149-b9c1-35d692f721aa'\u001b[39m,\n",
      "    name: \u001b[32m'American Bobtail'\u001b[39m,\n",
      "    age: \u001b[33m11\u001b[39m,\n",
      "    dark: \u001b[33mfalse\u001b[39m\n",
      "  },\n",
      "  {\n",
      "    id: \u001b[32m'7ec1466a-3630-41b6-8b2c-420bd5aaf17e'\u001b[39m,\n",
      "    name: \u001b[32m'Serengeti'\u001b[39m,\n",
      "    age: \u001b[33m14\u001b[39m,\n",
      "    dark: \u001b[33mfalse\u001b[39m\n",
      "  },\n",
      "  {\n",
      "    id: \u001b[32m'379a33bd-177e-4e8e-885f-ea3cb915f094'\u001b[39m,\n",
      "    name: \u001b[32m'Munchkin'\u001b[39m,\n",
      "    age: \u001b[33m44\u001b[39m,\n",
      "    dark: \u001b[33mtrue\u001b[39m\n",
      "  },\n",
      "  {\n",
      "    id: \u001b[32m'8aa17d59-7afa-4e9b-a2b8-f6bf8171393b'\u001b[39m,\n",
      "    name: \u001b[32m'LaPerm'\u001b[39m,\n",
      "    age: \u001b[33m73\u001b[39m,\n",
      "    dark: \u001b[33mtrue\u001b[39m\n",
      "  },\n",
      "  {\n",
      "    id: \u001b[32m'9555e9d5-a242-4765-a39e-a8cdb900c1e1'\u001b[39m,\n",
      "    name: \u001b[32m'Ragdoll'\u001b[39m,\n",
      "    age: \u001b[33m35\u001b[39m,\n",
      "    dark: \u001b[33mfalse\u001b[39m\n",
      "  },\n",
      "  {\n",
      "    id: \u001b[32m'88a8f86f-2473-426a-8313-a35f4b884b3e'\u001b[39m,\n",
      "    name: \u001b[32m'Savannah'\u001b[39m,\n",
      "    age: \u001b[33m55\u001b[39m,\n",
      "    dark: \u001b[33mfalse\u001b[39m\n",
      "  },\n",
      "  {\n",
      "    id: \u001b[32m'c1953d12-3f09-4b4d-b7ce-ebf5feff3e26'\u001b[39m,\n",
      "    name: \u001b[32m'Singapura'\u001b[39m,\n",
      "    age: \u001b[33m60\u001b[39m,\n",
      "    dark: \u001b[33mfalse\u001b[39m\n",
      "  },\n",
      "  {\n",
      "    id: \u001b[32m'bf411643-323f-4f6d-93c3-09cf8b2c4994'\u001b[39m,\n",
      "    name: \u001b[32m'Chartreux'\u001b[39m,\n",
      "    age: \u001b[33m85\u001b[39m,\n",
      "    dark: \u001b[33mtrue\u001b[39m\n",
      "  },\n",
      "  {\n",
      "    id: \u001b[32m'84b2e1f7-153b-49f2-878b-b148e6412546'\u001b[39m,\n",
      "    name: \u001b[32m'Exotic Shorthair'\u001b[39m,\n",
      "    age: \u001b[33m2\u001b[39m,\n",
      "    dark: \u001b[33mtrue\u001b[39m\n",
      "  },\n",
      "  {\n",
      "    id: \u001b[32m'53f000b6-d908-4f5c-85aa-7e84b1431f29'\u001b[39m,\n",
      "    name: \u001b[32m'Persian'\u001b[39m,\n",
      "    age: \u001b[33m86\u001b[39m,\n",
      "    dark: \u001b[33mtrue\u001b[39m\n",
      "  },\n",
      "  {\n",
      "    id: \u001b[32m'cb0eba79-cb2f-4015-8fb7-3a8b9f3dfaea'\u001b[39m,\n",
      "    name: \u001b[32m'Turkish Van'\u001b[39m,\n",
      "    age: \u001b[33m65\u001b[39m,\n",
      "    dark: \u001b[33mtrue\u001b[39m\n",
      "  },\n",
      "  {\n",
      "    id: \u001b[32m'79d7e8f0-ac39-44ac-9eb3-89d9e1503f53'\u001b[39m,\n",
      "    name: \u001b[32m'Siamese'\u001b[39m,\n",
      "    age: \u001b[33m17\u001b[39m,\n",
      "    dark: \u001b[33mfalse\u001b[39m\n",
      "  },\n",
      "  {\n",
      "    id: \u001b[32m'5205e81c-9fe9-4455-8712-40946f1daf1a'\u001b[39m,\n",
      "    name: \u001b[32m'Norwegian Forest Cat'\u001b[39m,\n",
      "    age: \u001b[33m97\u001b[39m,\n",
      "    dark: \u001b[33mtrue\u001b[39m\n",
      "  },\n",
      "  {\n",
      "    id: \u001b[32m'5f88691e-487f-4c5d-80dc-01d0dd83690e'\u001b[39m,\n",
      "    name: \u001b[32m'American Bobtail'\u001b[39m,\n",
      "    age: \u001b[33m25\u001b[39m,\n",
      "    dark: \u001b[33mtrue\u001b[39m\n",
      "  },\n",
      "  {\n",
      "    id: \u001b[32m'3db44b95-775d-4497-b56e-d274bb52e1ec'\u001b[39m,\n",
      "    name: \u001b[32m'Thai'\u001b[39m,\n",
      "    age: \u001b[33m53\u001b[39m,\n",
      "    dark: \u001b[33mfalse\u001b[39m\n",
      "  },\n",
      "  {\n",
      "    id: \u001b[32m'ae8a79ca-80a7-4648-b32b-d136e52fbca4'\u001b[39m,\n",
      "    name: \u001b[32m'Bengal'\u001b[39m,\n",
      "    age: \u001b[33m47\u001b[39m,\n",
      "    dark: \u001b[33mtrue\u001b[39m\n",
      "  },\n",
      "  {\n",
      "    id: \u001b[32m'922aad11-f496-4a15-9c1b-bdc3b752cb59'\u001b[39m,\n",
      "    name: \u001b[32m'Kurilian Bobtail'\u001b[39m,\n",
      "    age: \u001b[33m37\u001b[39m,\n",
      "    dark: \u001b[33mfalse\u001b[39m\n",
      "  },\n",
      "  {\n",
      "    id: \u001b[32m'a24f0d00-06d6-4664-9469-8ed2153596f8'\u001b[39m,\n",
      "    name: \u001b[32m'Scottish Fold'\u001b[39m,\n",
      "    age: \u001b[33m15\u001b[39m,\n",
      "    dark: \u001b[33mtrue\u001b[39m\n",
      "  },\n",
      "  {\n",
      "    id: \u001b[32m'98d8d772-1da3-41d8-bb02-e9e1ede711e8'\u001b[39m,\n",
      "    name: \u001b[32m'Cornish Rex'\u001b[39m,\n",
      "    age: \u001b[33m38\u001b[39m,\n",
      "    dark: \u001b[33mfalse\u001b[39m\n",
      "  },\n",
      "  {\n",
      "    id: \u001b[32m'4a4814de-1905-46e5-a3f7-76b4585e0b78'\u001b[39m,\n",
      "    name: \u001b[32m'Ragdoll'\u001b[39m,\n",
      "    age: \u001b[33m80\u001b[39m,\n",
      "    dark: \u001b[33mfalse\u001b[39m\n",
      "  },\n",
      "  {\n",
      "    id: \u001b[32m'2bdc5082-d722-43c3-9e42-28f92ef19d12'\u001b[39m,\n",
      "    name: \u001b[32m'Maine Coon'\u001b[39m,\n",
      "    age: \u001b[33m8\u001b[39m,\n",
      "    dark: \u001b[33mtrue\u001b[39m\n",
      "  },\n",
      "  {\n",
      "    id: \u001b[32m'c368afad-4294-477b-812c-126b4bfb7d1f'\u001b[39m,\n",
      "    name: \u001b[32m'Korat'\u001b[39m,\n",
      "    age: \u001b[33m24\u001b[39m,\n",
      "    dark: \u001b[33mfalse\u001b[39m\n",
      "  },\n",
      "  {\n",
      "    id: \u001b[32m'6a6ea4f3-919d-44f7-95cc-e8fcd9fe2b93'\u001b[39m,\n",
      "    name: \u001b[32m'Maine Coon'\u001b[39m,\n",
      "    age: \u001b[33m98\u001b[39m,\n",
      "    dark: \u001b[33mfalse\u001b[39m\n",
      "  },\n",
      "  {\n",
      "    id: \u001b[32m'879cadc3-b7f3-4f5d-b73e-6164b06f1e9a'\u001b[39m,\n",
      "    name: \u001b[32m'Maine Coon'\u001b[39m,\n",
      "    age: \u001b[33m19\u001b[39m,\n",
      "    dark: \u001b[33mfalse\u001b[39m\n",
      "  },\n",
      "  {\n",
      "    id: \u001b[32m'f7e57333-1d86-46cd-8213-33de32f1ed88'\u001b[39m,\n",
      "    name: \u001b[32m'Nebelung'\u001b[39m,\n",
      "    age: \u001b[33m87\u001b[39m,\n",
      "    dark: \u001b[33mtrue\u001b[39m\n",
      "  },\n",
      "  {\n",
      "    id: \u001b[32m'acc11f8e-72a7-444a-8ede-93f5b234c676'\u001b[39m,\n",
      "    name: \u001b[32m'Tonkinese'\u001b[39m,\n",
      "    age: \u001b[33m10\u001b[39m,\n",
      "    dark: \u001b[33mtrue\u001b[39m\n",
      "  },\n",
      "  {\n",
      "    id: \u001b[32m'6d4a6113-3432-4313-84ee-e6d558b56a21'\u001b[39m,\n",
      "    name: \u001b[32m'Siamese'\u001b[39m,\n",
      "    age: \u001b[33m44\u001b[39m,\n",
      "    dark: \u001b[33mfalse\u001b[39m\n",
      "  },\n",
      "  {\n",
      "    id: \u001b[32m'43cb948a-596c-4e6f-816c-8ea102175742'\u001b[39m,\n",
      "    name: \u001b[32m'Turkish Van'\u001b[39m,\n",
      "    age: \u001b[33m83\u001b[39m,\n",
      "    dark: \u001b[33mfalse\u001b[39m\n",
      "  },\n",
      "  {\n",
      "    id: \u001b[32m'8d90d882-0ea4-4834-ad0c-f0c5efbad0af'\u001b[39m,\n",
      "    name: \u001b[32m'Siamese'\u001b[39m,\n",
      "    age: \u001b[33m25\u001b[39m,\n",
      "    dark: \u001b[33mtrue\u001b[39m\n",
      "  },\n",
      "  {\n",
      "    id: \u001b[32m'8d634a36-b393-4044-b023-74b595c48dab'\u001b[39m,\n",
      "    name: \u001b[32m'Ocicat'\u001b[39m,\n",
      "    age: \u001b[33m85\u001b[39m,\n",
      "    dark: \u001b[33mfalse\u001b[39m\n",
      "  },\n",
      "  {\n",
      "    id: \u001b[32m'66e6e53f-67ec-4315-b275-1da2edb1ab1d'\u001b[39m,\n",
      "    name: \u001b[32m'Ragdoll'\u001b[39m,\n",
      "    age: \u001b[33m45\u001b[39m,\n",
      "    dark: \u001b[33mfalse\u001b[39m\n",
      "  },\n",
      "  {\n",
      "    id: \u001b[32m'f7b418ef-c740-4831-89f7-b60024c95dc7'\u001b[39m,\n",
      "    name: \u001b[32m'American Wirehair'\u001b[39m,\n",
      "    age: \u001b[33m6\u001b[39m,\n",
      "    dark: \u001b[33mfalse\u001b[39m\n",
      "  },\n",
      "  {\n",
      "    id: \u001b[32m'6d883f29-2206-4dde-9a60-bf0163318a77'\u001b[39m,\n",
      "    name: \u001b[32m'Manx'\u001b[39m,\n",
      "    age: \u001b[33m88\u001b[39m,\n",
      "    dark: \u001b[33mfalse\u001b[39m\n",
      "  },\n",
      "  {\n",
      "    id: \u001b[32m'7c971b28-7015-4c04-b055-f89358d34a49'\u001b[39m,\n",
      "    name: \u001b[32m'Ocicat'\u001b[39m,\n",
      "    age: \u001b[33m93\u001b[39m,\n",
      "    dark: \u001b[33mfalse\u001b[39m\n",
      "  },\n",
      "  {\n",
      "    id: \u001b[32m'43f7eb67-ab7d-49dd-9572-fec1c2a57ee8'\u001b[39m,\n",
      "    name: \u001b[32m'Donskoy'\u001b[39m,\n",
      "    age: \u001b[33m82\u001b[39m,\n",
      "    dark: \u001b[33mfalse\u001b[39m\n",
      "  },\n",
      "  {\n",
      "    id: \u001b[32m'd261485b-d13d-4d8c-8c00-65ed8f7daeb7'\u001b[39m,\n",
      "    name: \u001b[32m'Selkirk Rex'\u001b[39m,\n",
      "    age: \u001b[33m27\u001b[39m,\n",
      "    dark: \u001b[33mtrue\u001b[39m\n",
      "  },\n",
      "  {\n",
      "    id: \u001b[32m'f9accf55-48fb-414b-8dce-1b373693cf93'\u001b[39m,\n",
      "    name: \u001b[32m'American Shorthair'\u001b[39m,\n",
      "    age: \u001b[33m6\u001b[39m,\n",
      "    dark: \u001b[33mfalse\u001b[39m\n",
      "  },\n",
      "  {\n",
      "    id: \u001b[32m'9da2e3dc-4f13-45df-9f79-9c759806804c'\u001b[39m,\n",
      "    name: \u001b[32m'American Shorthair'\u001b[39m,\n",
      "    age: \u001b[33m16\u001b[39m,\n",
      "    dark: \u001b[33mtrue\u001b[39m\n",
      "  },\n",
      "  {\n",
      "    id: \u001b[32m'0a80492b-c599-4016-b363-b0603471bc11'\u001b[39m,\n",
      "    name: \u001b[32m'Siamese'\u001b[39m,\n",
      "    age: \u001b[33m0\u001b[39m,\n",
      "    dark: \u001b[33mtrue\u001b[39m\n",
      "  },\n",
      "  {\n",
      "    id: \u001b[32m'fe70905b-04a8-4791-8af5-869075bf23df'\u001b[39m,\n",
      "    name: \u001b[32m'Sphynx'\u001b[39m,\n",
      "    age: \u001b[33m31\u001b[39m,\n",
      "    dark: \u001b[33mtrue\u001b[39m\n",
      "  },\n",
      "  {\n",
      "    id: \u001b[32m'eefb326f-1949-49b4-92f6-a289812ca06b'\u001b[39m,\n",
      "    name: \u001b[32m'LaPerm'\u001b[39m,\n",
      "    age: \u001b[33m73\u001b[39m,\n",
      "    dark: \u001b[33mtrue\u001b[39m\n",
      "  },\n",
      "  {\n",
      "    id: \u001b[32m'f084e67d-2c9a-4e42-a58c-2b9e4ed87416'\u001b[39m,\n",
      "    name: \u001b[32m'Balinese'\u001b[39m,\n",
      "    age: \u001b[33m22\u001b[39m,\n",
      "    dark: \u001b[33mfalse\u001b[39m\n",
      "  },\n",
      "  {\n",
      "    id: \u001b[32m'38ccd150-d176-4674-8033-ac74bb6447f1'\u001b[39m,\n",
      "    name: \u001b[32m'Maine Coon'\u001b[39m,\n",
      "    age: \u001b[33m70\u001b[39m,\n",
      "    dark: \u001b[33mtrue\u001b[39m\n",
      "  },\n",
      "  {\n",
      "    id: \u001b[32m'46db780b-5815-4c94-ae38-6d3ac995e51e'\u001b[39m,\n",
      "    name: \u001b[32m'Burmese'\u001b[39m,\n",
      "    age: \u001b[33m26\u001b[39m,\n",
      "    dark: \u001b[33mfalse\u001b[39m\n",
      "  },\n",
      "  {\n",
      "    id: \u001b[32m'e6ff7f2c-2abd-4bf4-93ea-6a0f678a6187'\u001b[39m,\n",
      "    name: \u001b[32m'Bengal'\u001b[39m,\n",
      "    age: \u001b[33m8\u001b[39m,\n",
      "    dark: \u001b[33mtrue\u001b[39m\n",
      "  },\n",
      "  {\n",
      "    id: \u001b[32m'6ff18d86-0637-49b7-81a8-ef0a703007a1'\u001b[39m,\n",
      "    name: \u001b[32m'Selkirk Rex'\u001b[39m,\n",
      "    age: \u001b[33m86\u001b[39m,\n",
      "    dark: \u001b[33mtrue\u001b[39m\n",
      "  },\n",
      "  {\n",
      "    id: \u001b[32m'9c0cfef6-40d2-4b0f-9f9b-0c3cee3d7c73'\u001b[39m,\n",
      "    name: \u001b[32m'Havana'\u001b[39m,\n",
      "    age: \u001b[33m71\u001b[39m,\n",
      "    dark: \u001b[33mfalse\u001b[39m\n",
      "  },\n",
      "  {\n",
      "    id: \u001b[32m'84a4b000-2ab6-42c3-864c-e5c765a85566'\u001b[39m,\n",
      "    name: \u001b[32m'Chartreux'\u001b[39m,\n",
      "    age: \u001b[33m81\u001b[39m,\n",
      "    dark: \u001b[33mfalse\u001b[39m\n",
      "  },\n",
      "  {\n",
      "    id: \u001b[32m'd7cf5b65-3eef-434c-a39d-095c993c0382'\u001b[39m,\n",
      "    name: \u001b[32m'Birman'\u001b[39m,\n",
      "    age: \u001b[33m71\u001b[39m,\n",
      "    dark: \u001b[33mfalse\u001b[39m\n",
      "  },\n",
      "  {\n",
      "    id: \u001b[32m'744baa97-48c1-46f9-8a58-6c8fe9b4fd56'\u001b[39m,\n",
      "    name: \u001b[32m'Sokoke'\u001b[39m,\n",
      "    age: \u001b[33m51\u001b[39m,\n",
      "    dark: \u001b[33mtrue\u001b[39m\n",
      "  },\n",
      "  {\n",
      "    id: \u001b[32m'b392677d-f6d3-4a3a-bdf6-8670ec333247'\u001b[39m,\n",
      "    name: \u001b[32m'Thai'\u001b[39m,\n",
      "    age: \u001b[33m77\u001b[39m,\n",
      "    dark: \u001b[33mtrue\u001b[39m\n",
      "  },\n",
      "  {\n",
      "    id: \u001b[32m'b80eb3f3-4363-4530-a40a-c6add7ac739c'\u001b[39m,\n",
      "    name: \u001b[32m'Balinese'\u001b[39m,\n",
      "    age: \u001b[33m74\u001b[39m,\n",
      "    dark: \u001b[33mtrue\u001b[39m\n",
      "  },\n",
      "  {\n",
      "    id: \u001b[32m'4342f24d-f33b-44a3-89a3-87eca8baab0f'\u001b[39m,\n",
      "    name: \u001b[32m'Peterbald'\u001b[39m,\n",
      "    age: \u001b[33m77\u001b[39m,\n",
      "    dark: \u001b[33mtrue\u001b[39m\n",
      "  },\n",
      "  {\n",
      "    id: \u001b[32m'3e815760-d1fa-455a-ae9e-ccad759b0bdb'\u001b[39m,\n",
      "    name: \u001b[32m'Birman'\u001b[39m,\n",
      "    age: \u001b[33m6\u001b[39m,\n",
      "    dark: \u001b[33mfalse\u001b[39m\n",
      "  },\n",
      "  {\n",
      "    id: \u001b[32m'3ffeaf6e-d7c0-4c14-8ea5-9ad2dac6e46c'\u001b[39m,\n",
      "    name: \u001b[32m'Turkish Van'\u001b[39m,\n",
      "    age: \u001b[33m94\u001b[39m,\n",
      "    dark: \u001b[33mfalse\u001b[39m\n",
      "  },\n",
      "  {\n",
      "    id: \u001b[32m'f7053b7f-bcea-49b2-b566-0234217179be'\u001b[39m,\n",
      "    name: \u001b[32m'Balinese'\u001b[39m,\n",
      "    age: \u001b[33m62\u001b[39m,\n",
      "    dark: \u001b[33mtrue\u001b[39m\n",
      "  },\n",
      "  {\n",
      "    id: \u001b[32m'76d63f51-dd00-4895-bf8f-d2c619f46a5e'\u001b[39m,\n",
      "    name: \u001b[32m'Oriental'\u001b[39m,\n",
      "    age: \u001b[33m36\u001b[39m,\n",
      "    dark: \u001b[33mfalse\u001b[39m\n",
      "  },\n",
      "  {\n",
      "    id: \u001b[32m'083920ff-198f-454c-aa05-0eb24e803854'\u001b[39m,\n",
      "    name: \u001b[32m'Sphynx'\u001b[39m,\n",
      "    age: \u001b[33m62\u001b[39m,\n",
      "    dark: \u001b[33mfalse\u001b[39m\n",
      "  },\n",
      "  {\n",
      "    id: \u001b[32m'5d12960e-09c7-45c7-b6a0-98b4113d7e0d'\u001b[39m,\n",
      "    name: \u001b[32m'Bengal'\u001b[39m,\n",
      "    age: \u001b[33m34\u001b[39m,\n",
      "    dark: \u001b[33mfalse\u001b[39m\n",
      "  },\n",
      "  {\n",
      "    id: \u001b[32m'1956ceb4-3f41-42e2-8f24-0a3e0e972afb'\u001b[39m,\n",
      "    name: \u001b[32m'American Wirehair'\u001b[39m,\n",
      "    age: \u001b[33m10\u001b[39m,\n",
      "    dark: \u001b[33mfalse\u001b[39m\n",
      "  },\n",
      "  {\n",
      "    id: \u001b[32m'e74df7aa-b8a0-4f66-a88c-e69c873e99b6'\u001b[39m,\n",
      "    name: \u001b[32m'Balinese'\u001b[39m,\n",
      "    age: \u001b[33m84\u001b[39m,\n",
      "    dark: \u001b[33mfalse\u001b[39m\n",
      "  },\n",
      "  {\n",
      "    id: \u001b[32m'3ca254ff-8c85-4644-a0f3-75307ff263e7'\u001b[39m,\n",
      "    name: \u001b[32m'American Shorthair'\u001b[39m,\n",
      "    age: \u001b[33m39\u001b[39m,\n",
      "    dark: \u001b[33mfalse\u001b[39m\n",
      "  },\n",
      "  {\n",
      "    id: \u001b[32m'd105e8e3-91a4-49f1-a0b8-af114b731980'\u001b[39m,\n",
      "    name: \u001b[32m'Turkish Van'\u001b[39m,\n",
      "    age: \u001b[33m2\u001b[39m,\n",
      "    dark: \u001b[33mfalse\u001b[39m\n",
      "  },\n",
      "  {\n",
      "    id: \u001b[32m'992c2542-ff0d-4e5a-8d21-6747c1f9a217'\u001b[39m,\n",
      "    name: \u001b[32m'Cornish Rex'\u001b[39m,\n",
      "    age: \u001b[33m44\u001b[39m,\n",
      "    dark: \u001b[33mtrue\u001b[39m\n",
      "  },\n",
      "  {\n",
      "    id: \u001b[32m'284b9ecc-911a-4ecc-a6c9-a5a598cf9c52'\u001b[39m,\n",
      "    name: \u001b[32m'Sphynx'\u001b[39m,\n",
      "    age: \u001b[33m53\u001b[39m,\n",
      "    dark: \u001b[33mtrue\u001b[39m\n",
      "  },\n",
      "  {\n",
      "    id: \u001b[32m'67792167-913f-48fc-8e0d-e50c0da5c4c7'\u001b[39m,\n",
      "    name: \u001b[32m'Chausie'\u001b[39m,\n",
      "    age: \u001b[33m79\u001b[39m,\n",
      "    dark: \u001b[33mfalse\u001b[39m\n",
      "  },\n",
      "  {\n",
      "    id: \u001b[32m'82c44475-eabe-4991-99e3-13be721d72a6'\u001b[39m,\n",
      "    name: \u001b[32m'Pixiebob'\u001b[39m,\n",
      "    age: \u001b[33m29\u001b[39m,\n",
      "    dark: \u001b[33mtrue\u001b[39m\n",
      "  },\n",
      "  {\n",
      "    id: \u001b[32m'd32b7081-b6ce-4f5f-bae2-975f57e9df8d'\u001b[39m,\n",
      "    name: \u001b[32m'Toyger'\u001b[39m,\n",
      "    age: \u001b[33m56\u001b[39m,\n",
      "    dark: \u001b[33mfalse\u001b[39m\n",
      "  },\n",
      "  {\n",
      "    id: \u001b[32m'0f8a5268-6121-429f-804e-0c0c216f5836'\u001b[39m,\n",
      "    name: \u001b[32m'American Shorthair'\u001b[39m,\n",
      "    age: \u001b[33m63\u001b[39m,\n",
      "    dark: \u001b[33mtrue\u001b[39m\n",
      "  },\n",
      "  {\n",
      "    id: \u001b[32m'182dd1b4-8b5f-44e7-97a4-b9049be45089'\u001b[39m,\n",
      "    name: \u001b[32m'Savannah'\u001b[39m,\n",
      "    age: \u001b[33m96\u001b[39m,\n",
      "    dark: \u001b[33mfalse\u001b[39m\n",
      "  },\n",
      "  {\n",
      "    id: \u001b[32m'ad645c6a-dba4-4a2d-9876-6afc88d9a1b4'\u001b[39m,\n",
      "    name: \u001b[32m'Siberian'\u001b[39m,\n",
      "    age: \u001b[33m69\u001b[39m,\n",
      "    dark: \u001b[33mtrue\u001b[39m\n",
      "  },\n",
      "  {\n",
      "    id: \u001b[32m'f385911d-e1ad-4c32-8071-666bd6f05c49'\u001b[39m,\n",
      "    name: \u001b[32m'Siamese'\u001b[39m,\n",
      "    age: \u001b[33m88\u001b[39m,\n",
      "    dark: \u001b[33mfalse\u001b[39m\n",
      "  },\n",
      "  {\n",
      "    id: \u001b[32m'9f271911-414d-4791-ba54-89eeccb04e2b'\u001b[39m,\n",
      "    name: \u001b[32m'Munchkin'\u001b[39m,\n",
      "    age: \u001b[33m26\u001b[39m,\n",
      "    dark: \u001b[33mfalse\u001b[39m\n",
      "  },\n",
      "  {\n",
      "    id: \u001b[32m'cebbf2fe-b242-4d75-87c5-ba1a9669c43a'\u001b[39m,\n",
      "    name: \u001b[32m'Snowshoe'\u001b[39m,\n",
      "    age: \u001b[33m46\u001b[39m,\n",
      "    dark: \u001b[33mtrue\u001b[39m\n",
      "  },\n",
      "  {\n",
      "    id: \u001b[32m'8b0f04e3-f403-46f7-9588-984be8479c46'\u001b[39m,\n",
      "    name: \u001b[32m'American Shorthair'\u001b[39m,\n",
      "    age: \u001b[33m76\u001b[39m,\n",
      "    dark: \u001b[33mtrue\u001b[39m\n",
      "  },\n",
      "  {\n",
      "    id: \u001b[32m'bccf85e7-3db9-4b05-b537-6278491b9689'\u001b[39m,\n",
      "    name: \u001b[32m'Nebelung'\u001b[39m,\n",
      "    age: \u001b[33m77\u001b[39m,\n",
      "    dark: \u001b[33mtrue\u001b[39m\n",
      "  },\n",
      "  {\n",
      "    id: \u001b[32m'cadbf2c6-653d-4aae-a0b5-679181eb1142'\u001b[39m,\n",
      "    name: \u001b[32m'Munchkin'\u001b[39m,\n",
      "    age: \u001b[33m44\u001b[39m,\n",
      "    dark: \u001b[33mtrue\u001b[39m\n",
      "  },\n",
      "  {\n",
      "    id: \u001b[32m'313f6fc9-12e5-4aa1-a39d-083ed2bae4b8'\u001b[39m,\n",
      "    name: \u001b[32m'Donskoy'\u001b[39m,\n",
      "    age: \u001b[33m86\u001b[39m,\n",
      "    dark: \u001b[33mtrue\u001b[39m\n",
      "  },\n",
      "  {\n",
      "    id: \u001b[32m'd4289a52-ac0d-4492-83cf-365eaafae02d'\u001b[39m,\n",
      "    name: \u001b[32m'Ragdoll'\u001b[39m,\n",
      "    age: \u001b[33m54\u001b[39m,\n",
      "    dark: \u001b[33mfalse\u001b[39m\n",
      "  },\n",
      "  {\n",
      "    id: \u001b[32m'b87601b0-52b8-4a52-a7aa-1b18a9633440'\u001b[39m,\n",
      "    name: \u001b[32m'American Curl'\u001b[39m,\n",
      "    age: \u001b[33m74\u001b[39m,\n",
      "    dark: \u001b[33mtrue\u001b[39m\n",
      "  },\n",
      "  {\n",
      "    id: \u001b[32m'2103675e-a922-464f-9148-26d866ec01b4'\u001b[39m,\n",
      "    name: \u001b[32m'Ojos Azules'\u001b[39m,\n",
      "    age: \u001b[33m82\u001b[39m,\n",
      "    dark: \u001b[33mfalse\u001b[39m\n",
      "  },\n",
      "  {\n",
      "    id: \u001b[32m'4fbf1447-a8c2-44d7-b8cd-6d38de86ba07'\u001b[39m,\n",
      "    name: \u001b[32m'American Curl'\u001b[39m,\n",
      "    age: \u001b[33m79\u001b[39m,\n",
      "    dark: \u001b[33mfalse\u001b[39m\n",
      "  },\n",
      "  {\n",
      "    id: \u001b[32m'f3a1a056-63c4-45eb-9876-f1108134996b'\u001b[39m,\n",
      "    name: \u001b[32m'Selkirk Rex'\u001b[39m,\n",
      "    age: \u001b[33m74\u001b[39m,\n",
      "    dark: \u001b[33mtrue\u001b[39m\n",
      "  },\n",
      "  {\n",
      "    id: \u001b[32m'268c8a0a-79ec-4f6e-bf82-c161fc1938b9'\u001b[39m,\n",
      "    name: \u001b[32m'Sokoke'\u001b[39m,\n",
      "    age: \u001b[33m14\u001b[39m,\n",
      "    dark: \u001b[33mtrue\u001b[39m\n",
      "  },\n",
      "  {\n",
      "    id: \u001b[32m'babca149-942f-4dc9-a0b7-761e8742f415'\u001b[39m,\n",
      "    name: \u001b[32m'Kurilian Bobtail'\u001b[39m,\n",
      "    age: \u001b[33m69\u001b[39m,\n",
      "    dark: \u001b[33mfalse\u001b[39m\n",
      "  },\n",
      "  {\n",
      "    id: \u001b[32m'e8accfcc-8618-4422-a1db-c6a2b79ae6ef'\u001b[39m,\n",
      "    name: \u001b[32m'Thai'\u001b[39m,\n",
      "    age: \u001b[33m31\u001b[39m,\n",
      "    dark: \u001b[33mfalse\u001b[39m\n",
      "  }\n",
      "]\n"
     ]
    }
   ],
   "source": [
    "const cats = range(100).map(_ => ({\n",
    "    id: faker.datatype.uuid(),\n",
    "    name: faker.animal.cat(),\n",
    "    age: faker.datatype.number(100),\n",
    "    dark: faker.datatype.boolean() \n",
    "}))\n",
    "cats"
   ]
  },
  {
   "cell_type": "code",
   "execution_count": 23,
   "id": "0899a534-0f86-4594-8778-c64deabf51b0",
   "metadata": {
    "tags": []
   },
   "outputs": [
    {
     "name": "stdout",
     "output_type": "stream",
     "text": [
      "[\n",
      "  \u001b[32m'c45ef680-7d20-4980-a012-d9d86d869ecb'\u001b[39m,\n",
      "  \u001b[32m'97033e7c-4b3b-453c-9e63-25a60653a30e'\u001b[39m,\n",
      "  \u001b[32m'896c1373-c796-4b4a-9caa-c4b4dca101fb'\u001b[39m,\n",
      "  \u001b[32m'907d9f43-99db-40b8-80f8-e22c79817aca'\u001b[39m,\n",
      "  \u001b[32m'8cf7b5d4-27fb-4300-a717-960d1cc4ec73'\u001b[39m,\n",
      "  \u001b[32m'c8e94f13-d9b3-429b-849b-7840f1bef9fa'\u001b[39m,\n",
      "  \u001b[32m'459ba4d0-9569-4d60-a2e8-9aaaf0675451'\u001b[39m,\n",
      "  \u001b[32m'c682a4f8-e846-4cff-9dfa-b5ed20da0b93'\u001b[39m,\n",
      "  \u001b[32m'1fcabec5-5618-46d0-a10f-623198826eeb'\u001b[39m,\n",
      "  \u001b[32m'12aa4775-4f60-4802-84a2-a2020c4cb47c'\u001b[39m,\n",
      "  \u001b[32m'a11d6477-1598-4d12-8052-5f7ab8a728dc'\u001b[39m,\n",
      "  \u001b[32m'c2316009-d204-422a-8797-1be3b94e1b5f'\u001b[39m,\n",
      "  \u001b[32m'df835009-ab24-4821-b027-d64ef72ea772'\u001b[39m\n",
      "]\n"
     ]
    }
   ],
   "source": [
    "cats.filter(x => x.age < 10).map(x => x.id)"
   ]
  },
  {
   "cell_type": "code",
   "execution_count": 24,
   "id": "a8dc243f-9d79-4d11-97f5-d5a65e2fadfc",
   "metadata": {
    "tags": []
   },
   "outputs": [],
   "source": [
    "const findByAge = (list, age) => list.filter(x => x.age < age)"
   ]
  },
  {
   "cell_type": "code",
   "execution_count": 25,
   "id": "0df140aa-370d-4487-8fa8-402d3c69f469",
   "metadata": {
    "tags": []
   },
   "outputs": [
    {
     "name": "stdout",
     "output_type": "stream",
     "text": [
      "[\n",
      "  {\n",
      "    id: \u001b[32m'c45ef680-7d20-4980-a012-d9d86d869ecb'\u001b[39m,\n",
      "    name: \u001b[32m'Sokoke'\u001b[39m,\n",
      "    age: \u001b[33m0\u001b[39m,\n",
      "    dark: \u001b[33mtrue\u001b[39m\n",
      "  },\n",
      "  {\n",
      "    id: \u001b[32m'97033e7c-4b3b-453c-9e63-25a60653a30e'\u001b[39m,\n",
      "    name: \u001b[32m'Thai'\u001b[39m,\n",
      "    age: \u001b[33m4\u001b[39m,\n",
      "    dark: \u001b[33mfalse\u001b[39m\n",
      "  },\n",
      "  {\n",
      "    id: \u001b[32m'896c1373-c796-4b4a-9caa-c4b4dca101fb'\u001b[39m,\n",
      "    name: \u001b[32m'Cornish Rex'\u001b[39m,\n",
      "    age: \u001b[33m7\u001b[39m,\n",
      "    dark: \u001b[33mtrue\u001b[39m\n",
      "  },\n",
      "  {\n",
      "    id: \u001b[32m'907d9f43-99db-40b8-80f8-e22c79817aca'\u001b[39m,\n",
      "    name: \u001b[32m'Snowshoe'\u001b[39m,\n",
      "    age: \u001b[33m5\u001b[39m,\n",
      "    dark: \u001b[33mfalse\u001b[39m\n",
      "  },\n",
      "  {\n",
      "    id: \u001b[32m'8cf7b5d4-27fb-4300-a717-960d1cc4ec73'\u001b[39m,\n",
      "    name: \u001b[32m'Bengal'\u001b[39m,\n",
      "    age: \u001b[33m2\u001b[39m,\n",
      "    dark: \u001b[33mfalse\u001b[39m\n",
      "  },\n",
      "  {\n",
      "    id: \u001b[32m'c8e94f13-d9b3-429b-849b-7840f1bef9fa'\u001b[39m,\n",
      "    name: \u001b[32m'Oriental'\u001b[39m,\n",
      "    age: \u001b[33m1\u001b[39m,\n",
      "    dark: \u001b[33mfalse\u001b[39m\n",
      "  },\n",
      "  {\n",
      "    id: \u001b[32m'459ba4d0-9569-4d60-a2e8-9aaaf0675451'\u001b[39m,\n",
      "    name: \u001b[32m'Manx'\u001b[39m,\n",
      "    age: \u001b[33m5\u001b[39m,\n",
      "    dark: \u001b[33mtrue\u001b[39m\n",
      "  },\n",
      "  {\n",
      "    id: \u001b[32m'c682a4f8-e846-4cff-9dfa-b5ed20da0b93'\u001b[39m,\n",
      "    name: \u001b[32m'Turkish Van'\u001b[39m,\n",
      "    age: \u001b[33m0\u001b[39m,\n",
      "    dark: \u001b[33mtrue\u001b[39m\n",
      "  },\n",
      "  {\n",
      "    id: \u001b[32m'1fcabec5-5618-46d0-a10f-623198826eeb'\u001b[39m,\n",
      "    name: \u001b[32m'Serengeti'\u001b[39m,\n",
      "    age: \u001b[33m3\u001b[39m,\n",
      "    dark: \u001b[33mtrue\u001b[39m\n",
      "  },\n",
      "  {\n",
      "    id: \u001b[32m'12aa4775-4f60-4802-84a2-a2020c4cb47c'\u001b[39m,\n",
      "    name: \u001b[32m'Norwegian Forest Cat'\u001b[39m,\n",
      "    age: \u001b[33m8\u001b[39m,\n",
      "    dark: \u001b[33mfalse\u001b[39m\n",
      "  },\n",
      "  {\n",
      "    id: \u001b[32m'a11d6477-1598-4d12-8052-5f7ab8a728dc'\u001b[39m,\n",
      "    name: \u001b[32m'Burmese'\u001b[39m,\n",
      "    age: \u001b[33m0\u001b[39m,\n",
      "    dark: \u001b[33mtrue\u001b[39m\n",
      "  },\n",
      "  {\n",
      "    id: \u001b[32m'c2316009-d204-422a-8797-1be3b94e1b5f'\u001b[39m,\n",
      "    name: \u001b[32m'Exotic Shorthair'\u001b[39m,\n",
      "    age: \u001b[33m4\u001b[39m,\n",
      "    dark: \u001b[33mfalse\u001b[39m\n",
      "  },\n",
      "  {\n",
      "    id: \u001b[32m'df835009-ab24-4821-b027-d64ef72ea772'\u001b[39m,\n",
      "    name: \u001b[32m'Snowshoe'\u001b[39m,\n",
      "    age: \u001b[33m5\u001b[39m,\n",
      "    dark: \u001b[33mtrue\u001b[39m\n",
      "  }\n",
      "]\n"
     ]
    }
   ],
   "source": [
    "findByAge(cats, 10)"
   ]
  },
  {
   "cell_type": "code",
   "execution_count": 28,
   "id": "e53e54f8-e914-4581-bd3a-49997887784f",
   "metadata": {
    "tags": []
   },
   "outputs": [
    {
     "name": "stdout",
     "output_type": "stream",
     "text": [
      "\n"
     ]
    }
   ],
   "source": [
    "const findByAge = list => age => list.filter(x => x.age < age)\n",
    "\n",
    "//fiterWithAge(cats)(10)\n",
    "findByAge(cats)   (10)\n",
    "''"
   ]
  },
  {
   "cell_type": "code",
   "execution_count": 29,
   "id": "309fbfc1-8a86-4dac-a3a1-4c59e8b6c262",
   "metadata": {
    "tags": []
   },
   "outputs": [],
   "source": [
    "const search = list => text => list.filter(x => x.name.includes(text))"
   ]
  },
  {
   "cell_type": "code",
   "execution_count": 31,
   "id": "e027edcb-60c6-43a6-9778-d3c2bc480491",
   "metadata": {
    "tags": []
   },
   "outputs": [
    {
     "name": "stdout",
     "output_type": "stream",
     "text": [
      "[\n",
      "  {\n",
      "    id: \u001b[32m'7acb6309-eccf-4c1b-bd3d-3c6f5dbcd124'\u001b[39m,\n",
      "    name: \u001b[32m'Singapura'\u001b[39m,\n",
      "    age: \u001b[33m46\u001b[39m,\n",
      "    dark: \u001b[33mtrue\u001b[39m\n",
      "  },\n",
      "  {\n",
      "    id: \u001b[32m'6f299695-28dd-4139-a9e2-f320f37c9b4d'\u001b[39m,\n",
      "    name: \u001b[32m'British Shorthair'\u001b[39m,\n",
      "    age: \u001b[33m89\u001b[39m,\n",
      "    dark: \u001b[33mfalse\u001b[39m\n",
      "  },\n",
      "  {\n",
      "    id: \u001b[32m'9ce922c4-db78-4f43-a150-21d985df1c97'\u001b[39m,\n",
      "    name: \u001b[32m'Selkirk Rex'\u001b[39m,\n",
      "    age: \u001b[33m41\u001b[39m,\n",
      "    dark: \u001b[33mtrue\u001b[39m\n",
      "  },\n",
      "  {\n",
      "    id: \u001b[32m'6462caac-3b47-426d-a25c-16af2f5900ee'\u001b[39m,\n",
      "    name: \u001b[32m'Serengeti'\u001b[39m,\n",
      "    age: \u001b[33m100\u001b[39m,\n",
      "    dark: \u001b[33mtrue\u001b[39m\n",
      "  },\n",
      "  {\n",
      "    id: \u001b[32m'5eeb866a-a819-4062-b7d5-7fc73bd90529'\u001b[39m,\n",
      "    name: \u001b[32m'Sphynx'\u001b[39m,\n",
      "    age: \u001b[33m70\u001b[39m,\n",
      "    dark: \u001b[33mfalse\u001b[39m\n",
      "  },\n",
      "  {\n",
      "    id: \u001b[32m'1ceb3133-f7dd-4122-934e-1e7cb8c9a453'\u001b[39m,\n",
      "    name: \u001b[32m'Selkirk Rex'\u001b[39m,\n",
      "    age: \u001b[33m75\u001b[39m,\n",
      "    dark: \u001b[33mfalse\u001b[39m\n",
      "  },\n",
      "  {\n",
      "    id: \u001b[32m'a923bbab-8ccc-46f9-ac83-54ab76697510'\u001b[39m,\n",
      "    name: \u001b[32m'Scottish Fold'\u001b[39m,\n",
      "    age: \u001b[33m69\u001b[39m,\n",
      "    dark: \u001b[33mfalse\u001b[39m\n",
      "  },\n",
      "  {\n",
      "    id: \u001b[32m'c45ef680-7d20-4980-a012-d9d86d869ecb'\u001b[39m,\n",
      "    name: \u001b[32m'Sokoke'\u001b[39m,\n",
      "    age: \u001b[33m0\u001b[39m,\n",
      "    dark: \u001b[33mtrue\u001b[39m\n",
      "  },\n",
      "  {\n",
      "    id: \u001b[32m'59d73da4-409d-4ce8-a2e1-81e01dc12ce8'\u001b[39m,\n",
      "    name: \u001b[32m'Somali'\u001b[39m,\n",
      "    age: \u001b[33m71\u001b[39m,\n",
      "    dark: \u001b[33mfalse\u001b[39m\n",
      "  },\n",
      "  {\n",
      "    id: \u001b[32m'436003d7-3508-4f38-89a9-6d9fbb774422'\u001b[39m,\n",
      "    name: \u001b[32m'Sokoke'\u001b[39m,\n",
      "    age: \u001b[33m98\u001b[39m,\n",
      "    dark: \u001b[33mtrue\u001b[39m\n",
      "  },\n",
      "  {\n",
      "    id: \u001b[32m'b0a7c0ed-4226-4895-90d7-6b3be75ae213'\u001b[39m,\n",
      "    name: \u001b[32m'American Shorthair'\u001b[39m,\n",
      "    age: \u001b[33m55\u001b[39m,\n",
      "    dark: \u001b[33mtrue\u001b[39m\n",
      "  },\n",
      "  {\n",
      "    id: \u001b[32m'907d9f43-99db-40b8-80f8-e22c79817aca'\u001b[39m,\n",
      "    name: \u001b[32m'Snowshoe'\u001b[39m,\n",
      "    age: \u001b[33m5\u001b[39m,\n",
      "    dark: \u001b[33mfalse\u001b[39m\n",
      "  },\n",
      "  {\n",
      "    id: \u001b[32m'a3273066-cdc6-4f96-b590-614bff4893ba'\u001b[39m,\n",
      "    name: \u001b[32m'American Shorthair'\u001b[39m,\n",
      "    age: \u001b[33m99\u001b[39m,\n",
      "    dark: \u001b[33mtrue\u001b[39m\n",
      "  },\n",
      "  {\n",
      "    id: \u001b[32m'a10b5d1d-b058-467c-9b00-95d710325a1d'\u001b[39m,\n",
      "    name: \u001b[32m'Sokoke'\u001b[39m,\n",
      "    age: \u001b[33m40\u001b[39m,\n",
      "    dark: \u001b[33mfalse\u001b[39m\n",
      "  },\n",
      "  {\n",
      "    id: \u001b[32m'331d04a9-c34e-46a7-84df-0c79a7970c5d'\u001b[39m,\n",
      "    name: \u001b[32m'Selkirk Rex'\u001b[39m,\n",
      "    age: \u001b[33m91\u001b[39m,\n",
      "    dark: \u001b[33mfalse\u001b[39m\n",
      "  },\n",
      "  {\n",
      "    id: \u001b[32m'1f5db659-0dbe-4111-b65b-a5b5242aa1f4'\u001b[39m,\n",
      "    name: \u001b[32m'Sphynx'\u001b[39m,\n",
      "    age: \u001b[33m54\u001b[39m,\n",
      "    dark: \u001b[33mfalse\u001b[39m\n",
      "  },\n",
      "  {\n",
      "    id: \u001b[32m'98c6053a-b8df-42ca-b4f2-4def240282b2'\u001b[39m,\n",
      "    name: \u001b[32m'Scottish Fold'\u001b[39m,\n",
      "    age: \u001b[33m47\u001b[39m,\n",
      "    dark: \u001b[33mtrue\u001b[39m\n",
      "  },\n",
      "  {\n",
      "    id: \u001b[32m'3fc85b56-d705-415b-83f5-080922acb0fb'\u001b[39m,\n",
      "    name: \u001b[32m'Exotic Shorthair'\u001b[39m,\n",
      "    age: \u001b[33m85\u001b[39m,\n",
      "    dark: \u001b[33mfalse\u001b[39m\n",
      "  },\n",
      "  {\n",
      "    id: \u001b[32m'b87254d2-e53c-4e49-9bf3-b6affe17b06b'\u001b[39m,\n",
      "    name: \u001b[32m'British Shorthair'\u001b[39m,\n",
      "    age: \u001b[33m19\u001b[39m,\n",
      "    dark: \u001b[33mfalse\u001b[39m\n",
      "  },\n",
      "  {\n",
      "    id: \u001b[32m'e479eb81-49f5-412b-99b5-a8b908550b5f'\u001b[39m,\n",
      "    name: \u001b[32m'Scottish Fold'\u001b[39m,\n",
      "    age: \u001b[33m54\u001b[39m,\n",
      "    dark: \u001b[33mfalse\u001b[39m\n",
      "  },\n",
      "  {\n",
      "    id: \u001b[32m'f33650a4-9cff-4bcb-ba0d-264b2dc37a33'\u001b[39m,\n",
      "    name: \u001b[32m'Serengeti'\u001b[39m,\n",
      "    age: \u001b[33m51\u001b[39m,\n",
      "    dark: \u001b[33mfalse\u001b[39m\n",
      "  },\n",
      "  {\n",
      "    id: \u001b[32m'1fcabec5-5618-46d0-a10f-623198826eeb'\u001b[39m,\n",
      "    name: \u001b[32m'Serengeti'\u001b[39m,\n",
      "    age: \u001b[33m3\u001b[39m,\n",
      "    dark: \u001b[33mtrue\u001b[39m\n",
      "  },\n",
      "  {\n",
      "    id: \u001b[32m'ed3f2cab-84bf-42ce-88dd-fb1691cc520f'\u001b[39m,\n",
      "    name: \u001b[32m'Siamese'\u001b[39m,\n",
      "    age: \u001b[33m73\u001b[39m,\n",
      "    dark: \u001b[33mtrue\u001b[39m\n",
      "  },\n",
      "  {\n",
      "    id: \u001b[32m'0338c9eb-ba34-487a-9571-3ca59f251f37'\u001b[39m,\n",
      "    name: \u001b[32m'Exotic Shorthair'\u001b[39m,\n",
      "    age: \u001b[33m44\u001b[39m,\n",
      "    dark: \u001b[33mfalse\u001b[39m\n",
      "  },\n",
      "  {\n",
      "    id: \u001b[32m'5462ee40-d552-4fa2-8f3c-eb03704611a1'\u001b[39m,\n",
      "    name: \u001b[32m'Selkirk Rex'\u001b[39m,\n",
      "    age: \u001b[33m86\u001b[39m,\n",
      "    dark: \u001b[33mfalse\u001b[39m\n",
      "  },\n",
      "  {\n",
      "    id: \u001b[32m'c2316009-d204-422a-8797-1be3b94e1b5f'\u001b[39m,\n",
      "    name: \u001b[32m'Exotic Shorthair'\u001b[39m,\n",
      "    age: \u001b[33m4\u001b[39m,\n",
      "    dark: \u001b[33mfalse\u001b[39m\n",
      "  },\n",
      "  {\n",
      "    id: \u001b[32m'df835009-ab24-4821-b027-d64ef72ea772'\u001b[39m,\n",
      "    name: \u001b[32m'Snowshoe'\u001b[39m,\n",
      "    age: \u001b[33m5\u001b[39m,\n",
      "    dark: \u001b[33mtrue\u001b[39m\n",
      "  }\n",
      "]\n"
     ]
    }
   ],
   "source": [
    "//search(cats)('S')\n",
    "search(cats)('S')"
   ]
  },
  {
   "cell_type": "code",
   "execution_count": 32,
   "id": "2b559e89-25b4-41d4-b270-04adeee66b05",
   "metadata": {
    "tags": []
   },
   "outputs": [],
   "source": [
    "const fiindByAgeAndSearch = (list, age, text) => search(findByAge(list)(age))(text)"
   ]
  },
  {
   "cell_type": "code",
   "execution_count": 34,
   "id": "5071ac44-533b-4c8d-a049-4bd7e42beea0",
   "metadata": {
    "tags": []
   },
   "outputs": [
    {
     "name": "stdout",
     "output_type": "stream",
     "text": [
      "\n"
     ]
    }
   ],
   "source": [
    " fiindByAgeAndSearch(cats, 10, 'S')\n",
    "''"
   ]
  },
  {
   "cell_type": "code",
   "execution_count": 37,
   "id": "eebf009f-2aaf-4773-bde4-9baa03d3e61b",
   "metadata": {
    "tags": []
   },
   "outputs": [],
   "source": [
    "const findByAge = age => list => list.filter(x => x.age < age)\n",
    "const search = text => list => list.filter(x => x.name.includes(text))"
   ]
  },
  {
   "cell_type": "code",
   "execution_count": 38,
   "id": "c74c3f44-996d-4c01-b4f2-358472529776",
   "metadata": {
    "tags": []
   },
   "outputs": [],
   "source": [
    "const fiindByAgeAndSearch = (age, text) => compose(search(text), findByAge(age))"
   ]
  },
  {
   "cell_type": "code",
   "execution_count": null,
   "id": "dfe42778-301a-4ac7-af85-da598d69a501",
   "metadata": {
    "tags": []
   },
   "outputs": [],
   "source": [
    "fiindByAgeAndSearch(10, 'S')(cats)"
   ]
  },
  {
   "cell_type": "markdown",
   "id": "9818be89-89fc-4541-9a18-844cea8baad3",
   "metadata": {},
   "source": [
    "### datalast"
   ]
  },
  {
   "cell_type": "code",
   "execution_count": 39,
   "id": "1f84bf72-48e2-4c3b-adf7-80b0155af5c0",
   "metadata": {
    "tags": []
   },
   "outputs": [],
   "source": [
    "const filter = f => list => list.filter(f)\n",
    "const map = f => list => list.map(f)\n",
    "const take = n => list => list.slice(0, n)"
   ]
  },
  {
   "cell_type": "code",
   "execution_count": 40,
   "id": "243184c3-f089-41c7-a6e8-1d1e2b94b049",
   "metadata": {
    "tags": []
   },
   "outputs": [],
   "source": [
    "const compose = (a, b, c) => x => a(b(c(x))) "
   ]
  },
  {
   "cell_type": "code",
   "execution_count": 42,
   "id": "9f8f6f34-81bc-4dac-af3d-9acfd4d0801e",
   "metadata": {
    "tags": []
   },
   "outputs": [],
   "source": [
    "const get2DarkCatsWithS = compose(\n",
    "    take(4),\n",
    "    filter(x => x.name.includes('S')),\n",
    "    filter(x => x.dark),\n",
    ")"
   ]
  },
  {
   "cell_type": "code",
   "execution_count": 43,
   "id": "90682a34-044c-4edf-8739-b972cc09f7c1",
   "metadata": {
    "tags": []
   },
   "outputs": [
    {
     "name": "stdout",
     "output_type": "stream",
     "text": [
      "[\n",
      "  {\n",
      "    id: \u001b[32m'7acb6309-eccf-4c1b-bd3d-3c6f5dbcd124'\u001b[39m,\n",
      "    name: \u001b[32m'Singapura'\u001b[39m,\n",
      "    age: \u001b[33m46\u001b[39m,\n",
      "    dark: \u001b[33mtrue\u001b[39m\n",
      "  },\n",
      "  {\n",
      "    id: \u001b[32m'9ce922c4-db78-4f43-a150-21d985df1c97'\u001b[39m,\n",
      "    name: \u001b[32m'Selkirk Rex'\u001b[39m,\n",
      "    age: \u001b[33m41\u001b[39m,\n",
      "    dark: \u001b[33mtrue\u001b[39m\n",
      "  },\n",
      "  {\n",
      "    id: \u001b[32m'6462caac-3b47-426d-a25c-16af2f5900ee'\u001b[39m,\n",
      "    name: \u001b[32m'Serengeti'\u001b[39m,\n",
      "    age: \u001b[33m100\u001b[39m,\n",
      "    dark: \u001b[33mtrue\u001b[39m\n",
      "  },\n",
      "  {\n",
      "    id: \u001b[32m'c45ef680-7d20-4980-a012-d9d86d869ecb'\u001b[39m,\n",
      "    name: \u001b[32m'Sokoke'\u001b[39m,\n",
      "    age: \u001b[33m0\u001b[39m,\n",
      "    dark: \u001b[33mtrue\u001b[39m\n",
      "  }\n",
      "]\n"
     ]
    }
   ],
   "source": [
    "get2DarkCatsWithS(cats)"
   ]
  },
  {
   "cell_type": "markdown",
   "id": "9aac81fc-c4e8-47d2-b047-ac77b6611fee",
   "metadata": {},
   "source": [
    "## use ramda"
   ]
  },
  {
   "cell_type": "code",
   "execution_count": 44,
   "id": "abab47a6-bbc6-4af5-9bec-75b65a332cf2",
   "metadata": {
    "tags": []
   },
   "outputs": [],
   "source": [
    "const { map, filter, compose, prop, take, pick, sortBy } = require('ramda')"
   ]
  },
  {
   "cell_type": "markdown",
   "id": "d0c4d8d1-80b3-4180-9dc3-caac8e52b227",
   "metadata": {},
   "source": [
    "### transform data"
   ]
  },
  {
   "cell_type": "code",
   "execution_count": 46,
   "id": "b1b17a94-bc51-416b-8ff2-08ad496c4d83",
   "metadata": {
    "tags": []
   },
   "outputs": [
    {
     "name": "stdout",
     "output_type": "stream",
     "text": [
      "\n"
     ]
    }
   ],
   "source": [
    "cats\n",
    "''"
   ]
  },
  {
   "cell_type": "code",
   "execution_count": 49,
   "id": "023afe4f-4e74-4ec5-ba2e-061e5acd3c82",
   "metadata": {
    "tags": []
   },
   "outputs": [
    {
     "name": "stdout",
     "output_type": "stream",
     "text": [
      "\n"
     ]
    }
   ],
   "source": [
    "\n",
    "const transform = map(pick(['id', 'name']))\n",
    " transform(cats)\n",
    "''"
   ]
  },
  {
   "cell_type": "code",
   "execution_count": 51,
   "id": "d042b1f1-2538-4cd8-b74f-c6e8195ee582",
   "metadata": {
    "tags": []
   },
   "outputs": [
    {
     "name": "stdout",
     "output_type": "stream",
     "text": [
      "\n"
     ]
    }
   ],
   "source": [
    "const getData = compose(\n",
    "    take(5),\n",
    "    map(pick(['id', 'name'])),\n",
    "    sortBy(prop('age')),\n",
    "    filter(x => x.age > 10)\n",
    ")\n",
    "\n",
    "getData(cats)\n",
    "''"
   ]
  },
  {
   "cell_type": "markdown",
   "id": "458863a3-7236-4713-8507-4288b7c3a48a",
   "metadata": {
    "tags": []
   },
   "source": [
    "### curry"
   ]
  },
  {
   "cell_type": "code",
   "execution_count": 52,
   "id": "766ff908-270d-4b38-ba3c-c7f4dccd9efd",
   "metadata": {
    "tags": []
   },
   "outputs": [
    {
     "name": "stdout",
     "output_type": "stream",
     "text": [
      "\u001b[33m6\u001b[39m\n"
     ]
    }
   ],
   "source": [
    "const add = a => b => c => a + b + c\n",
    "add(1)(2)(3)"
   ]
  },
  {
   "cell_type": "code",
   "execution_count": 54,
   "id": "fc285c17-cdb3-4900-acd6-88b133df6268",
   "metadata": {
    "tags": []
   },
   "outputs": [],
   "source": [
    "const { curry } = require('ramda')"
   ]
  },
  {
   "cell_type": "code",
   "execution_count": 55,
   "id": "90f987f9-3c95-4c97-8a2a-479c9b72a6e6",
   "metadata": {
    "tags": []
   },
   "outputs": [
    {
     "name": "stdout",
     "output_type": "stream",
     "text": [
      "\u001b[33m6\u001b[39m\n"
     ]
    }
   ],
   "source": [
    "const add = curry((a, b, c) => a + b + c)\n",
    "add(1, 2, 3)\n",
    "add(1, 2)            (3)\n",
    "add(1)          (2, 3)\n",
    "add(1)    (2)  (3)"
   ]
  },
  {
   "cell_type": "markdown",
   "id": "154afa5c-2c79-4612-b15c-7941f60a3ec8",
   "metadata": {},
   "source": [
    "## 组合动作函数"
   ]
  },
  {
   "cell_type": "markdown",
   "id": "1c06020b-6ac3-44e3-b5b5-39b3b048664d",
   "metadata": {},
   "source": [
    "### schema node"
   ]
  },
  {
   "cell_type": "code",
   "execution_count": null,
   "id": "a6174290-47fc-433a-8e80-202880e6ba2f",
   "metadata": {
    "tags": []
   },
   "outputs": [],
   "source": [
    "const beforeFlow = {\n",
    "    type: 'Flow',\n",
    "    name: 'Validate',\n",
    "    props: {\n",
    "        // 这里只是演示，实际中不需要，直接实现成 breakOnFirst即可满足需求\n",
    "        breakOnFirst: true,\n",
    "    },\n",
    "    children: [\n",
    "        {\n",
    "            type: 'Action',\n",
    "            name: 'ValidateData',\n",
    "            props: {\n",
    "              // 规则选择器的属性值\n",
    "            }\n",
    "        },\n",
    "        \n",
    "        {\n",
    "            type: 'Action',\n",
    "            name: 'InvokeService',\n",
    "            props: {\n",
    "                serviceKey: 'xxx',\n",
    "            }\n",
    "        }\n",
    "    ]\n",
    "}"
   ]
  },
  {
   "cell_type": "code",
   "execution_count": null,
   "id": "444ade36-0092-4cde-9e80-91aaca759440",
   "metadata": {
    "tags": []
   },
   "outputs": [],
   "source": [
    "const computeFlow = {\n",
    "    type: 'Flow',\n",
    "    name: 'Compute',\n",
    "    props: {\n",
    "        parallel: true,\n",
    "    },\n",
    "    children: [\n",
    "        {\n",
    "            type: 'Action',\n",
    "            name: 'InvokeService',\n",
    "            props: {\n",
    "                serviceKey: 'loadProducts',\n",
    "            }\n",
    "        },\n",
    "        {\n",
    "            // 工作流\n",
    "            type: 'Action',\n",
    "            name: 'InvokeFlow',\n",
    "            props: {\n",
    "                flowKey: 'notifyDingding'\n",
    "            }\n",
    "        }\n",
    "    ]\n",
    "}"
   ]
  },
  {
   "cell_type": "markdown",
   "id": "82bf7639-19df-4b18-88c7-f722f03c86af",
   "metadata": {},
   "source": [
    "### 动作的函数类型"
   ]
  },
  {
   "cell_type": "markdown",
   "id": "20c323f1-33d4-4473-99a5-8b313affb61b",
   "metadata": {},
   "source": [
    "#### 可组合: curry, datalast, arity 1"
   ]
  },
  {
   "cell_type": "code",
   "execution_count": 56,
   "id": "1818a4ec-f4ae-47b9-a4d6-b0cbde2f5488",
   "metadata": {
    "tags": []
   },
   "outputs": [],
   "source": [
    "const invokeService = props => ctx => {\n",
    "    \n",
    "}\n",
    "\n",
    "const invokeFlow = props => ctx => {\n",
    "}\n",
    "\n",
    "// or\n",
    "const validateData = (a, b, c) => ctx => {\n",
    "}"
   ]
  },
  {
   "cell_type": "markdown",
   "id": "6cdb31aa-6ac7-42fd-ab22-c7fe8058ad3a",
   "metadata": {},
   "source": [
    "#### async"
   ]
  },
  {
   "cell_type": "code",
   "execution_count": 57,
   "id": "1438819f-8547-4a66-a057-43ae2ace064a",
   "metadata": {
    "tags": []
   },
   "outputs": [],
   "source": [
    "const sleep = n => new Promise(r => setTimeout(r, n))\n",
    "\n",
    "const invokeService = props => async ctx => {\n",
    "    await sleep(300)\n",
    "    console.log('invoke service, props: %o, ctx: %o', props, ctx)\n",
    "    return { serviceKey: props.serviceKey, param: props.param, route: ctx.route }\n",
    "}"
   ]
  },
  {
   "cell_type": "code",
   "execution_count": 58,
   "id": "3346ee44-d34b-4e7d-8a70-94d7014665ff",
   "metadata": {
    "tags": []
   },
   "outputs": [],
   "source": [
    "const invokeFlow = props => async ctx => {\n",
    "    await sleep(300)\n",
    "    console.log('invoke flow, props: %o, ctx: %o', props, ctx)\n",
    "    return { flowKey: props.flowKey, route: ctx.route }\n",
    "}"
   ]
  },
  {
   "cell_type": "code",
   "execution_count": 59,
   "id": "054b9f5b-4761-44c5-9465-d0dadd89e3a7",
   "metadata": {
    "tags": []
   },
   "outputs": [],
   "source": [
    "const ctx = {\n",
    "    record: { id: '1', name: 'iphone' },\n",
    "    route: { module: 'products', action: 'show' }\n",
    "}"
   ]
  },
  {
   "cell_type": "markdown",
   "id": "d60b87ca-c6f1-4c4c-a72e-642de283e3d6",
   "metadata": {
    "tags": []
   },
   "source": [
    "#### test\n",
    "\n",
    "The code should be written that easy to test, but ideally it should not require testing."
   ]
  },
  {
   "cell_type": "code",
   "execution_count": 60,
   "id": "58cf541e-7ca9-4587-b0ad-42a165c7f61c",
   "metadata": {
    "tags": []
   },
   "outputs": [
    {
     "name": "stdout",
     "output_type": "stream",
     "text": [
      "invoke service, props: { serviceKey: \u001b[32m'xxxbbb'\u001b[39m, param: \u001b[32m'123'\u001b[39m }, ctx: {\n",
      "  record: { id: \u001b[32m'1'\u001b[39m, name: \u001b[32m'iphone'\u001b[39m },\n",
      "  route: { module: \u001b[32m'products'\u001b[39m, action: \u001b[32m'show'\u001b[39m }\n",
      "}\n",
      "{\n",
      "  serviceKey: \u001b[32m'xxxbbb'\u001b[39m,\n",
      "  param: \u001b[32m'123'\u001b[39m,\n",
      "  route: { module: \u001b[32m'products'\u001b[39m, action: \u001b[32m'show'\u001b[39m }\n",
      "}\n"
     ]
    }
   ],
   "source": [
    "await invokeService({ serviceKey: 'xxxbbb', param: '123' })(ctx)"
   ]
  },
  {
   "cell_type": "markdown",
   "id": "81efd514-4395-4e35-82af-fba36610fdd4",
   "metadata": {},
   "source": [
    "## 实现Flow\n",
    "\n",
    "- 动作的组合"
   ]
  },
  {
   "cell_type": "code",
   "execution_count": null,
   "id": "f4d5088b-12ae-46c8-aef2-e517d631c5a8",
   "metadata": {
    "tags": []
   },
   "outputs": [],
   "source": [
    "const computeFlow = {\n",
    "    type: 'Flow',\n",
    "    name: 'Compute',\n",
    "    props: {\n",
    "        parallel: true,\n",
    "    },\n",
    "    children: [\n",
    "        {\n",
    "            type: 'Action',\n",
    "            name: 'InvokeService',\n",
    "            props: {\n",
    "                serviceKey: 'loadProduct',\n",
    "                param: 1,\n",
    "            }\n",
    "        },\n",
    "        {\n",
    "            type: 'Action',\n",
    "            name: 'InvokeService',\n",
    "            props: {\n",
    "                serviceKey: 'loadProduct',\n",
    "                param: 2,\n",
    "            }\n",
    "        },\n",
    "        {\n",
    "            // 工作流\n",
    "            type: 'Action',\n",
    "            name: 'InvokeFlow',\n",
    "            props: {\n",
    "                flowKey: 'notifyDingding'\n",
    "            }\n",
    "        }\n",
    "    ]\n",
    "}"
   ]
  },
  {
   "cell_type": "markdown",
   "id": "acb602f8-44a9-4448-8fdd-0036cadab008",
   "metadata": {
    "tags": []
   },
   "source": [
    "函数即数据， 将上述结构转成函数"
   ]
  },
  {
   "cell_type": "code",
   "execution_count": 61,
   "id": "de2ac0f7-e475-4e20-a2d7-06b993f6c96d",
   "metadata": {
    "tags": []
   },
   "outputs": [],
   "source": [
    "const Actions = {\n",
    "  InvokeService: invokeService,\n",
    "  InvokeFlow: invokeFlow\n",
    "}\n",
    "\n",
    "// dispatch method\n"
   ]
  },
  {
   "cell_type": "code",
   "execution_count": 62,
   "id": "2c076b74-2456-493c-93e8-0176755b1b1d",
   "metadata": {
    "tags": []
   },
   "outputs": [
    {
     "name": "stdout",
     "output_type": "stream",
     "text": [
      "{\n",
      "  InvokeService: \u001b[36m[Function: invokeService]\u001b[39m,\n",
      "  InvokeFlow: \u001b[36m[Function: invokeFlow]\u001b[39m\n",
      "}\n"
     ]
    }
   ],
   "source": [
    "Actions"
   ]
  },
  {
   "cell_type": "code",
   "execution_count": 63,
   "id": "e8469816-c0a2-49ab-a6d0-88393ab84e02",
   "metadata": {
    "tags": []
   },
   "outputs": [
    {
     "name": "stdout",
     "output_type": "stream",
     "text": [
      "{\n",
      "  type: \u001b[32m'Flow'\u001b[39m,\n",
      "  name: \u001b[32m'Compute'\u001b[39m,\n",
      "  props: { parallel: \u001b[33mtrue\u001b[39m },\n",
      "  children: [\n",
      "    { type: \u001b[32m'Action'\u001b[39m, name: \u001b[32m'InvokeService'\u001b[39m, props: \u001b[36m[Object]\u001b[39m },\n",
      "    { type: \u001b[32m'Action'\u001b[39m, name: \u001b[32m'InvokeFlow'\u001b[39m, props: \u001b[36m[Object]\u001b[39m }\n",
      "  ]\n",
      "}\n"
     ]
    }
   ],
   "source": [
    "computeFlow"
   ]
  },
  {
   "cell_type": "code",
   "execution_count": 64,
   "id": "0078316d-0d60-4442-8069-78db84a781c9",
   "metadata": {
    "tags": []
   },
   "outputs": [],
   "source": [
    "const fns = computeFlow.children.map(child => Actions[child.name](child.props))"
   ]
  },
  {
   "cell_type": "code",
   "execution_count": 65,
   "id": "63137280-e694-41c7-81b1-406e12f11825",
   "metadata": {
    "tags": []
   },
   "outputs": [
    {
     "name": "stdout",
     "output_type": "stream",
     "text": [
      "[ \u001b[36m[AsyncFunction (anonymous)]\u001b[39m, \u001b[36m[AsyncFunction (anonymous)]\u001b[39m ]\n"
     ]
    }
   ],
   "source": [
    "fns"
   ]
  },
  {
   "cell_type": "code",
   "execution_count": 66,
   "id": "5321f9ba-f8ab-4595-8b77-d225daa7b905",
   "metadata": {
    "tags": []
   },
   "outputs": [],
   "source": [
    "type Context = unknown\n",
    "type ActionFn = (ctx: Context) => unknown"
   ]
  },
  {
   "cell_type": "markdown",
   "id": "2c046ed8-2492-4439-895c-dc4dafaa48a7",
   "metadata": {
    "tags": []
   },
   "source": [
    "### Flow的函数类型"
   ]
  },
  {
   "cell_type": "code",
   "execution_count": null,
   "id": "77a1b5f3-53be-478e-ad9c-240256f2b920",
   "metadata": {
    "tags": []
   },
   "outputs": [],
   "source": [
    "type Dict = Record<string, unknown>\n",
    "const compute = (props: Dict, children: ActionFn[]) => async (ctx: Context) => {\n",
    "  \n",
    "}"
   ]
  },
  {
   "cell_type": "markdown",
   "id": "e13dc07e-7105-45f1-bd78-fff81715e7d9",
   "metadata": {},
   "source": [
    "### 并行 & map"
   ]
  },
  {
   "cell_type": "code",
   "execution_count": 67,
   "id": "b79a62b0-1e10-405a-9bc1-d8423f547870",
   "metadata": {},
   "outputs": [],
   "source": [
    "const compute = (props, children) => async ctx => {\n",
    "    return Promise.all(children.map(fn => fn(ctx))) \n",
    "}"
   ]
  },
  {
   "cell_type": "code",
   "execution_count": 68,
   "id": "d62ea1fb-e7e8-4c66-8f32-f95d4b4d8eea",
   "metadata": {},
   "outputs": [
    {
     "name": "stdout",
     "output_type": "stream",
     "text": [
      "invoke service, props: { serviceKey: \u001b[32m'loadProducts'\u001b[39m }, ctx: {\n",
      "  record: { id: \u001b[32m'1'\u001b[39m, name: \u001b[32m'iphone'\u001b[39m },\n",
      "  route: { module: \u001b[32m'products'\u001b[39m, action: \u001b[32m'show'\u001b[39m }\n",
      "}\n",
      "invoke flow, props: { flowKey: \u001b[32m'notifyDingding'\u001b[39m }, ctx: {\n",
      "  record: { id: \u001b[32m'1'\u001b[39m, name: \u001b[32m'iphone'\u001b[39m },\n",
      "  route: { module: \u001b[32m'products'\u001b[39m, action: \u001b[32m'show'\u001b[39m }\n",
      "}\n",
      "[\n",
      "  {\n",
      "    serviceKey: \u001b[32m'loadProducts'\u001b[39m,\n",
      "    param: \u001b[90mundefined\u001b[39m,\n",
      "    route: { module: \u001b[32m'products'\u001b[39m, action: \u001b[32m'show'\u001b[39m }\n",
      "  },\n",
      "  {\n",
      "    flowKey: \u001b[32m'notifyDingding'\u001b[39m,\n",
      "    route: { module: \u001b[32m'products'\u001b[39m, action: \u001b[32m'show'\u001b[39m }\n",
      "  }\n",
      "]\n"
     ]
    }
   ],
   "source": [
    "await compute({}, fns)(ctx)"
   ]
  },
  {
   "cell_type": "markdown",
   "id": "b23cb8f0-aef6-446e-80a9-98dfd4053e86",
   "metadata": {
    "tags": []
   },
   "source": [
    "### 串行 & reduce"
   ]
  },
  {
   "cell_type": "code",
   "execution_count": 69,
   "id": "800723a4-ab16-4352-bf67-45617b01ebab",
   "metadata": {},
   "outputs": [],
   "source": [
    "const compute = (props, children) => async ctx => {\n",
    "    // for, push. pop,\n",
    "    return children.reduce((promise, fn) => promise.then(x => fn({ ...ctx, ...x })), Promise.resolve({}))\n",
    "}"
   ]
  },
  {
   "cell_type": "code",
   "execution_count": 70,
   "id": "669885e7-40fc-4910-b24d-5106c1cef394",
   "metadata": {},
   "outputs": [
    {
     "name": "stdout",
     "output_type": "stream",
     "text": [
      "invoke service, props: { serviceKey: \u001b[32m'loadProducts'\u001b[39m }, ctx: {\n",
      "  record: { id: \u001b[32m'1'\u001b[39m, name: \u001b[32m'iphone'\u001b[39m },\n",
      "  route: { module: \u001b[32m'products'\u001b[39m, action: \u001b[32m'show'\u001b[39m }\n",
      "}\n",
      "invoke flow, props: { flowKey: \u001b[32m'notifyDingding'\u001b[39m }, ctx: {\n",
      "  record: { id: \u001b[32m'1'\u001b[39m, name: \u001b[32m'iphone'\u001b[39m },\n",
      "  route: { module: \u001b[32m'products'\u001b[39m, action: \u001b[32m'show'\u001b[39m },\n",
      "  serviceKey: \u001b[32m'loadProducts'\u001b[39m,\n",
      "  param: \u001b[90mundefined\u001b[39m\n",
      "}\n",
      "{\n",
      "  flowKey: \u001b[32m'notifyDingding'\u001b[39m,\n",
      "  route: { module: \u001b[32m'products'\u001b[39m, action: \u001b[32m'show'\u001b[39m }\n",
      "}\n"
     ]
    }
   ],
   "source": [
    "await compute({}, fns)(ctx)"
   ]
  },
  {
   "cell_type": "markdown",
   "id": "767949db-7265-4701-8556-407cfadde247",
   "metadata": {},
   "source": [
    "more reducer"
   ]
  },
  {
   "cell_type": "code",
   "execution_count": 71,
   "id": "6bd33bee-f723-4de7-8313-6c0824d7f13e",
   "metadata": {
    "tags": []
   },
   "outputs": [],
   "source": [
    "// v => v\n",
    "// (a, v) => a\n",
    "const list = range(100).map(_ => Math.random())"
   ]
  },
  {
   "cell_type": "code",
   "execution_count": null,
   "id": "9a12d082-715f-4206-81f4-97e81ce0cfc3",
   "metadata": {
    "tags": []
   },
   "outputs": [],
   "source": [
    "// list"
   ]
  },
  {
   "cell_type": "code",
   "execution_count": 72,
   "id": "f79979ce-08e8-4304-bffe-5558c8e118aa",
   "metadata": {
    "tags": []
   },
   "outputs": [
    {
     "name": "stdout",
     "output_type": "stream",
     "text": [
      "\u001b[33m51.72279016685944\u001b[39m\n"
     ]
    }
   ],
   "source": [
    "list.reduce((acc, item) => acc + item, 0)"
   ]
  },
  {
   "cell_type": "code",
   "execution_count": null,
   "id": "17741390-54eb-4d73-b679-f13d00f4b38e",
   "metadata": {
    "tags": []
   },
   "outputs": [],
   "source": [
    "// cats"
   ]
  },
  {
   "cell_type": "code",
   "execution_count": 74,
   "id": "8e2c8d45-f891-45f6-9c01-6d1eaf91d3a8",
   "metadata": {
    "tags": []
   },
   "outputs": [
    {
     "name": "stdout",
     "output_type": "stream",
     "text": [
      "{\n",
      "  \u001b[32m'0'\u001b[39m: [\n",
      "    {\n",
      "      id: \u001b[32m'c45ef680-7d20-4980-a012-d9d86d869ecb'\u001b[39m,\n",
      "      name: \u001b[32m'Sokoke'\u001b[39m,\n",
      "      age: \u001b[33m0\u001b[39m,\n",
      "      dark: \u001b[33mtrue\u001b[39m\n",
      "    },\n",
      "    {\n",
      "      id: \u001b[32m'c682a4f8-e846-4cff-9dfa-b5ed20da0b93'\u001b[39m,\n",
      "      name: \u001b[32m'Turkish Van'\u001b[39m,\n",
      "      age: \u001b[33m0\u001b[39m,\n",
      "      dark: \u001b[33mtrue\u001b[39m\n",
      "    },\n",
      "    {\n",
      "      id: \u001b[32m'a11d6477-1598-4d12-8052-5f7ab8a728dc'\u001b[39m,\n",
      "      name: \u001b[32m'Burmese'\u001b[39m,\n",
      "      age: \u001b[33m0\u001b[39m,\n",
      "      dark: \u001b[33mtrue\u001b[39m\n",
      "    }\n",
      "  ],\n",
      "  \u001b[32m'1'\u001b[39m: [\n",
      "    {\n",
      "      id: \u001b[32m'c8e94f13-d9b3-429b-849b-7840f1bef9fa'\u001b[39m,\n",
      "      name: \u001b[32m'Oriental'\u001b[39m,\n",
      "      age: \u001b[33m1\u001b[39m,\n",
      "      dark: \u001b[33mfalse\u001b[39m\n",
      "    }\n",
      "  ],\n",
      "  \u001b[32m'2'\u001b[39m: [\n",
      "    {\n",
      "      id: \u001b[32m'8cf7b5d4-27fb-4300-a717-960d1cc4ec73'\u001b[39m,\n",
      "      name: \u001b[32m'Bengal'\u001b[39m,\n",
      "      age: \u001b[33m2\u001b[39m,\n",
      "      dark: \u001b[33mfalse\u001b[39m\n",
      "    }\n",
      "  ],\n",
      "  \u001b[32m'3'\u001b[39m: [\n",
      "    {\n",
      "      id: \u001b[32m'1fcabec5-5618-46d0-a10f-623198826eeb'\u001b[39m,\n",
      "      name: \u001b[32m'Serengeti'\u001b[39m,\n",
      "      age: \u001b[33m3\u001b[39m,\n",
      "      dark: \u001b[33mtrue\u001b[39m\n",
      "    }\n",
      "  ],\n",
      "  \u001b[32m'4'\u001b[39m: [\n",
      "    {\n",
      "      id: \u001b[32m'97033e7c-4b3b-453c-9e63-25a60653a30e'\u001b[39m,\n",
      "      name: \u001b[32m'Thai'\u001b[39m,\n",
      "      age: \u001b[33m4\u001b[39m,\n",
      "      dark: \u001b[33mfalse\u001b[39m\n",
      "    },\n",
      "    {\n",
      "      id: \u001b[32m'c2316009-d204-422a-8797-1be3b94e1b5f'\u001b[39m,\n",
      "      name: \u001b[32m'Exotic Shorthair'\u001b[39m,\n",
      "      age: \u001b[33m4\u001b[39m,\n",
      "      dark: \u001b[33mfalse\u001b[39m\n",
      "    }\n",
      "  ],\n",
      "  \u001b[32m'5'\u001b[39m: [\n",
      "    {\n",
      "      id: \u001b[32m'907d9f43-99db-40b8-80f8-e22c79817aca'\u001b[39m,\n",
      "      name: \u001b[32m'Snowshoe'\u001b[39m,\n",
      "      age: \u001b[33m5\u001b[39m,\n",
      "      dark: \u001b[33mfalse\u001b[39m\n",
      "    },\n",
      "    {\n",
      "      id: \u001b[32m'459ba4d0-9569-4d60-a2e8-9aaaf0675451'\u001b[39m,\n",
      "      name: \u001b[32m'Manx'\u001b[39m,\n",
      "      age: \u001b[33m5\u001b[39m,\n",
      "      dark: \u001b[33mtrue\u001b[39m\n",
      "    },\n",
      "    {\n",
      "      id: \u001b[32m'df835009-ab24-4821-b027-d64ef72ea772'\u001b[39m,\n",
      "      name: \u001b[32m'Snowshoe'\u001b[39m,\n",
      "      age: \u001b[33m5\u001b[39m,\n",
      "      dark: \u001b[33mtrue\u001b[39m\n",
      "    }\n",
      "  ],\n",
      "  \u001b[32m'7'\u001b[39m: [\n",
      "    {\n",
      "      id: \u001b[32m'896c1373-c796-4b4a-9caa-c4b4dca101fb'\u001b[39m,\n",
      "      name: \u001b[32m'Cornish Rex'\u001b[39m,\n",
      "      age: \u001b[33m7\u001b[39m,\n",
      "      dark: \u001b[33mtrue\u001b[39m\n",
      "    }\n",
      "  ],\n",
      "  \u001b[32m'8'\u001b[39m: [\n",
      "    {\n",
      "      id: \u001b[32m'12aa4775-4f60-4802-84a2-a2020c4cb47c'\u001b[39m,\n",
      "      name: \u001b[32m'Norwegian Forest Cat'\u001b[39m,\n",
      "      age: \u001b[33m8\u001b[39m,\n",
      "      dark: \u001b[33mfalse\u001b[39m\n",
      "    }\n",
      "  ],\n",
      "  \u001b[32m'12'\u001b[39m: [\n",
      "    {\n",
      "      id: \u001b[32m'843f889e-bb45-46d4-bdaf-f92e76557733'\u001b[39m,\n",
      "      name: \u001b[32m'Burmese'\u001b[39m,\n",
      "      age: \u001b[33m12\u001b[39m,\n",
      "      dark: \u001b[33mfalse\u001b[39m\n",
      "    }\n",
      "  ],\n",
      "  \u001b[32m'18'\u001b[39m: [\n",
      "    {\n",
      "      id: \u001b[32m'a3e5c086-e5ec-4152-a5d9-6cf54d62c64f'\u001b[39m,\n",
      "      name: \u001b[32m'Munchkin'\u001b[39m,\n",
      "      age: \u001b[33m18\u001b[39m,\n",
      "      dark: \u001b[33mtrue\u001b[39m\n",
      "    },\n",
      "    {\n",
      "      id: \u001b[32m'76ab2d54-5598-47ac-9f92-819a090bf037'\u001b[39m,\n",
      "      name: \u001b[32m'American Curl'\u001b[39m,\n",
      "      age: \u001b[33m18\u001b[39m,\n",
      "      dark: \u001b[33mtrue\u001b[39m\n",
      "    }\n",
      "  ],\n",
      "  \u001b[32m'19'\u001b[39m: [\n",
      "    {\n",
      "      id: \u001b[32m'323ac6a9-3748-48de-93c9-be76ac89836a'\u001b[39m,\n",
      "      name: \u001b[32m'Donskoy'\u001b[39m,\n",
      "      age: \u001b[33m19\u001b[39m,\n",
      "      dark: \u001b[33mtrue\u001b[39m\n",
      "    },\n",
      "    {\n",
      "      id: \u001b[32m'b87254d2-e53c-4e49-9bf3-b6affe17b06b'\u001b[39m,\n",
      "      name: \u001b[32m'British Shorthair'\u001b[39m,\n",
      "      age: \u001b[33m19\u001b[39m,\n",
      "      dark: \u001b[33mfalse\u001b[39m\n",
      "    }\n",
      "  ],\n",
      "  \u001b[32m'20'\u001b[39m: [\n",
      "    {\n",
      "      id: \u001b[32m'39ff24a7-35ae-4b50-beeb-d34100e28b5c'\u001b[39m,\n",
      "      name: \u001b[32m'Thai'\u001b[39m,\n",
      "      age: \u001b[33m20\u001b[39m,\n",
      "      dark: \u001b[33mtrue\u001b[39m\n",
      "    }\n",
      "  ],\n",
      "  \u001b[32m'23'\u001b[39m: [\n",
      "    {\n",
      "      id: \u001b[32m'323ac891-a332-44bf-a0e1-4a6a8e934eca'\u001b[39m,\n",
      "      name: \u001b[32m'Pixiebob'\u001b[39m,\n",
      "      age: \u001b[33m23\u001b[39m,\n",
      "      dark: \u001b[33mfalse\u001b[39m\n",
      "    },\n",
      "    {\n",
      "      id: \u001b[32m'ff15f59c-dfae-41ea-a7bf-9be085c5c1e5'\u001b[39m,\n",
      "      name: \u001b[32m'Egyptian Mau'\u001b[39m,\n",
      "      age: \u001b[33m23\u001b[39m,\n",
      "      dark: \u001b[33mfalse\u001b[39m\n",
      "    }\n",
      "  ],\n",
      "  \u001b[32m'24'\u001b[39m: [\n",
      "    {\n",
      "      id: \u001b[32m'72b16c1b-fe46-465e-9034-7a4c35f20ea0'\u001b[39m,\n",
      "      name: \u001b[32m'Birman'\u001b[39m,\n",
      "      age: \u001b[33m24\u001b[39m,\n",
      "      dark: \u001b[33mfalse\u001b[39m\n",
      "    },\n",
      "    {\n",
      "      id: \u001b[32m'f1fd5529-dadb-42ac-8db3-bc37f92d88d9'\u001b[39m,\n",
      "      name: \u001b[32m'Havana'\u001b[39m,\n",
      "      age: \u001b[33m24\u001b[39m,\n",
      "      dark: \u001b[33mtrue\u001b[39m\n",
      "    }\n",
      "  ],\n",
      "  \u001b[32m'26'\u001b[39m: [\n",
      "    {\n",
      "      id: \u001b[32m'eb942f33-b3ec-43d0-ad2e-18e88ad0c96e'\u001b[39m,\n",
      "      name: \u001b[32m'Havana'\u001b[39m,\n",
      "      age: \u001b[33m26\u001b[39m,\n",
      "      dark: \u001b[33mfalse\u001b[39m\n",
      "    }\n",
      "  ],\n",
      "  \u001b[32m'29'\u001b[39m: [\n",
      "    {\n",
      "      id: \u001b[32m'23620351-8f3a-4958-8d80-955ff53d56b5'\u001b[39m,\n",
      "      name: \u001b[32m'Korat'\u001b[39m,\n",
      "      age: \u001b[33m29\u001b[39m,\n",
      "      dark: \u001b[33mtrue\u001b[39m\n",
      "    },\n",
      "    {\n",
      "      id: \u001b[32m'43536617-72bf-4fc2-a45d-aef1112afe6c'\u001b[39m,\n",
      "      name: \u001b[32m'Burmese'\u001b[39m,\n",
      "      age: \u001b[33m29\u001b[39m,\n",
      "      dark: \u001b[33mtrue\u001b[39m\n",
      "    },\n",
      "    {\n",
      "      id: \u001b[32m'7897e172-e83f-48ff-90f4-c4a4bfe63281'\u001b[39m,\n",
      "      name: \u001b[32m'Japanese Bobtail'\u001b[39m,\n",
      "      age: \u001b[33m29\u001b[39m,\n",
      "      dark: \u001b[33mtrue\u001b[39m\n",
      "    }\n",
      "  ],\n",
      "  \u001b[32m'32'\u001b[39m: [\n",
      "    {\n",
      "      id: \u001b[32m'e4b21d2e-c0df-400d-a428-86aab00e0143'\u001b[39m,\n",
      "      name: \u001b[32m'Korat'\u001b[39m,\n",
      "      age: \u001b[33m32\u001b[39m,\n",
      "      dark: \u001b[33mfalse\u001b[39m\n",
      "    }\n",
      "  ],\n",
      "  \u001b[32m'36'\u001b[39m: [\n",
      "    {\n",
      "      id: \u001b[32m'666e4974-b385-41cc-a16d-6c8614c9d2a1'\u001b[39m,\n",
      "      name: \u001b[32m'Chartreux'\u001b[39m,\n",
      "      age: \u001b[33m36\u001b[39m,\n",
      "      dark: \u001b[33mfalse\u001b[39m\n",
      "    }\n",
      "  ],\n",
      "  \u001b[32m'39'\u001b[39m: [\n",
      "    {\n",
      "      id: \u001b[32m'663cd233-41a3-44ba-8245-6873f57baedc'\u001b[39m,\n",
      "      name: \u001b[32m'Devon Rex'\u001b[39m,\n",
      "      age: \u001b[33m39\u001b[39m,\n",
      "      dark: \u001b[33mfalse\u001b[39m\n",
      "    }\n",
      "  ],\n",
      "  \u001b[32m'40'\u001b[39m: [\n",
      "    {\n",
      "      id: \u001b[32m'a10b5d1d-b058-467c-9b00-95d710325a1d'\u001b[39m,\n",
      "      name: \u001b[32m'Sokoke'\u001b[39m,\n",
      "      age: \u001b[33m40\u001b[39m,\n",
      "      dark: \u001b[33mfalse\u001b[39m\n",
      "    }\n",
      "  ],\n",
      "  \u001b[32m'41'\u001b[39m: [\n",
      "    {\n",
      "      id: \u001b[32m'9ce922c4-db78-4f43-a150-21d985df1c97'\u001b[39m,\n",
      "      name: \u001b[32m'Selkirk Rex'\u001b[39m,\n",
      "      age: \u001b[33m41\u001b[39m,\n",
      "      dark: \u001b[33mtrue\u001b[39m\n",
      "    }\n",
      "  ],\n",
      "  \u001b[32m'42'\u001b[39m: [\n",
      "    {\n",
      "      id: \u001b[32m'890d7131-7a40-4aee-bcb8-dead9511cacd'\u001b[39m,\n",
      "      name: \u001b[32m'Japanese Bobtail'\u001b[39m,\n",
      "      age: \u001b[33m42\u001b[39m,\n",
      "      dark: \u001b[33mfalse\u001b[39m\n",
      "    }\n",
      "  ],\n",
      "  \u001b[32m'44'\u001b[39m: [\n",
      "    {\n",
      "      id: \u001b[32m'0338c9eb-ba34-487a-9571-3ca59f251f37'\u001b[39m,\n",
      "      name: \u001b[32m'Exotic Shorthair'\u001b[39m,\n",
      "      age: \u001b[33m44\u001b[39m,\n",
      "      dark: \u001b[33mfalse\u001b[39m\n",
      "    }\n",
      "  ],\n",
      "  \u001b[32m'45'\u001b[39m: [\n",
      "    {\n",
      "      id: \u001b[32m'84e9aa8c-e8b4-4c9a-92dd-96124c35731d'\u001b[39m,\n",
      "      name: \u001b[32m'Turkish Van'\u001b[39m,\n",
      "      age: \u001b[33m45\u001b[39m,\n",
      "      dark: \u001b[33mtrue\u001b[39m\n",
      "    },\n",
      "    {\n",
      "      id: \u001b[32m'554f6f42-9154-488b-90f4-7b59efdb070b'\u001b[39m,\n",
      "      name: \u001b[32m'Ojos Azules'\u001b[39m,\n",
      "      age: \u001b[33m45\u001b[39m,\n",
      "      dark: \u001b[33mfalse\u001b[39m\n",
      "    }\n",
      "  ],\n",
      "  \u001b[32m'46'\u001b[39m: [\n",
      "    {\n",
      "      id: \u001b[32m'f220d7c5-527d-4b29-965a-134ee9fda533'\u001b[39m,\n",
      "      name: \u001b[32m'Kurilian Bobtail'\u001b[39m,\n",
      "      age: \u001b[33m46\u001b[39m,\n",
      "      dark: \u001b[33mtrue\u001b[39m\n",
      "    },\n",
      "    {\n",
      "      id: \u001b[32m'7acb6309-eccf-4c1b-bd3d-3c6f5dbcd124'\u001b[39m,\n",
      "      name: \u001b[32m'Singapura'\u001b[39m,\n",
      "      age: \u001b[33m46\u001b[39m,\n",
      "      dark: \u001b[33mtrue\u001b[39m\n",
      "    }\n",
      "  ],\n",
      "  \u001b[32m'47'\u001b[39m: [\n",
      "    {\n",
      "      id: \u001b[32m'98c6053a-b8df-42ca-b4f2-4def240282b2'\u001b[39m,\n",
      "      name: \u001b[32m'Scottish Fold'\u001b[39m,\n",
      "      age: \u001b[33m47\u001b[39m,\n",
      "      dark: \u001b[33mtrue\u001b[39m\n",
      "    }\n",
      "  ],\n",
      "  \u001b[32m'48'\u001b[39m: [\n",
      "    {\n",
      "      id: \u001b[32m'4b1575ff-664b-452c-8f0e-f8a43cc55591'\u001b[39m,\n",
      "      name: \u001b[32m'Ocicat'\u001b[39m,\n",
      "      age: \u001b[33m48\u001b[39m,\n",
      "      dark: \u001b[33mtrue\u001b[39m\n",
      "    },\n",
      "    {\n",
      "      id: \u001b[32m'84d0c13d-981f-468b-ae77-a1972ff9b1aa'\u001b[39m,\n",
      "      name: \u001b[32m'Thai'\u001b[39m,\n",
      "      age: \u001b[33m48\u001b[39m,\n",
      "      dark: \u001b[33mtrue\u001b[39m\n",
      "    }\n",
      "  ],\n",
      "  \u001b[32m'50'\u001b[39m: [\n",
      "    {\n",
      "      id: \u001b[32m'7280d5de-6990-4476-b4ad-5e7fb3568c6a'\u001b[39m,\n",
      "      name: \u001b[32m'Japanese Bobtail'\u001b[39m,\n",
      "      age: \u001b[33m50\u001b[39m,\n",
      "      dark: \u001b[33mtrue\u001b[39m\n",
      "    }\n",
      "  ],\n",
      "  \u001b[32m'51'\u001b[39m: [\n",
      "    {\n",
      "      id: \u001b[32m'767b39ff-c1be-4ad2-922d-ba093e8243b4'\u001b[39m,\n",
      "      name: \u001b[32m'Toyger'\u001b[39m,\n",
      "      age: \u001b[33m51\u001b[39m,\n",
      "      dark: \u001b[33mfalse\u001b[39m\n",
      "    },\n",
      "    {\n",
      "      id: \u001b[32m'f33650a4-9cff-4bcb-ba0d-264b2dc37a33'\u001b[39m,\n",
      "      name: \u001b[32m'Serengeti'\u001b[39m,\n",
      "      age: \u001b[33m51\u001b[39m,\n",
      "      dark: \u001b[33mfalse\u001b[39m\n",
      "    },\n",
      "    {\n",
      "      id: \u001b[32m'21f0a547-8ad1-4207-ba1a-e77ac7226930'\u001b[39m,\n",
      "      name: \u001b[32m'Thai'\u001b[39m,\n",
      "      age: \u001b[33m51\u001b[39m,\n",
      "      dark: \u001b[33mfalse\u001b[39m\n",
      "    }\n",
      "  ],\n",
      "  \u001b[32m'52'\u001b[39m: [\n",
      "    {\n",
      "      id: \u001b[32m'1cb2e158-455e-4ee0-befd-ec24b11b3d6b'\u001b[39m,\n",
      "      name: \u001b[32m'Balinese'\u001b[39m,\n",
      "      age: \u001b[33m52\u001b[39m,\n",
      "      dark: \u001b[33mfalse\u001b[39m\n",
      "    },\n",
      "    {\n",
      "      id: \u001b[32m'707c3353-137b-4860-ae15-512e6e572717'\u001b[39m,\n",
      "      name: \u001b[32m'Peterbald'\u001b[39m,\n",
      "      age: \u001b[33m52\u001b[39m,\n",
      "      dark: \u001b[33mtrue\u001b[39m\n",
      "    }\n",
      "  ],\n",
      "  \u001b[32m'54'\u001b[39m: [\n",
      "    {\n",
      "      id: \u001b[32m'2e676ec1-2b57-47cd-a7c6-c07c2e81a842'\u001b[39m,\n",
      "      name: \u001b[32m'Minskin'\u001b[39m,\n",
      "      age: \u001b[33m54\u001b[39m,\n",
      "      dark: \u001b[33mfalse\u001b[39m\n",
      "    },\n",
      "    {\n",
      "      id: \u001b[32m'1f5db659-0dbe-4111-b65b-a5b5242aa1f4'\u001b[39m,\n",
      "      name: \u001b[32m'Sphynx'\u001b[39m,\n",
      "      age: \u001b[33m54\u001b[39m,\n",
      "      dark: \u001b[33mfalse\u001b[39m\n",
      "    },\n",
      "    {\n",
      "      id: \u001b[32m'e479eb81-49f5-412b-99b5-a8b908550b5f'\u001b[39m,\n",
      "      name: \u001b[32m'Scottish Fold'\u001b[39m,\n",
      "      age: \u001b[33m54\u001b[39m,\n",
      "      dark: \u001b[33mfalse\u001b[39m\n",
      "    }\n",
      "  ],\n",
      "  \u001b[32m'55'\u001b[39m: [\n",
      "    {\n",
      "      id: \u001b[32m'b0a7c0ed-4226-4895-90d7-6b3be75ae213'\u001b[39m,\n",
      "      name: \u001b[32m'American Shorthair'\u001b[39m,\n",
      "      age: \u001b[33m55\u001b[39m,\n",
      "      dark: \u001b[33mtrue\u001b[39m\n",
      "    }\n",
      "  ],\n",
      "  \u001b[32m'57'\u001b[39m: [\n",
      "    {\n",
      "      id: \u001b[32m'939de3c7-9c8d-47bb-8dc2-9399c0a68dcf'\u001b[39m,\n",
      "      name: \u001b[32m'Tonkinese'\u001b[39m,\n",
      "      age: \u001b[33m57\u001b[39m,\n",
      "      dark: \u001b[33mtrue\u001b[39m\n",
      "    }\n",
      "  ],\n",
      "  \u001b[32m'58'\u001b[39m: [\n",
      "    {\n",
      "      id: \u001b[32m'd23eb1f8-12a7-4086-966d-c9d8bca05518'\u001b[39m,\n",
      "      name: \u001b[32m'Abyssinian'\u001b[39m,\n",
      "      age: \u001b[33m58\u001b[39m,\n",
      "      dark: \u001b[33mtrue\u001b[39m\n",
      "    }\n",
      "  ],\n",
      "  \u001b[32m'60'\u001b[39m: [\n",
      "    {\n",
      "      id: \u001b[32m'67b6f935-9f9c-4f6f-b9a2-8b73e8708fb1'\u001b[39m,\n",
      "      name: \u001b[32m'Peterbald'\u001b[39m,\n",
      "      age: \u001b[33m60\u001b[39m,\n",
      "      dark: \u001b[33mtrue\u001b[39m\n",
      "    },\n",
      "    {\n",
      "      id: \u001b[32m'1fb74de8-9ebb-44d2-b939-97d0a6d24f28'\u001b[39m,\n",
      "      name: \u001b[32m'Munchkin'\u001b[39m,\n",
      "      age: \u001b[33m60\u001b[39m,\n",
      "      dark: \u001b[33mfalse\u001b[39m\n",
      "    },\n",
      "    {\n",
      "      id: \u001b[32m'728f8258-3831-497e-b11d-6edd178a3647'\u001b[39m,\n",
      "      name: \u001b[32m'Nebelung'\u001b[39m,\n",
      "      age: \u001b[33m60\u001b[39m,\n",
      "      dark: \u001b[33mfalse\u001b[39m\n",
      "    }\n",
      "  ],\n",
      "  \u001b[32m'61'\u001b[39m: [\n",
      "    {\n",
      "      id: \u001b[32m'5e9affba-89b9-4829-83b0-c2571d602cea'\u001b[39m,\n",
      "      name: \u001b[32m'Cornish Rex'\u001b[39m,\n",
      "      age: \u001b[33m61\u001b[39m,\n",
      "      dark: \u001b[33mfalse\u001b[39m\n",
      "    }\n",
      "  ],\n",
      "  \u001b[32m'62'\u001b[39m: [\n",
      "    {\n",
      "      id: \u001b[32m'7caacad9-b472-4060-8be9-cf7f837020a1'\u001b[39m,\n",
      "      name: \u001b[32m'Korat'\u001b[39m,\n",
      "      age: \u001b[33m62\u001b[39m,\n",
      "      dark: \u001b[33mfalse\u001b[39m\n",
      "    }\n",
      "  ],\n",
      "  \u001b[32m'63'\u001b[39m: [\n",
      "    {\n",
      "      id: \u001b[32m'5fc88fcd-0680-4c24-8261-ded6abe742b3'\u001b[39m,\n",
      "      name: \u001b[32m'Donskoy'\u001b[39m,\n",
      "      age: \u001b[33m63\u001b[39m,\n",
      "      dark: \u001b[33mtrue\u001b[39m\n",
      "    },\n",
      "    {\n",
      "      id: \u001b[32m'0055f40b-786d-4be8-8ba6-58389076f8ff'\u001b[39m,\n",
      "      name: \u001b[32m'Bombay'\u001b[39m,\n",
      "      age: \u001b[33m63\u001b[39m,\n",
      "      dark: \u001b[33mfalse\u001b[39m\n",
      "    }\n",
      "  ],\n",
      "  \u001b[32m'64'\u001b[39m: [\n",
      "    {\n",
      "      id: \u001b[32m'fddd65b7-8072-4ce5-9232-f4810d6b4cdd'\u001b[39m,\n",
      "      name: \u001b[32m'American Bobtail'\u001b[39m,\n",
      "      age: \u001b[33m64\u001b[39m,\n",
      "      dark: \u001b[33mfalse\u001b[39m\n",
      "    }\n",
      "  ],\n",
      "  \u001b[32m'68'\u001b[39m: [\n",
      "    {\n",
      "      id: \u001b[32m'203f1fe0-5872-4d4e-a124-1e3fc0fccc7c'\u001b[39m,\n",
      "      name: \u001b[32m'LaPerm'\u001b[39m,\n",
      "      age: \u001b[33m68\u001b[39m,\n",
      "      dark: \u001b[33mtrue\u001b[39m\n",
      "    }\n",
      "  ],\n",
      "  \u001b[32m'69'\u001b[39m: [\n",
      "    {\n",
      "      id: \u001b[32m'a923bbab-8ccc-46f9-ac83-54ab76697510'\u001b[39m,\n",
      "      name: \u001b[32m'Scottish Fold'\u001b[39m,\n",
      "      age: \u001b[33m69\u001b[39m,\n",
      "      dark: \u001b[33mfalse\u001b[39m\n",
      "    },\n",
      "    {\n",
      "      id: \u001b[32m'39e2030c-1f60-47b9-9e02-576db80765e6'\u001b[39m,\n",
      "      name: \u001b[32m'Manx'\u001b[39m,\n",
      "      age: \u001b[33m69\u001b[39m,\n",
      "      dark: \u001b[33mtrue\u001b[39m\n",
      "    },\n",
      "    {\n",
      "      id: \u001b[32m'b9d8cf61-cde7-4145-a64d-2fb3fb1860f8'\u001b[39m,\n",
      "      name: \u001b[32m'Munchkin'\u001b[39m,\n",
      "      age: \u001b[33m69\u001b[39m,\n",
      "      dark: \u001b[33mtrue\u001b[39m\n",
      "    }\n",
      "  ],\n",
      "  \u001b[32m'70'\u001b[39m: [\n",
      "    {\n",
      "      id: \u001b[32m'5eeb866a-a819-4062-b7d5-7fc73bd90529'\u001b[39m,\n",
      "      name: \u001b[32m'Sphynx'\u001b[39m,\n",
      "      age: \u001b[33m70\u001b[39m,\n",
      "      dark: \u001b[33mfalse\u001b[39m\n",
      "    }\n",
      "  ],\n",
      "  \u001b[32m'71'\u001b[39m: [\n",
      "    {\n",
      "      id: \u001b[32m'59d73da4-409d-4ce8-a2e1-81e01dc12ce8'\u001b[39m,\n",
      "      name: \u001b[32m'Somali'\u001b[39m,\n",
      "      age: \u001b[33m71\u001b[39m,\n",
      "      dark: \u001b[33mfalse\u001b[39m\n",
      "    }\n",
      "  ],\n",
      "  \u001b[32m'72'\u001b[39m: [\n",
      "    {\n",
      "      id: \u001b[32m'e43f6f4c-0b21-494e-ab50-dcebd34d24fa'\u001b[39m,\n",
      "      name: \u001b[32m'Devon Rex'\u001b[39m,\n",
      "      age: \u001b[33m72\u001b[39m,\n",
      "      dark: \u001b[33mtrue\u001b[39m\n",
      "    }\n",
      "  ],\n",
      "  \u001b[32m'73'\u001b[39m: [\n",
      "    {\n",
      "      id: \u001b[32m'c46c8c15-5c4e-4d1c-9306-0ce5ac6f2122'\u001b[39m,\n",
      "      name: \u001b[32m'Havana'\u001b[39m,\n",
      "      age: \u001b[33m73\u001b[39m,\n",
      "      dark: \u001b[33mfalse\u001b[39m\n",
      "    },\n",
      "    {\n",
      "      id: \u001b[32m'62053092-e0e3-4ba8-b76b-6105ffbbbacf'\u001b[39m,\n",
      "      name: \u001b[32m'Chartreux'\u001b[39m,\n",
      "      age: \u001b[33m73\u001b[39m,\n",
      "      dark: \u001b[33mtrue\u001b[39m\n",
      "    },\n",
      "    {\n",
      "      id: \u001b[32m'ed3f2cab-84bf-42ce-88dd-fb1691cc520f'\u001b[39m,\n",
      "      name: \u001b[32m'Siamese'\u001b[39m,\n",
      "      age: \u001b[33m73\u001b[39m,\n",
      "      dark: \u001b[33mtrue\u001b[39m\n",
      "    },\n",
      "    {\n",
      "      id: \u001b[32m'196cfc46-97f3-4853-8716-2f5e38083443'\u001b[39m,\n",
      "      name: \u001b[32m'Turkish Van'\u001b[39m,\n",
      "      age: \u001b[33m73\u001b[39m,\n",
      "      dark: \u001b[33mfalse\u001b[39m\n",
      "    }\n",
      "  ],\n",
      "  \u001b[32m'75'\u001b[39m: [\n",
      "    {\n",
      "      id: \u001b[32m'1ceb3133-f7dd-4122-934e-1e7cb8c9a453'\u001b[39m,\n",
      "      name: \u001b[32m'Selkirk Rex'\u001b[39m,\n",
      "      age: \u001b[33m75\u001b[39m,\n",
      "      dark: \u001b[33mfalse\u001b[39m\n",
      "    },\n",
      "    {\n",
      "      id: \u001b[32m'9945a2bd-8a66-44f4-96a2-55cbc9de9dc1'\u001b[39m,\n",
      "      name: \u001b[32m'Balinese'\u001b[39m,\n",
      "      age: \u001b[33m75\u001b[39m,\n",
      "      dark: \u001b[33mfalse\u001b[39m\n",
      "    }\n",
      "  ],\n",
      "  \u001b[32m'78'\u001b[39m: [\n",
      "    {\n",
      "      id: \u001b[32m'78fa6bee-804f-4959-b940-6429bc158f71'\u001b[39m,\n",
      "      name: \u001b[32m'Balinese'\u001b[39m,\n",
      "      age: \u001b[33m78\u001b[39m,\n",
      "      dark: \u001b[33mtrue\u001b[39m\n",
      "    }\n",
      "  ],\n",
      "  \u001b[32m'80'\u001b[39m: [\n",
      "    {\n",
      "      id: \u001b[32m'abb57937-f1f7-4588-a8b5-e19da3b6c7b1'\u001b[39m,\n",
      "      name: \u001b[32m'Maine Coon'\u001b[39m,\n",
      "      age: \u001b[33m80\u001b[39m,\n",
      "      dark: \u001b[33mfalse\u001b[39m\n",
      "    }\n",
      "  ],\n",
      "  \u001b[32m'83'\u001b[39m: [\n",
      "    {\n",
      "      id: \u001b[32m'd42473ed-e96d-4a6d-b9d9-fb22a40c7b11'\u001b[39m,\n",
      "      name: \u001b[32m'Nebelung'\u001b[39m,\n",
      "      age: \u001b[33m83\u001b[39m,\n",
      "      dark: \u001b[33mfalse\u001b[39m\n",
      "    }\n",
      "  ],\n",
      "  \u001b[32m'85'\u001b[39m: [\n",
      "    {\n",
      "      id: \u001b[32m'3fc85b56-d705-415b-83f5-080922acb0fb'\u001b[39m,\n",
      "      name: \u001b[32m'Exotic Shorthair'\u001b[39m,\n",
      "      age: \u001b[33m85\u001b[39m,\n",
      "      dark: \u001b[33mfalse\u001b[39m\n",
      "    },\n",
      "    {\n",
      "      id: \u001b[32m'5f515773-2976-4891-ad01-85caa6a5ecdd'\u001b[39m,\n",
      "      name: \u001b[32m'Ocicat'\u001b[39m,\n",
      "      age: \u001b[33m85\u001b[39m,\n",
      "      dark: \u001b[33mfalse\u001b[39m\n",
      "    }\n",
      "  ],\n",
      "  \u001b[32m'86'\u001b[39m: [\n",
      "    {\n",
      "      id: \u001b[32m'2e8fc3d3-7b4d-4121-b4e2-f1eab778183d'\u001b[39m,\n",
      "      name: \u001b[32m'Havana'\u001b[39m,\n",
      "      age: \u001b[33m86\u001b[39m,\n",
      "      dark: \u001b[33mfalse\u001b[39m\n",
      "    },\n",
      "    {\n",
      "      id: \u001b[32m'5462ee40-d552-4fa2-8f3c-eb03704611a1'\u001b[39m,\n",
      "      name: \u001b[32m'Selkirk Rex'\u001b[39m,\n",
      "      age: \u001b[33m86\u001b[39m,\n",
      "      dark: \u001b[33mfalse\u001b[39m\n",
      "    }\n",
      "  ],\n",
      "  \u001b[32m'87'\u001b[39m: [\n",
      "    {\n",
      "      id: \u001b[32m'd4396b16-2dec-44e9-84e3-d8b4a336ad2f'\u001b[39m,\n",
      "      name: \u001b[32m'Chausie'\u001b[39m,\n",
      "      age: \u001b[33m87\u001b[39m,\n",
      "      dark: \u001b[33mfalse\u001b[39m\n",
      "    }\n",
      "  ],\n",
      "  \u001b[32m'88'\u001b[39m: [\n",
      "    {\n",
      "      id: \u001b[32m'5014b381-2d98-4fa5-ba80-f4cef87ad0f6'\u001b[39m,\n",
      "      name: \u001b[32m'Havana'\u001b[39m,\n",
      "      age: \u001b[33m88\u001b[39m,\n",
      "      dark: \u001b[33mtrue\u001b[39m\n",
      "    }\n",
      "  ],\n",
      "  \u001b[32m'89'\u001b[39m: [\n",
      "    {\n",
      "      id: \u001b[32m'6f299695-28dd-4139-a9e2-f320f37c9b4d'\u001b[39m,\n",
      "      name: \u001b[32m'British Shorthair'\u001b[39m,\n",
      "      age: \u001b[33m89\u001b[39m,\n",
      "      dark: \u001b[33mfalse\u001b[39m\n",
      "    },\n",
      "    {\n",
      "      id: \u001b[32m'ad1fc945-3f70-43b9-bbbc-94da490dcbe9'\u001b[39m,\n",
      "      name: \u001b[32m'Bombay'\u001b[39m,\n",
      "      age: \u001b[33m89\u001b[39m,\n",
      "      dark: \u001b[33mfalse\u001b[39m\n",
      "    }\n",
      "  ],\n",
      "  \u001b[32m'91'\u001b[39m: [\n",
      "    {\n",
      "      id: \u001b[32m'01fcaa81-6ace-4e0d-aa75-dddad8a8b421'\u001b[39m,\n",
      "      name: \u001b[32m'LaPerm'\u001b[39m,\n",
      "      age: \u001b[33m91\u001b[39m,\n",
      "      dark: \u001b[33mfalse\u001b[39m\n",
      "    },\n",
      "    {\n",
      "      id: \u001b[32m'331d04a9-c34e-46a7-84df-0c79a7970c5d'\u001b[39m,\n",
      "      name: \u001b[32m'Selkirk Rex'\u001b[39m,\n",
      "      age: \u001b[33m91\u001b[39m,\n",
      "      dark: \u001b[33mfalse\u001b[39m\n",
      "    }\n",
      "  ],\n",
      "  \u001b[32m'94'\u001b[39m: [\n",
      "    {\n",
      "      id: \u001b[32m'7ad210da-f86a-43bc-bf59-78d6696ba1eb'\u001b[39m,\n",
      "      name: \u001b[32m'Ojos Azules'\u001b[39m,\n",
      "      age: \u001b[33m94\u001b[39m,\n",
      "      dark: \u001b[33mtrue\u001b[39m\n",
      "    },\n",
      "    {\n",
      "      id: \u001b[32m'404725f0-36fb-4991-8851-bd22fdb98b61'\u001b[39m,\n",
      "      name: \u001b[32m'Korat'\u001b[39m,\n",
      "      age: \u001b[33m94\u001b[39m,\n",
      "      dark: \u001b[33mtrue\u001b[39m\n",
      "    },\n",
      "    {\n",
      "      id: \u001b[32m'c61bbc3b-e1f4-4f15-a193-8631dcf33366'\u001b[39m,\n",
      "      name: \u001b[32m'Turkish Angora'\u001b[39m,\n",
      "      age: \u001b[33m94\u001b[39m,\n",
      "      dark: \u001b[33mtrue\u001b[39m\n",
      "    }\n",
      "  ],\n",
      "  \u001b[32m'95'\u001b[39m: [\n",
      "    {\n",
      "      id: \u001b[32m'24fb5388-a61b-4894-af78-5b35ba9a26df'\u001b[39m,\n",
      "      name: \u001b[32m'Pixiebob'\u001b[39m,\n",
      "      age: \u001b[33m95\u001b[39m,\n",
      "      dark: \u001b[33mtrue\u001b[39m\n",
      "    }\n",
      "  ],\n",
      "  \u001b[32m'96'\u001b[39m: [\n",
      "    {\n",
      "      id: \u001b[32m'9b351941-ed59-4672-b64c-31944fde100a'\u001b[39m,\n",
      "      name: \u001b[32m'Birman'\u001b[39m,\n",
      "      age: \u001b[33m96\u001b[39m,\n",
      "      dark: \u001b[33mtrue\u001b[39m\n",
      "    },\n",
      "    {\n",
      "      id: \u001b[32m'5bf63022-d310-4b29-94e2-9180e702e23c'\u001b[39m,\n",
      "      name: \u001b[32m'Birman'\u001b[39m,\n",
      "      age: \u001b[33m96\u001b[39m,\n",
      "      dark: \u001b[33mfalse\u001b[39m\n",
      "    }\n",
      "  ],\n",
      "  \u001b[32m'97'\u001b[39m: [\n",
      "    {\n",
      "      id: \u001b[32m'ef376a7e-4a28-4c03-b1a5-9ad64b6799e5'\u001b[39m,\n",
      "      name: \u001b[32m'Bombay'\u001b[39m,\n",
      "      age: \u001b[33m97\u001b[39m,\n",
      "      dark: \u001b[33mtrue\u001b[39m\n",
      "    },\n",
      "    {\n",
      "      id: \u001b[32m'0887eb88-f6ca-4c74-b1f7-a9fdf01102f9'\u001b[39m,\n",
      "      name: \u001b[32m'Ocicat'\u001b[39m,\n",
      "      age: \u001b[33m97\u001b[39m,\n",
      "      dark: \u001b[33mfalse\u001b[39m\n",
      "    }\n",
      "  ],\n",
      "  \u001b[32m'98'\u001b[39m: [\n",
      "    {\n",
      "      id: \u001b[32m'436003d7-3508-4f38-89a9-6d9fbb774422'\u001b[39m,\n",
      "      name: \u001b[32m'Sokoke'\u001b[39m,\n",
      "      age: \u001b[33m98\u001b[39m,\n",
      "      dark: \u001b[33mtrue\u001b[39m\n",
      "    },\n",
      "    {\n",
      "      id: \u001b[32m'66d318dd-5c58-4c8a-88a1-9f34881ce859'\u001b[39m,\n",
      "      name: \u001b[32m'Balinese'\u001b[39m,\n",
      "      age: \u001b[33m98\u001b[39m,\n",
      "      dark: \u001b[33mtrue\u001b[39m\n",
      "    }\n",
      "  ],\n",
      "  \u001b[32m'99'\u001b[39m: [\n",
      "    {\n",
      "      id: \u001b[32m'a3273066-cdc6-4f96-b590-614bff4893ba'\u001b[39m,\n",
      "      name: \u001b[32m'American Shorthair'\u001b[39m,\n",
      "      age: \u001b[33m99\u001b[39m,\n",
      "      dark: \u001b[33mtrue\u001b[39m\n",
      "    },\n",
      "    {\n",
      "      id: \u001b[32m'2ad43056-d854-453f-b40a-73095b8775e3'\u001b[39m,\n",
      "      name: \u001b[32m'Munchkin'\u001b[39m,\n",
      "      age: \u001b[33m99\u001b[39m,\n",
      "      dark: \u001b[33mfalse\u001b[39m\n",
      "    }\n",
      "  ],\n",
      "  \u001b[32m'100'\u001b[39m: [\n",
      "    {\n",
      "      id: \u001b[32m'6462caac-3b47-426d-a25c-16af2f5900ee'\u001b[39m,\n",
      "      name: \u001b[32m'Serengeti'\u001b[39m,\n",
      "      age: \u001b[33m100\u001b[39m,\n",
      "      dark: \u001b[33mtrue\u001b[39m\n",
      "    }\n",
      "  ]\n",
      "}\n"
     ]
    }
   ],
   "source": [
    "// 组织成以age为key的Map列表\n",
    "\n",
    "cats.reduce((acc, cat) => {\n",
    "  const bag = acc[cat.age] || []\n",
    "  acc[cat.age] = bag\n",
    "  bag.push(cat)\n",
    "  return acc\n",
    "}, {})\n"
   ]
  },
  {
   "cell_type": "code",
   "execution_count": 79,
   "id": "ad1543a8-89c4-419b-a499-92efe0b2df21",
   "metadata": {
    "tags": []
   },
   "outputs": [
    {
     "name": "stdout",
     "output_type": "stream",
     "text": [
      "\n"
     ]
    }
   ],
   "source": [
    "const { groupBy, prop } = require('ramda')\n",
    "\n",
    "groupBy(prop('age'), cats); //(cats); //(cats)\n",
    "''"
   ]
  },
  {
   "cell_type": "code",
   "execution_count": 80,
   "id": "97063553-2afa-44e6-97ee-289bf647a58d",
   "metadata": {
    "tags": []
   },
   "outputs": [
    {
     "name": "stdout",
     "output_type": "stream",
     "text": [
      "\u001b[33m51.72279016685944\u001b[39m\n"
     ]
    }
   ],
   "source": [
    "const { reduce } = require('ramda')\n",
    "\n",
    "const add = (a, b) => a + b\n",
    "reduce(add, 0, list)"
   ]
  },
  {
   "cell_type": "code",
   "execution_count": 81,
   "id": "7478c21b-b674-4462-b1e6-6ea7079df707",
   "metadata": {
    "tags": []
   },
   "outputs": [
    {
     "name": "stdout",
     "output_type": "stream",
     "text": [
      "\u001b[33m5393\u001b[39m\n"
     ]
    }
   ],
   "source": [
    "const sumCatsAge = compose(\n",
    "  reduce(add, 0),\n",
    "  map(prop('age'))\n",
    ")\n",
    "\n",
    "sumCatsAge(cats)\n"
   ]
  },
  {
   "cell_type": "markdown",
   "id": "9df26128-e93a-42a8-b6eb-bdea98f278cd",
   "metadata": {},
   "source": [
    "### break in reduce"
   ]
  },
  {
   "cell_type": "code",
   "execution_count": 82,
   "id": "0263d07d-1f24-41e1-94c9-0feb4526a023",
   "metadata": {},
   "outputs": [],
   "source": [
    "const { reduced, reduce } = require('ramda')"
   ]
  },
  {
   "cell_type": "code",
   "execution_count": 83,
   "id": "abdb9972-ce5f-487f-97cb-585ce17a7951",
   "metadata": {
    "tags": []
   },
   "outputs": [
    {
     "name": "stdout",
     "output_type": "stream",
     "text": [
      "\u001b[33m1035\u001b[39m\n"
     ]
    }
   ],
   "source": [
    "const reducer = (a, b) => a > 1000 ? reduced(a) : a + b\n",
    "reduce(reducer, 0)      (range(100))\n",
    "\n",
    "// 如何实现呢？"
   ]
  },
  {
   "cell_type": "markdown",
   "id": "c57f4411-d521-459b-a791-529ec0d76977",
   "metadata": {
    "tags": []
   },
   "source": [
    "### compose"
   ]
  },
  {
   "cell_type": "code",
   "execution_count": 89,
   "id": "b8ae72b6-436f-4307-aaaf-428ffadb7594",
   "metadata": {
    "tags": []
   },
   "outputs": [
    {
     "name": "stderr",
     "output_type": "stream",
     "text": [
      "7:2 - Left side of comma operator is unused and has no side effects.\n",
      "7:2 - Left side of comma operator is unused and has no side effects.\n",
      "7:2 - Left side of comma operator is unused and has no side effects.\n"
     ]
    }
   ],
   "source": [
    "// a => b\n",
    "\n",
    "const compose2 = (f, g) => x => f(g(x))\n",
    "const compose = (...fns) => fns.reduce(compose2, x => x)\n",
    "//reduceRight\n",
    "\n",
    "[1,2,3,4].reduce\n",
    "\n",
    "//1+2 +3 + 4\n",
    "// compose(a, b, c) a(b(c(x)))"
   ]
  },
  {
   "cell_type": "code",
   "execution_count": 90,
   "id": "7dcf9446-77b4-412b-8d7f-7bd8560fffee",
   "metadata": {
    "tags": []
   },
   "outputs": [
    {
     "name": "stdout",
     "output_type": "stream",
     "text": [
      "\u001b[33m20\u001b[39m\n"
     ]
    }
   ],
   "source": [
    "const add = a => b => a + b\n",
    "\n",
    "compose(\n",
    "  add(1),\n",
    "  add(2),\n",
    "  add(3),\n",
    "  add(4)\n",
    ")(10)"
   ]
  },
  {
   "cell_type": "code",
   "execution_count": 93,
   "id": "970a3f44-b471-449c-a586-b45cb392f7a7",
   "metadata": {
    "tags": []
   },
   "outputs": [],
   "source": [
    "const compose = (...args) => reduce(compose2, x => x, args)"
   ]
  },
  {
   "cell_type": "code",
   "execution_count": 92,
   "id": "6aefd808-87f6-4dd8-b345-327f131302df",
   "metadata": {
    "tags": []
   },
   "outputs": [
    {
     "name": "stdout",
     "output_type": "stream",
     "text": [
      "\u001b[33m21\u001b[39m\n"
     ]
    }
   ],
   "source": [
    "compose(\n",
    "  compose(\n",
    "    add(1),\n",
    "    add(2),\n",
    "  ),\n",
    "  compose(\n",
    "    compose(\n",
    "      add(3),\n",
    "      add(4),\n",
    "    ),\n",
    "    add(5)\n",
    "  ),\n",
    "  add(6)\n",
    ")(0)"
   ]
  },
  {
   "cell_type": "markdown",
   "id": "c57829ff-bbfd-44a1-a7a9-7ab03dd800c5",
   "metadata": {},
   "source": [
    "#### 结合率"
   ]
  },
  {
   "cell_type": "code",
   "execution_count": 99,
   "id": "029dfe3c-c7a3-4cbf-b537-1596a7c92dde",
   "metadata": {
    "tags": []
   },
   "outputs": [],
   "source": [
    "const compose = (f, g, k) => x => f(g(k(x)))"
   ]
  },
  {
   "cell_type": "code",
   "execution_count": 96,
   "id": "81303f2f-a709-409c-81fb-4fa95a5f38ad",
   "metadata": {
    "tags": []
   },
   "outputs": [],
   "source": [
    "const add1 = x => {\n",
    "  console.log('add1')\n",
    "  return x + 1\n",
    "}\n",
    "const add2 = x => {\n",
    "  console.log('add2')\n",
    "  return x + 1\n",
    "}\n",
    "const add3 = x => {\n",
    "  console.log('add3')\n",
    "  return x + 1\n",
    "}"
   ]
  },
  {
   "cell_type": "code",
   "execution_count": null,
   "id": "07f356ba-0116-4927-8942-f9ae80ee7280",
   "metadata": {
    "tags": []
   },
   "outputs": [],
   "source": [
    "// compose(add1, add2, add3)(10)"
   ]
  },
  {
   "cell_type": "code",
   "execution_count": 101,
   "id": "37968bbb-96b6-4f3d-b355-4ac25293606b",
   "metadata": {
    "tags": []
   },
   "outputs": [],
   "source": [
    "const compose2= (f, g, k) => x => k(g(f(x)))"
   ]
  },
  {
   "cell_type": "code",
   "execution_count": 102,
   "id": "07bbd953-b3e1-4310-8fb3-982b2e15e84b",
   "metadata": {
    "tags": []
   },
   "outputs": [
    {
     "name": "stdout",
     "output_type": "stream",
     "text": [
      "add1\n",
      "add2\n",
      "add3\n",
      "\u001b[33m13\u001b[39m\n"
     ]
    }
   ],
   "source": [
    "compose2(add1, add2, add3)(10)"
   ]
  },
  {
   "cell_type": "code",
   "execution_count": null,
   "id": "175b5825-fc13-4e35-9019-4c3de282ef9f",
   "metadata": {
    "tags": []
   },
   "outputs": [],
   "source": [
    "const compose = (...args) => args.reduce(compose2, x => x)"
   ]
  },
  {
   "cell_type": "code",
   "execution_count": null,
   "id": "00b9f4b2-2c75-478c-a169-dde9a6550e29",
   "metadata": {
    "tags": []
   },
   "outputs": [],
   "source": [
    "const compose = (...args) => args.reduceRight(compose2, x => x)"
   ]
  },
  {
   "cell_type": "code",
   "execution_count": null,
   "id": "e5c0f874-5677-4f7c-a820-dcc782e8f35b",
   "metadata": {
    "tags": []
   },
   "outputs": [],
   "source": [
    "const add = a => b => a + b\n",
    "compose(\n",
    "  compose(\n",
    "    add(1),\n",
    "    add(2),\n",
    "  ),\n",
    "  compose(\n",
    "    compose(\n",
    "      add(3),\n",
    "      add(4),\n",
    "    ),\n",
    "    add(5)\n",
    "  ),\n",
    "  add(6)\n",
    ") (10)"
   ]
  },
  {
   "cell_type": "markdown",
   "id": "b58b5a0d-ca29-45c4-87a6-a26690561aba",
   "metadata": {},
   "source": [
    "- one line version of compose"
   ]
  },
  {
   "cell_type": "code",
   "execution_count": null,
   "id": "242e5102-a6b5-48d4-a450-d018dbb196b7",
   "metadata": {
    "tags": []
   },
   "outputs": [],
   "source": [
    "// const compose = (...fns) => (...args) => fns.reduceRight((acc, fn) => [fn.call(null, ...acc)], args)[0]"
   ]
  },
  {
   "cell_type": "markdown",
   "id": "8c4f49d2-dad6-44f2-b2b1-e534378c3000",
   "metadata": {
    "tags": []
   },
   "source": [
    "## 实现 Validation Flow"
   ]
  },
  {
   "cell_type": "code",
   "execution_count": null,
   "id": "7776d3d1-bb1d-475d-b7a9-4210e9f21c95",
   "metadata": {
    "tags": []
   },
   "outputs": [],
   "source": [
    "const beforeFlow = {\n",
    "    type: 'Flow',\n",
    "    name: 'Validate',\n",
    "    props: {\n",
    "        // 这里只是演示，实际中不需要，直接实现成 breakOnFirst即可满足需求\n",
    "        breakOnFirst: true,\n",
    "    },\n",
    "    children: [\n",
    "        {\n",
    "            type: 'Action',\n",
    "            name: 'ValidateData',\n",
    "            props: {\n",
    "              // 规则选择器的属性值\n",
    "            }\n",
    "        },\n",
    "        \n",
    "        {\n",
    "            type: 'Action',\n",
    "            name: 'InvokeService',\n",
    "            props: {\n",
    "                serviceKey: 'xxx',\n",
    "            }\n",
    "        }\n",
    "    ]\n",
    "}"
   ]
  },
  {
   "cell_type": "markdown",
   "id": "db916186-6a12-4f21-9ca0-496ac13260da",
   "metadata": {},
   "source": [
    "### Validate Flow的实现"
   ]
  },
  {
   "cell_type": "code",
   "execution_count": 103,
   "id": "830a9b05-6c15-45cf-b1fe-972bfc3aceab",
   "metadata": {
    "tags": []
   },
   "outputs": [],
   "source": [
    "const validateFlow = (props, actions) => async ctx => {\n",
    "    for (const fn of actions) {\n",
    "        const ret = await fn(ctx)\n",
    "        if (!ret) {\n",
    "          return false\n",
    "        }\n",
    "    }\n",
    "    return true\n",
    "}"
   ]
  },
  {
   "cell_type": "code",
   "execution_count": 104,
   "id": "3628f53d-0991-4018-b84d-66bb7b566586",
   "metadata": {
    "tags": []
   },
   "outputs": [
    {
     "name": "stdout",
     "output_type": "stream",
     "text": [
      "{\n",
      "  record: { id: \u001b[32m'1'\u001b[39m, name: \u001b[32m'iphone'\u001b[39m },\n",
      "  route: { module: \u001b[32m'products'\u001b[39m, action: \u001b[32m'show'\u001b[39m }\n",
      "}\n"
     ]
    }
   ],
   "source": [
    "ctx"
   ]
  },
  {
   "cell_type": "code",
   "execution_count": 105,
   "id": "658c5bef-0a24-436e-b3b3-8d23c20560d8",
   "metadata": {
    "tags": []
   },
   "outputs": [],
   "source": [
    "const beforeFlow = {\n",
    "    type: 'Flow',\n",
    "    name: 'Validate',\n",
    "    props: {\n",
    "        // 这里只是演示，实际中不需要，直接实现成 breakOnFirst即可满足需求\n",
    "        breakOnFirst: true,\n",
    "    },\n",
    "    children: [\n",
    "        {\n",
    "            type: 'Action',\n",
    "            name: 'ValidateData',\n",
    "            props: {\n",
    "                name: 'iphone'\n",
    "            }\n",
    "        },\n",
    "        \n",
    "        {\n",
    "            type: 'Action',\n",
    "            name: 'InvokeService',\n",
    "            props: {\n",
    "                serviceKey: 'xxx',\n",
    "                id: '1'\n",
    "            }\n",
    "        }\n",
    "    ]\n",
    "}"
   ]
  },
  {
   "cell_type": "code",
   "execution_count": 106,
   "id": "6baf3ebb-2885-4197-86ba-d1b6361364d1",
   "metadata": {
    "tags": []
   },
   "outputs": [],
   "source": [
    "const ValidateData = props => async ctx => ctx.record.name === props.name\n",
    "const InvokeService = props => async ctx => ctx.record.id === props.id\n",
    "\n",
    "const Actions = {\n",
    "  ValidateData,\n",
    "  InvokeService,\n",
    "}"
   ]
  },
  {
   "cell_type": "code",
   "execution_count": 107,
   "id": "665f0434-af5e-4d3f-b476-92bf7ca541bf",
   "metadata": {
    "tags": []
   },
   "outputs": [
    {
     "name": "stdout",
     "output_type": "stream",
     "text": [
      "[ \u001b[36m[AsyncFunction (anonymous)]\u001b[39m, \u001b[36m[AsyncFunction (anonymous)]\u001b[39m ]\n"
     ]
    }
   ],
   "source": [
    "const fns = beforeFlow.children.map(child => Actions[child.name](child.props))\n",
    "\n",
    "fns"
   ]
  },
  {
   "cell_type": "code",
   "execution_count": 108,
   "id": "aa8d0405-4396-4e7d-8ce6-145b1cc10dff",
   "metadata": {
    "tags": []
   },
   "outputs": [
    {
     "name": "stdout",
     "output_type": "stream",
     "text": [
      "{\n",
      "  record: { id: \u001b[32m'1'\u001b[39m, name: \u001b[32m'iphone'\u001b[39m },\n",
      "  route: { module: \u001b[32m'products'\u001b[39m, action: \u001b[32m'show'\u001b[39m }\n",
      "}\n"
     ]
    }
   ],
   "source": [
    "ctx"
   ]
  },
  {
   "cell_type": "code",
   "execution_count": 109,
   "id": "a3cb7bde-fe1e-452b-a1b0-9eeee555f9d7",
   "metadata": {
    "tags": []
   },
   "outputs": [
    {
     "name": "stdout",
     "output_type": "stream",
     "text": [
      "\u001b[33mtrue\u001b[39m\n"
     ]
    }
   ],
   "source": [
    "await validateFlow(beforeFlow.props, fns)  (ctx)"
   ]
  },
  {
   "cell_type": "markdown",
   "id": "2bc711be-1b36-4c29-9b3e-7b3ced791878",
   "metadata": {
    "tags": []
   },
   "source": [
    "## compile - 组合起来"
   ]
  },
  {
   "cell_type": "markdown",
   "id": "20f1a493-2639-42b6-a091-82440681f2e0",
   "metadata": {},
   "source": [
    "### Schema"
   ]
  },
  {
   "cell_type": "code",
   "execution_count": 111,
   "id": "981b1193-bd42-4035-88dc-d64df78b9937",
   "metadata": {
    "tags": []
   },
   "outputs": [],
   "source": [
    "type FlowActionNode = ActionNode | FlowNode\n",
    "\n",
    "type Dict = Record<string, unknown>\n",
    "\n",
    "type ActionNode = {\n",
    "    type: 'Action',\n",
    "    name: string,\n",
    "    props: Dict,\n",
    "}\n",
    "\n",
    "type FlowNode = {\n",
    "    type: 'Flow',\n",
    "    name: string,\n",
    "    props: Dict,\n",
    "    children: FlowActionNode[]\n",
    "}"
   ]
  },
  {
   "cell_type": "markdown",
   "id": "65f903a6-ed68-4872-a3a2-ee44186dfb79",
   "metadata": {},
   "source": [
    "### API"
   ]
  },
  {
   "cell_type": "markdown",
   "id": "27bb8eb9-2257-4a1e-a53b-bcd78cdd50c1",
   "metadata": {},
   "source": [
    "#### 之前的定义"
   ]
  },
  {
   "cell_type": "code",
   "execution_count": 112,
   "id": "e353e8f7-1bbd-4a31-b820-e7c33a79eb94",
   "metadata": {
    "tags": []
   },
   "outputs": [],
   "source": [
    "type Transformer = (ctx: Context) => Promise<unknown>\n",
    "\n",
    "// type ActionFn = (props: Dict) => ctx => result\n",
    "type ActionFn = (props: Dict) => Transformer\n",
    "type FlowFn = (props: Dict, transformers: Transformer[]) => Transformer"
   ]
  },
  {
   "cell_type": "markdown",
   "id": "53e9484f-e21a-4e7a-937e-0d4d380357ba",
   "metadata": {},
   "source": [
    "#### 使用方法"
   ]
  },
  {
   "cell_type": "code",
   "execution_count": null,
   "id": "4578ef5f-a79c-4430-bbd4-a6e9b39a5c97",
   "metadata": {
    "tags": []
   },
   "outputs": [],
   "source": [
    "\n",
    "// 定义Action函数集 \n",
    "const Actions: Record<string, ActionFn> = { }\n",
    "\n",
    "// 定义流函数集\n",
    "const Flows: Record<string, FlowFn> = {}\n",
    "\n",
    "// 构建编译器\n",
    "const compiler = createCompiler({ Actions, Flows })  // 只有这个没实现\n",
    "\n",
    "// 创建转换器\n",
    "const transformer = compiler(schemaNode)\n",
    "\n",
    "// 使用\n",
    "const ctx = {}\n",
    "const result = await transformer(ctx)"
   ]
  },
  {
   "cell_type": "markdown",
   "id": "9766d45e-bea1-473e-81d5-2f3881bc1865",
   "metadata": {
    "tags": []
   },
   "source": [
    "### compiler的实现\n",
    "\n",
    "- tree的应用\n",
    "- 简单递归"
   ]
  },
  {
   "cell_type": "markdown",
   "id": "dee3ee3f-3055-4ca9-8cd2-24f330c79556",
   "metadata": {
    "tags": []
   },
   "source": [
    "### 思考类型"
   ]
  },
  {
   "cell_type": "code",
   "execution_count": 113,
   "id": "a017b0a4-15a3-48ad-82ae-95d6366dd136",
   "metadata": {
    "tags": []
   },
   "outputs": [],
   "source": [
    "type Library = {\n",
    "    Actions: Record<string, ActionFn>\n",
    "    Flow: Record<string, FlowFn>\n",
    "}\n",
    "\n",
    "type CompilerFactory = (library: Library) => Compiler\n",
    "type Compiler = (node: FlowActionNode) => Transformer"
   ]
  },
  {
   "cell_type": "markdown",
   "id": "9747bfaf-1ef1-4d1d-b3d8-e3774bf22d22",
   "metadata": {
    "tags": []
   },
   "source": [
    "### 最简可运行实现"
   ]
  },
  {
   "cell_type": "code",
   "execution_count": 114,
   "id": "e7f886ec-6e5e-492d-afcd-2c410a605ff6",
   "metadata": {
    "tags": []
   },
   "outputs": [],
   "source": [
    "const createCompiler = ({ Actions, Flows }) => {\n",
    "    const compiler = node => {\n",
    "        console.log('compile', node)\n",
    "        if (node.type !== 'Flow') {\n",
    "            return Actions[node.name](node.props)\n",
    "        }\n",
    "        const transformers = node.children.map(compiler)\n",
    "        return Flows[node.name](node.props, transformers)\n",
    "    }\n",
    "    return compiler\n",
    "}"
   ]
  },
  {
   "cell_type": "markdown",
   "id": "b2d8abd7-de21-4340-ac53-d06e62ec9b5a",
   "metadata": {},
   "source": [
    "- pure\n",
    "- curry\n",
    "  - multi steps\n",
    "- pointless\n",
    "- recursion"
   ]
  },
  {
   "cell_type": "markdown",
   "id": "def8ae86-0f9a-4f99-9ef2-7c7776a5cdb8",
   "metadata": {
    "tags": []
   },
   "source": [
    "#### 定义FlowAction"
   ]
  },
  {
   "cell_type": "code",
   "execution_count": null,
   "id": "a149b261-7a07-4154-bebc-d2e86f8da4e2",
   "metadata": {
    "tags": []
   },
   "outputs": [],
   "source": [
    "const sleep = n => new Promise(r => setTimeout(r, n))\n",
    "\n",
    "// 调用服务\n",
    "const InvokeService = props => async ctx => {\n",
    "    await sleep(300)\n",
    "    console.log('invoke service, props: %o, ctx: %o', props, ctx)\n",
    "    return { serviceKey: props.serviceKey, param: props.param, route: ctx.route }\n",
    "}\n",
    "\n",
    "const InvokeFlow = props => async ctx => {\n",
    "    await sleep(300)\n",
    "    console.log('invoke flow, props: %o, ctx: %o', props, ctx)\n",
    "    return { flowKey: props.flowKey, route: ctx.route }\n",
    "}\n",
    "\n",
    "// 验证数据\n",
    "const ValidateData = props => async ctx => ctx.record.name === props.name\n",
    "\n",
    "// 验证服务\n",
    "const ValidateService = props => async ctx => ctx.record.id === props.id\n",
    "\n",
    "const Actions = {\n",
    "    InvokeService,\n",
    "    InvokeFlow,\n",
    "    ValidateData,\n",
    "    ValidateService,\n",
    "}\n",
    "\n",
    "const ValidateFlow = (props, transformers) => async ctx => {\n",
    "    for (const fn of transformers) {\n",
    "        const ret = await fn(ctx)\n",
    "        if (!ret) {\n",
    "          return false\n",
    "        }\n",
    "    }\n",
    "    return true\n",
    "}\n",
    "\n",
    "const ComputeFlow = (props, transformers) => async ctx => {\n",
    "    return transformers.reduce((promise, fn) => promise.then(x => fn({ ...ctx, ...x })), Promise.resolve({}))\n",
    "}\n",
    "\n",
    "const EffectFlow = (props, transformers) => async ctx => {\n",
    "    await Promise.all(transformers.map(tranform => transform(ctx)))\n",
    "    return null\n",
    "}\n",
    "\n",
    "const Flows = {\n",
    "    Validate: ValidateFlow,\n",
    "    Compute: ComputeFlow,\n",
    "    Effect: EffectFlow,\n",
    "    Pipeline: ValidateFlow,\n",
    "}"
   ]
  },
  {
   "cell_type": "markdown",
   "id": "f022d85d-3484-47da-8b53-cb1fa395498a",
   "metadata": {
    "tags": []
   },
   "source": [
    "### 使用"
   ]
  },
  {
   "cell_type": "code",
   "execution_count": null,
   "id": "d22e57ed-b736-47f4-bbf5-e0719a795ef4",
   "metadata": {
    "tags": []
   },
   "outputs": [],
   "source": [
    "const compiler = createCompiler({ Actions: Actions, Flows: Flows })"
   ]
  },
  {
   "cell_type": "code",
   "execution_count": null,
   "id": "d2f5aee4-4846-4abc-b5be-31a3ebe58e45",
   "metadata": {
    "tags": []
   },
   "outputs": [],
   "source": [
    "const node = {\n",
    "  type: 'Flow',\n",
    "  name: 'Pipeline',\n",
    "  children: [\n",
    "      {\n",
    "          type: 'Flow',\n",
    "          name: 'Validate',\n",
    "          children: [\n",
    "              {\n",
    "                  name: 'ValidateData',\n",
    "                  props: { name: 'iphone' }\n",
    "              },\n",
    "              {\n",
    "                  name: 'ValidateService',\n",
    "                  props: { id: '123' }\n",
    "              }\n",
    "          ]\n",
    "      },\n",
    "      {\n",
    "          type: 'Flow',\n",
    "          name: 'Compute',\n",
    "          children: [\n",
    "              {\n",
    "                  name: 'InvokeService',\n",
    "                  props: { serviceKey: 'loadProduct', param: 1 }\n",
    "              },\n",
    "              \n",
    "              {\n",
    "                  name: 'InvokeService',\n",
    "                  props: { serviceKey: 'loadProduct', param: 2 }\n",
    "              },\n",
    "              \n",
    "              {\n",
    "                  name: 'InvokeFlow',\n",
    "                  props: { flowKey: 'xxxhhh' }\n",
    "              },\n",
    "          ]\n",
    "      }\n",
    "  ]\n",
    "}\n",
    "\n",
    "\n",
    "const transformer = compiler(node)\n",
    "\n",
    "const ctx = {\n",
    "    record: { id: '123', name: 'iphone' },\n",
    "    route: { module: 'orders', action: 'show' },\n",
    "}\n",
    "\n",
    "console.log('1...')\n",
    "await transformer(ctx)\n",
    "\n",
    "console.log('2...')\n",
    "await transformer(ctx)"
   ]
  },
  {
   "cell_type": "markdown",
   "id": "c7d30596-13a4-4ae3-a34b-183d5130e2e1",
   "metadata": {
    "tags": []
   },
   "source": [
    "## 待解决？"
   ]
  },
  {
   "cell_type": "markdown",
   "id": "87d43776-7501-48a2-a49c-25f27f6f22a6",
   "metadata": {},
   "source": [
    "- [ ] `x` 和 `Promise.resolve(x)` 的区别\n",
    "- [ ] type 和 typeclass"
   ]
  },
  {
   "cell_type": "code",
   "execution_count": 15,
   "id": "67fbae0a-4a4d-4c1b-bbe7-8a531518515a",
   "metadata": {
    "tags": []
   },
   "outputs": [],
   "source": [
    "const { pipe, map, filter, tap, take, pick, compose } = require('ramda')"
   ]
  },
  {
   "cell_type": "code",
   "execution_count": null,
   "id": "e3c7fd68-2c7b-4c89-8770-b786309e51e9",
   "metadata": {
    "tags": []
   },
   "outputs": [],
   "source": [
    "//cats\n",
    "//\n",
    "x => Promise.resolve(x)"
   ]
  },
  {
   "cell_type": "code",
   "execution_count": null,
   "id": "ded85814-0dc0-42e4-b709-92e89bcc6c49",
   "metadata": {
    "tags": []
   },
   "outputs": [],
   "source": [
    "await pipe(\n",
    "    map(async x => ({ ...x, mate: faker.animal.bird() })),\n",
    "    //tap(console.log),\n",
    "    filter(x => x.age > 10),\n",
    ") (cats)\n",
    "\n",
    "''"
   ]
  },
  {
   "cell_type": "code",
   "execution_count": null,
   "id": "338b9988-70cf-4a1c-9419-207e634e3000",
   "metadata": {
    "tags": []
   },
   "outputs": [],
   "source": [
    "await pipe(\n",
    "    map(async x => ({ ...x, mate: faker.animal.bird() })),\n",
    "    //tap(console.log),\n",
    "    // Defers,\n",
    "    filter(x => x.age > 10),\n",
    ") (cats)"
   ]
  },
  {
   "cell_type": "code",
   "execution_count": null,
   "id": "29ee67f8-fb1f-4728-b863-57ebba41f5d5",
   "metadata": {
    "tags": []
   },
   "outputs": [],
   "source": [
    "const Defers = list => ({\n",
    "  filter: f => Defers(list.filter(x => x.then(f))),\n",
    "  then: f => Promise.all(list).then(f),\n",
    "})"
   ]
  },
  {
   "cell_type": "markdown",
   "id": "843eacd8-ec25-47a3-8235-f8161021b151",
   "metadata": {},
   "source": [
    "### 执行流程和表达方式的分离"
   ]
  },
  {
   "cell_type": "code",
   "execution_count": 11,
   "id": "81c8a142-ce6b-4b42-a42c-1b1a0fcfb718",
   "metadata": {
    "tags": []
   },
   "outputs": [
    {
     "name": "stdout",
     "output_type": "stream",
     "text": [
      "[\n",
      "  { id: \u001b[32m'36eaf9f3-1955-4311-bcff-9a6b07958c2b'\u001b[39m, name: \u001b[32m'Ragdoll'\u001b[39m },\n",
      "  { id: \u001b[32m'0969a674-c79e-4d5b-a4b0-8454fe47806e'\u001b[39m, name: \u001b[32m'Russian Blue'\u001b[39m },\n",
      "  { id: \u001b[32m'6436790b-1488-4774-9ec5-cff56085f6f8'\u001b[39m, name: \u001b[32m'Maine Coon'\u001b[39m },\n",
      "  { id: \u001b[32m'034efd3e-86d8-4c93-bc5c-803af63c09b5'\u001b[39m, name: \u001b[32m'Munchkin'\u001b[39m },\n",
      "  { id: \u001b[32m'e5e573b0-6a75-42ff-a962-9149274c1563'\u001b[39m, name: \u001b[32m'Highlander'\u001b[39m }\n",
      "]\n"
     ]
    }
   ],
   "source": [
    "compose(\n",
    "    take(5),\n",
    "    map(pick(['id', 'name'])),\n",
    "    filter(x => x.age > 50),\n",
    ") (cats); //100\n",
    "\n",
    "// cats.length"
   ]
  },
  {
   "cell_type": "markdown",
   "id": "7bf2bfa1-b593-466d-85f5-d77eda66f4d1",
   "metadata": {
    "tags": []
   },
   "source": [
    "- [ ] 上述代码的问题是什么？"
   ]
  },
  {
   "cell_type": "code",
   "execution_count": 13,
   "id": "d8cb6800-af09-4572-8149-365a3de65e80",
   "metadata": {
    "tags": []
   },
   "outputs": [],
   "source": [
    "const { compose, transduce, append, flip } = require('ramda')"
   ]
  },
  {
   "cell_type": "code",
   "execution_count": 14,
   "id": "a917807f-7da4-45ae-b346-16eeb566e972",
   "metadata": {
    "tags": []
   },
   "outputs": [
    {
     "name": "stdout",
     "output_type": "stream",
     "text": [
      "{\n",
      "  id: \u001b[32m'36eaf9f3-1955-4311-bcff-9a6b07958c2b'\u001b[39m,\n",
      "  name: \u001b[32m'Ragdoll'\u001b[39m,\n",
      "  age: \u001b[33m91\u001b[39m,\n",
      "  dark: \u001b[33mtrue\u001b[39m\n",
      "}\n",
      "{\n",
      "  id: \u001b[32m'0969a674-c79e-4d5b-a4b0-8454fe47806e'\u001b[39m,\n",
      "  name: \u001b[32m'Russian Blue'\u001b[39m,\n",
      "  age: \u001b[33m97\u001b[39m,\n",
      "  dark: \u001b[33mfalse\u001b[39m\n",
      "}\n",
      "{\n",
      "  id: \u001b[32m'89248fbd-2b5b-4745-9558-9188304435be'\u001b[39m,\n",
      "  name: \u001b[32m'Snowshoe'\u001b[39m,\n",
      "  age: \u001b[33m32\u001b[39m,\n",
      "  dark: \u001b[33mfalse\u001b[39m\n",
      "}\n",
      "{\n",
      "  id: \u001b[32m'1eb3617e-6bce-498a-b68f-626517848f16'\u001b[39m,\n",
      "  name: \u001b[32m'Selkirk Rex'\u001b[39m,\n",
      "  age: \u001b[33m1\u001b[39m,\n",
      "  dark: \u001b[33mfalse\u001b[39m\n",
      "}\n",
      "{\n",
      "  id: \u001b[32m'6436790b-1488-4774-9ec5-cff56085f6f8'\u001b[39m,\n",
      "  name: \u001b[32m'Maine Coon'\u001b[39m,\n",
      "  age: \u001b[33m62\u001b[39m,\n",
      "  dark: \u001b[33mfalse\u001b[39m\n",
      "}\n",
      "{\n",
      "  id: \u001b[32m'0bd7cfd3-73dd-4c84-94d7-f85a835847e1'\u001b[39m,\n",
      "  name: \u001b[32m'British Shorthair'\u001b[39m,\n",
      "  age: \u001b[33m2\u001b[39m,\n",
      "  dark: \u001b[33mtrue\u001b[39m\n",
      "}\n",
      "{\n",
      "  id: \u001b[32m'034efd3e-86d8-4c93-bc5c-803af63c09b5'\u001b[39m,\n",
      "  name: \u001b[32m'Munchkin'\u001b[39m,\n",
      "  age: \u001b[33m65\u001b[39m,\n",
      "  dark: \u001b[33mtrue\u001b[39m\n",
      "}\n",
      "{\n",
      "  id: \u001b[32m'159f3f54-c3dd-4975-b694-e3c790f46d4b'\u001b[39m,\n",
      "  name: \u001b[32m'Turkish Angora'\u001b[39m,\n",
      "  age: \u001b[33m47\u001b[39m,\n",
      "  dark: \u001b[33mfalse\u001b[39m\n",
      "}\n",
      "{\n",
      "  id: \u001b[32m'29654ead-9a05-4647-9987-6b9cf4ca9215'\u001b[39m,\n",
      "  name: \u001b[32m'Norwegian Forest Cat'\u001b[39m,\n",
      "  age: \u001b[33m31\u001b[39m,\n",
      "  dark: \u001b[33mtrue\u001b[39m\n",
      "}\n",
      "{\n",
      "  id: \u001b[32m'e5e573b0-6a75-42ff-a962-9149274c1563'\u001b[39m,\n",
      "  name: \u001b[32m'Highlander'\u001b[39m,\n",
      "  age: \u001b[33m52\u001b[39m,\n",
      "  dark: \u001b[33mtrue\u001b[39m\n",
      "}\n",
      "[\n",
      "  { id: \u001b[32m'36eaf9f3-1955-4311-bcff-9a6b07958c2b'\u001b[39m, name: \u001b[32m'Ragdoll'\u001b[39m },\n",
      "  { id: \u001b[32m'0969a674-c79e-4d5b-a4b0-8454fe47806e'\u001b[39m, name: \u001b[32m'Russian Blue'\u001b[39m },\n",
      "  { id: \u001b[32m'6436790b-1488-4774-9ec5-cff56085f6f8'\u001b[39m, name: \u001b[32m'Maine Coon'\u001b[39m },\n",
      "  { id: \u001b[32m'034efd3e-86d8-4c93-bc5c-803af63c09b5'\u001b[39m, name: \u001b[32m'Munchkin'\u001b[39m },\n",
      "  { id: \u001b[32m'e5e573b0-6a75-42ff-a962-9149274c1563'\u001b[39m, name: \u001b[32m'Highlander'\u001b[39m }\n",
      "]\n"
     ]
    }
   ],
   "source": [
    "const tr = compose(\n",
    "    filter(x => {\n",
    "        console.log(x)\n",
    "        return x.age > 50\n",
    "    }),\n",
    "    map(pick(['id', 'name'])),\n",
    "    take(5)\n",
    ")\n",
    "\n",
    "//transormer: v=>v\n",
    "// (acc, v) ->accr\n",
    "reducer => reducer\n",
    "transduce(tr, flip(append), [], cats)"
   ]
  },
  {
   "cell_type": "markdown",
   "id": "9da8a3e1-7ec3-480c-97dc-b760f1e2d5d6",
   "metadata": {},
   "source": [
    "## S Expression & Lisp"
   ]
  },
  {
   "cell_type": "markdown",
   "id": "889c9a00-fc2c-4859-b361-310280677d8d",
   "metadata": {
    "tags": []
   },
   "source": [
    "- [ ] 数据和代码的关系"
   ]
  },
  {
   "cell_type": "code",
   "execution_count": null,
   "id": "f1a9e24e-172e-4c92-ba7a-103cdd875205",
   "metadata": {},
   "outputs": [],
   "source": [
    "const add = (x, y） => x + y"
   ]
  },
  {
   "cell_type": "markdown",
   "id": "3d1a110a-1597-4baf-ab01-3f1b33a3c01c",
   "metadata": {},
   "source": [
    "## typespec"
   ]
  },
  {
   "cell_type": "code",
   "execution_count": null,
   "id": "e65a99eb-cddc-4d96-82e7-02f0a52d1f7b",
   "metadata": {
    "tags": []
   },
   "outputs": [],
   "source": [
    "// (a, b) -> a\n",
    "\n",
    "a -> b -> c\n",
    "\n",
    "type Reducer = <A, B>(a: A, b: B) => A"
   ]
  },
  {
   "cell_type": "code",
   "execution_count": null,
   "id": "7c151fb1-83a9-4a8f-9920-6ccc21da3dc4",
   "metadata": {
    "tags": []
   },
   "outputs": [],
   "source": [
    "// a -> b\n",
    "type Transformer = <A, B>(a: A) => B"
   ]
  },
  {
   "cell_type": "code",
   "execution_count": null,
   "id": "c4cc6228-e4f7-45a5-b651-a8d1cd0c3825",
   "metadata": {
    "tags": []
   },
   "outputs": [],
   "source": [
    "const add = (a, b, c) => a + b + c\n",
    "const add = a => b => c => a + b + c\n",
    "//add: a -> b -> c -> d\n",
    "\n",
    "// reduce\n",
    "// ((a, b) -> a) -> a -> [b] -> a"
   ]
  },
  {
   "cell_type": "code",
   "execution_count": null,
   "id": "784be639-1b59-4ceb-acff-9ffe7aa75d67",
   "metadata": {},
   "outputs": [],
   "source": []
  }
 ],
 "metadata": {
  "kernelspec": {
   "display_name": "TypeScript",
   "language": "typescript",
   "name": "tslab"
  },
  "language_info": {
   "codemirror_mode": {
    "mode": "typescript",
    "name": "javascript",
    "typescript": true
   },
   "file_extension": ".ts",
   "mimetype": "text/typescript",
   "name": "typescript",
   "version": "3.7.2"
  }
 },
 "nbformat": 4,
 "nbformat_minor": 5
}
