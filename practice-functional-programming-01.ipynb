{
 "cells": [
  {
   "cell_type": "markdown",
   "id": "4c58a38e-fb32-4435-9f40-52a15f2682b5",
   "metadata": {},
   "source": [
    "# 从动作流（FlowAction）设计和实现思考函数组合的思想（草稿）"
   ]
  },
  {
   "cell_type": "markdown",
   "id": "2d917645-21c0-4474-8152-7b59331789ff",
   "metadata": {},
   "source": [
    "## 0. 关于动作流\n",
    "- 前置动作，实现逻辑和后置动作，称为流(Flow)。\n",
    "- 调用服务(InvokeService), 打开视图(OpenView), 关闭页面(Close), 跳转（Goto）称为动作（Action）\n",
    "两者合起来称为 (FlowAction)"
   ]
  },
  {
   "cell_type": "markdown",
   "id": "d908065f-5261-4ada-a928-e58d3e0abbaf",
   "metadata": {},
   "source": [
    "## 1. 动作流的Schema描述"
   ]
  },
  {
   "cell_type": "markdown",
   "id": "80a23fdb-a93d-4045-a9bf-5b80e99d2550",
   "metadata": {},
   "source": [
    "### Before Flow"
   ]
  },
  {
   "cell_type": "code",
   "execution_count": 299,
   "id": "c31b28e7-3987-4377-bdd2-91581a99714b",
   "metadata": {
    "tags": []
   },
   "outputs": [],
   "source": [
    "const beforeFlow = {\n",
    "    type: 'Flow',\n",
    "    name: 'Validate',\n",
    "    props: {\n",
    "        // 这里只是演示，实际中不需要，直接实现成 breakOnFirst即可满足需求\n",
    "        breakOnFirst: true,\n",
    "    },\n",
    "    children: [\n",
    "        {\n",
    "            type: 'Action',\n",
    "            name: 'ValidateData',\n",
    "            props: {\n",
    "              // 规则选择器的属性值\n",
    "            }\n",
    "        },\n",
    "        \n",
    "        {\n",
    "            type: 'Action',\n",
    "            name: 'InvokeService',\n",
    "            props: {\n",
    "                serviceKey: 'xxx',\n",
    "            }\n",
    "        }\n",
    "    ]\n",
    "}"
   ]
  },
  {
   "cell_type": "markdown",
   "id": "2a2e6b5f-ba5a-4fc5-965c-c2f2057d28a7",
   "metadata": {
    "tags": []
   },
   "source": [
    "### Compute"
   ]
  },
  {
   "cell_type": "code",
   "execution_count": 8,
   "id": "e1925d10-bf8d-4bd1-9cbb-bb72ebdb4ae0",
   "metadata": {
    "tags": []
   },
   "outputs": [],
   "source": [
    "const computeFlow = {\n",
    "    type: 'Flow',\n",
    "    name: 'Compute',\n",
    "    props: {\n",
    "        parallel: true,\n",
    "    },\n",
    "    children: [\n",
    "        {\n",
    "            type: 'Action',\n",
    "            name: 'InvokeService',\n",
    "            props: {\n",
    "                serviceKey: 'loadProducts',\n",
    "            }\n",
    "        },\n",
    "        {\n",
    "            // 工作流\n",
    "            type: 'Action',\n",
    "            name: 'InvokeFlow',\n",
    "            props: {\n",
    "                flowKey: 'notifyDingding'\n",
    "            }\n",
    "        }\n",
    "    ]\n",
    "}"
   ]
  },
  {
   "cell_type": "markdown",
   "id": "0721d820-6f77-4174-85e1-ce1138d45646",
   "metadata": {},
   "source": [
    "### After"
   ]
  },
  {
   "cell_type": "code",
   "execution_count": 10,
   "id": "fec4d628-5eca-45da-ba0d-88a2990ea8d2",
   "metadata": {
    "tags": []
   },
   "outputs": [],
   "source": [
    "const afterFlow = {\n",
    "    type: 'Flow',\n",
    "    name: 'Effect',\n",
    "    props: {},\n",
    "    children: [\n",
    "        {\n",
    "            type: 'Action',\n",
    "            name: 'OpenView',\n",
    "            props: {\n",
    "                viewKey: 'sayHello'\n",
    "            }\n",
    "        }\n",
    "    ]\n",
    "}"
   ]
  },
  {
   "cell_type": "markdown",
   "id": "768320d6-87c4-46c1-baa9-6e9bd945d4f5",
   "metadata": {},
   "source": [
    "### Pipeline"
   ]
  },
  {
   "cell_type": "code",
   "execution_count": 11,
   "id": "dbb981a7-b1b2-466d-9184-6e17563b1b25",
   "metadata": {
    "tags": []
   },
   "outputs": [],
   "source": [
    "const pipeline = {\n",
    "    type: 'Flow',\n",
    "    name: 'Pipeline',\n",
    "    children: [\n",
    "        beforeFlow,\n",
    "        computeFlow,\n",
    "        afterFlow\n",
    "    ]\n",
    "}"
   ]
  },
  {
   "cell_type": "code",
   "execution_count": 12,
   "id": "1eae1eac-bdbd-455b-8dc4-2760b943acd7",
   "metadata": {
    "tags": []
   },
   "outputs": [
    {
     "name": "stdout",
     "output_type": "stream",
     "text": [
      "{\n",
      "  type: \u001b[32m'Flow'\u001b[39m,\n",
      "  name: \u001b[32m'Pipeline'\u001b[39m,\n",
      "  children: [\n",
      "    {\n",
      "      type: \u001b[32m'Flow'\u001b[39m,\n",
      "      name: \u001b[32m'Validate'\u001b[39m,\n",
      "      props: \u001b[36m[Object]\u001b[39m,\n",
      "      children: \u001b[36m[Array]\u001b[39m\n",
      "    },\n",
      "    {\n",
      "      type: \u001b[32m'Flow'\u001b[39m,\n",
      "      name: \u001b[32m'Compute'\u001b[39m,\n",
      "      props: \u001b[36m[Object]\u001b[39m,\n",
      "      children: \u001b[36m[Array]\u001b[39m\n",
      "    },\n",
      "    { type: \u001b[32m'Flow'\u001b[39m, name: \u001b[32m'Effect'\u001b[39m, props: {}, children: \u001b[36m[Array]\u001b[39m }\n",
      "  ]\n",
      "}\n"
     ]
    }
   ],
   "source": [
    "pipeline"
   ]
  },
  {
   "cell_type": "markdown",
   "id": "994e1376-3e1b-4bf7-82d2-c202c12595c5",
   "metadata": {
    "tags": []
   },
   "source": [
    "### 类型定义"
   ]
  },
  {
   "cell_type": "code",
   "execution_count": 15,
   "id": "ed38fdce-9789-41f3-a2bb-a402d76e4d32",
   "metadata": {
    "tags": []
   },
   "outputs": [],
   "source": [
    "type ActionNode = {\n",
    "    type: 'Action',\n",
    "    name: string,\n",
    "    props: Record<string, unknown>\n",
    "}\n",
    "\n",
    "type FlowNode = {\n",
    "    type: 'Flow',\n",
    "    name: string,\n",
    "    props: Record<string, unknown>\n",
    "    children: (FlowNode | ActionNode)[]\n",
    "}"
   ]
  },
  {
   "cell_type": "markdown",
   "id": "ead95ecc-da39-4f3d-9546-b4de45a2e550",
   "metadata": {
    "tags": []
   },
   "source": [
    "## 动作流的执行引擎"
   ]
  },
  {
   "cell_type": "markdown",
   "id": "6b1f4602-6323-4434-90a5-6ecc20ff0773",
   "metadata": {
    "tags": []
   },
   "source": [
    "### 动作的定义\n",
    "\n",
    "- 什么是动作？如何定义动作？\n",
    "- 动作是一个操作，操作属于一种计算，函数即计算，所以动作可以用函数表达。—— 动作即函数！"
   ]
  },
  {
   "cell_type": "markdown",
   "id": "a64adc92-fc63-4828-95e7-a0d5f0ed4bfd",
   "metadata": {
    "tags": []
   },
   "source": [
    "### trival version"
   ]
  },
  {
   "cell_type": "code",
   "execution_count": 21,
   "id": "aefe8515-f6d1-4721-9710-1ad91a53a22e",
   "metadata": {
    "tags": []
   },
   "outputs": [],
   "source": [
    "const validateData = (ctx, props) => {\n",
    "    const record = ctx.record\n",
    "    // 实际上会解析规则来执行\n",
    "    return props.validate(record)\n",
    "}\n",
    "\n"
   ]
  },
  {
   "cell_type": "code",
   "execution_count": 24,
   "id": "06a06a28-e2d8-469f-bd81-d0261d4e607d",
   "metadata": {
    "tags": []
   },
   "outputs": [],
   "source": [
    "const invokeService = async (ctx, props) => {\n",
    "    const route = ctx.route\n",
    "    return props.invokeService(props.serviceKey)\n",
    "}"
   ]
  },
  {
   "cell_type": "code",
   "execution_count": 28,
   "id": "c702ede5-5563-4f00-acc2-c6f4212b33be",
   "metadata": {
    "tags": []
   },
   "outputs": [],
   "source": [
    "const ctx = {\n",
    "    record: { id: '1', name: 'iphone' },\n",
    "    route: { module: 'products', action: 'show' }\n",
    "}"
   ]
  },
  {
   "cell_type": "markdown",
   "id": "fe27543c-67ea-41a3-a313-e24c603a7cfa",
   "metadata": {},
   "source": [
    "## function composition\n",
    "\n",
    "- Why?\n",
    "- How?"
   ]
  },
  {
   "cell_type": "markdown",
   "id": "b903e9ad-fa21-4c10-be78-d9fdbbe10542",
   "metadata": {
    "tags": []
   },
   "source": [
    "### arity 1\n",
    "\n",
    "- 什么是函数的类型？"
   ]
  },
  {
   "cell_type": "code",
   "execution_count": 32,
   "id": "10a148cb-38b9-4e1f-b024-a14df541af8b",
   "metadata": {
    "tags": []
   },
   "outputs": [],
   "source": [
    "const add1 = x => x + 1\n",
    "const x2 = x => x * 2"
   ]
  },
  {
   "cell_type": "code",
   "execution_count": 35,
   "id": "93059a67-4bc9-4ead-9e7b-392564ddfa91",
   "metadata": {
    "tags": []
   },
   "outputs": [
    {
     "name": "stdout",
     "output_type": "stream",
     "text": [
      "\u001b[33m202\u001b[39m\n"
     ]
    }
   ],
   "source": [
    "// (x + 1) * 2\n",
    "\n",
    "const f = x => x2(add1(x))\n",
    "f(100)"
   ]
  },
  {
   "cell_type": "code",
   "execution_count": 34,
   "id": "2724b3ae-a620-45d5-8e72-beb30dff7956",
   "metadata": {
    "tags": []
   },
   "outputs": [],
   "source": [
    "const compose = (f, g) => x => f(g(x)) "
   ]
  },
  {
   "cell_type": "code",
   "execution_count": 36,
   "id": "1a352352-924f-4245-a559-b17b4ae9b889",
   "metadata": {
    "tags": []
   },
   "outputs": [],
   "source": [
    "const f = compose(x2, add1)"
   ]
  },
  {
   "cell_type": "code",
   "execution_count": 37,
   "id": "d22d4726-13b0-4861-9ce6-f5783a0880c8",
   "metadata": {
    "tags": []
   },
   "outputs": [
    {
     "name": "stdout",
     "output_type": "stream",
     "text": [
      "\u001b[33m202\u001b[39m\n"
     ]
    }
   ],
   "source": [
    "f(100)"
   ]
  },
  {
   "cell_type": "markdown",
   "id": "7014cde9-c627-4a58-aa3f-86cd78f4eda5",
   "metadata": {},
   "source": [
    "### curry"
   ]
  },
  {
   "cell_type": "code",
   "execution_count": 48,
   "id": "3740b5e1-ff09-4d27-a9d7-ef2e11988050",
   "metadata": {
    "tags": []
   },
   "outputs": [],
   "source": [
    "const add = (x, y, z) => x + y + z\n",
    "const add2 = x => y => z => x + y + z"
   ]
  },
  {
   "cell_type": "code",
   "execution_count": 49,
   "id": "86d2d554-db48-435b-99c9-49e68d6963c7",
   "metadata": {
    "tags": []
   },
   "outputs": [
    {
     "name": "stdout",
     "output_type": "stream",
     "text": [
      "\u001b[33m6\u001b[39m\n"
     ]
    }
   ],
   "source": [
    "add(1,2,3)"
   ]
  },
  {
   "cell_type": "code",
   "execution_count": 50,
   "id": "c7a5683f-e92a-4962-94c3-3513387b7748",
   "metadata": {
    "tags": []
   },
   "outputs": [
    {
     "name": "stdout",
     "output_type": "stream",
     "text": [
      "\u001b[33m6\u001b[39m\n"
     ]
    }
   ],
   "source": [
    "add2(1)(2)(3)"
   ]
  },
  {
   "cell_type": "markdown",
   "id": "109d50bb-4e47-4ee3-be33-a57844c782df",
   "metadata": {},
   "source": [
    "### pointless"
   ]
  },
  {
   "cell_type": "code",
   "execution_count": 51,
   "id": "308e5c96-5fb3-4673-9c24-43de212fa078",
   "metadata": {
    "tags": []
   },
   "outputs": [],
   "source": [
    "const range = n => [...Array(n).keys()]"
   ]
  },
  {
   "cell_type": "code",
   "execution_count": 52,
   "id": "174e778e-a7f6-40cb-911d-ded3c0fd4ef0",
   "metadata": {
    "tags": []
   },
   "outputs": [
    {
     "name": "stdout",
     "output_type": "stream",
     "text": [
      "[\n",
      "  \u001b[33m0\u001b[39m, \u001b[33m1\u001b[39m, \u001b[33m2\u001b[39m, \u001b[33m3\u001b[39m, \u001b[33m4\u001b[39m,\n",
      "  \u001b[33m5\u001b[39m, \u001b[33m6\u001b[39m, \u001b[33m7\u001b[39m, \u001b[33m8\u001b[39m, \u001b[33m9\u001b[39m\n",
      "]\n"
     ]
    }
   ],
   "source": [
    "range(10)"
   ]
  },
  {
   "cell_type": "code",
   "execution_count": 53,
   "id": "a36d748b-d46e-4b24-8dce-431a76229558",
   "metadata": {
    "tags": []
   },
   "outputs": [],
   "source": [
    "const { faker } = require('@faker-js/faker')"
   ]
  },
  {
   "cell_type": "markdown",
   "id": "66a5b550-9f4b-429a-844f-7e70ef4b50ba",
   "metadata": {},
   "source": [
    "[faker-js](https://fakerjs.dev/guide/usage.html) [faker-js/api](https://fakerjs.dev/api/)"
   ]
  },
  {
   "cell_type": "code",
   "execution_count": 54,
   "id": "be83d34e-706b-4593-b8d0-958f34fe7fd6",
   "metadata": {
    "tags": []
   },
   "outputs": [
    {
     "name": "stdout",
     "output_type": "stream",
     "text": [
      "Persian\n"
     ]
    }
   ],
   "source": [
    "faker.animal.cat()"
   ]
  },
  {
   "cell_type": "code",
   "execution_count": 65,
   "id": "af76a0f2-5f1a-4207-b237-5445d7204ab7",
   "metadata": {
    "tags": []
   },
   "outputs": [],
   "source": [
    "const cats = range(100).map(_ => ({ id: faker.datatype.uuid(), name: faker.animal.cat(), age: faker.datatype.number(100), dark: faker.datatype.boolean() }))"
   ]
  },
  {
   "cell_type": "code",
   "execution_count": 93,
   "id": "0899a534-0f86-4594-8778-c64deabf51b0",
   "metadata": {
    "tags": []
   },
   "outputs": [
    {
     "name": "stdout",
     "output_type": "stream",
     "text": [
      "[\n",
      "  \u001b[32m'8e53baad-c931-4e2b-a44e-2313e99c6654'\u001b[39m,\n",
      "  \u001b[32m'afa8ce05-3f41-4c88-b4d1-8b0186abb1db'\u001b[39m,\n",
      "  \u001b[32m'07be175d-b81c-43e9-a2e0-273cd3bcd796'\u001b[39m,\n",
      "  \u001b[32m'0a2bef0f-cc35-4c56-b3ef-e569bdd1d1d4'\u001b[39m,\n",
      "  \u001b[32m'8eb43676-3f1d-4089-b842-4d6da82f6b78'\u001b[39m,\n",
      "  \u001b[32m'9191352e-e583-4cdb-91e7-f73cff8e99d8'\u001b[39m,\n",
      "  \u001b[32m'cffc228c-583a-4ef5-b3b5-8fd1ed1c88c0'\u001b[39m,\n",
      "  \u001b[32m'1afb31e1-f958-4449-b85d-b12740a842d5'\u001b[39m,\n",
      "  \u001b[32m'ba7bff04-146f-4d34-9f09-75a440b5540e'\u001b[39m,\n",
      "  \u001b[32m'117269b5-2d15-452d-816f-67e80b61a759'\u001b[39m\n",
      "]\n"
     ]
    }
   ],
   "source": [
    "cats.filter(x => x.age < 10).map(x => x.id)"
   ]
  },
  {
   "cell_type": "code",
   "execution_count": 110,
   "id": "a8dc243f-9d79-4d11-97f5-d5a65e2fadfc",
   "metadata": {
    "tags": []
   },
   "outputs": [],
   "source": [
    "const findByAge = (list, age) => list.filter(x => x.age < age)"
   ]
  },
  {
   "cell_type": "code",
   "execution_count": 94,
   "id": "0df140aa-370d-4487-8fa8-402d3c69f469",
   "metadata": {
    "tags": []
   },
   "outputs": [],
   "source": [
    "//findByAge(cats, 10)"
   ]
  },
  {
   "cell_type": "code",
   "execution_count": 111,
   "id": "e53e54f8-e914-4581-bd3a-49997887784f",
   "metadata": {
    "tags": []
   },
   "outputs": [
    {
     "name": "stdout",
     "output_type": "stream",
     "text": [
      "\u001b[36m[Function (anonymous)]\u001b[39m\n"
     ]
    }
   ],
   "source": [
    "const findByAge = list => age => list.filter(x => x.age < age)\n",
    "\n",
    "//fiterWithAge(cats)(10)\n",
    "findByAge(cats)"
   ]
  },
  {
   "cell_type": "code",
   "execution_count": 112,
   "id": "309fbfc1-8a86-4dac-a3a1-4c59e8b6c262",
   "metadata": {
    "tags": []
   },
   "outputs": [],
   "source": [
    "const search = list => text => list.filter(x => x.name.includes(text))"
   ]
  },
  {
   "cell_type": "code",
   "execution_count": 98,
   "id": "e027edcb-60c6-43a6-9778-d3c2bc480491",
   "metadata": {
    "tags": []
   },
   "outputs": [
    {
     "name": "stdout",
     "output_type": "stream",
     "text": [
      "\u001b[36m[Function (anonymous)]\u001b[39m\n"
     ]
    }
   ],
   "source": [
    "//search(cats)('S')\n",
    "search(cats)"
   ]
  },
  {
   "cell_type": "code",
   "execution_count": 113,
   "id": "2b559e89-25b4-41d4-b270-04adeee66b05",
   "metadata": {
    "tags": []
   },
   "outputs": [],
   "source": [
    "const fiindByAgeAndSearch = (list, age, text) => search(findByAge(list)(age))(text)"
   ]
  },
  {
   "cell_type": "code",
   "execution_count": 115,
   "id": "5071ac44-533b-4c8d-a049-4bd7e42beea0",
   "metadata": {
    "tags": []
   },
   "outputs": [],
   "source": [
    "// fiindByAgeAndSearch(cats, 10, 'S')"
   ]
  },
  {
   "cell_type": "code",
   "execution_count": 116,
   "id": "eebf009f-2aaf-4773-bde4-9baa03d3e61b",
   "metadata": {
    "tags": []
   },
   "outputs": [],
   "source": [
    "const findByAge = age => list => list.filter(x => x.age < age)\n",
    "const search = text => list => list.filter(x => x.name.includes(text))"
   ]
  },
  {
   "cell_type": "code",
   "execution_count": 119,
   "id": "c74c3f44-996d-4c01-b4f2-358472529776",
   "metadata": {
    "tags": []
   },
   "outputs": [],
   "source": [
    "const fiindByAgeAndSearch = (age, text) => compose(search(text), findByAge(age))"
   ]
  },
  {
   "cell_type": "code",
   "execution_count": 121,
   "id": "dfe42778-301a-4ac7-af85-da598d69a501",
   "metadata": {
    "tags": []
   },
   "outputs": [
    {
     "name": "stdout",
     "output_type": "stream",
     "text": [
      "[\n",
      "  {\n",
      "    id: \u001b[32m'8e53baad-c931-4e2b-a44e-2313e99c6654'\u001b[39m,\n",
      "    name: \u001b[32m'Sphynx'\u001b[39m,\n",
      "    age: \u001b[33m2\u001b[39m,\n",
      "    dark: \u001b[33mtrue\u001b[39m\n",
      "  },\n",
      "  {\n",
      "    id: \u001b[32m'8eb43676-3f1d-4089-b842-4d6da82f6b78'\u001b[39m,\n",
      "    name: \u001b[32m'Exotic Shorthair'\u001b[39m,\n",
      "    age: \u001b[33m2\u001b[39m,\n",
      "    dark: \u001b[33mfalse\u001b[39m\n",
      "  },\n",
      "  {\n",
      "    id: \u001b[32m'1afb31e1-f958-4449-b85d-b12740a842d5'\u001b[39m,\n",
      "    name: \u001b[32m'Snowshoe'\u001b[39m,\n",
      "    age: \u001b[33m2\u001b[39m,\n",
      "    dark: \u001b[33mfalse\u001b[39m\n",
      "  }\n",
      "]\n"
     ]
    }
   ],
   "source": [
    "fiindByAgeAndSearch(10, 'S')(cats)"
   ]
  },
  {
   "cell_type": "markdown",
   "id": "9818be89-89fc-4541-9a18-844cea8baad3",
   "metadata": {},
   "source": [
    "### datalast"
   ]
  },
  {
   "cell_type": "code",
   "execution_count": 123,
   "id": "1f84bf72-48e2-4c3b-adf7-80b0155af5c0",
   "metadata": {
    "tags": []
   },
   "outputs": [],
   "source": [
    "const filter = f => list => list.filter(f)\n",
    "const map = f => list => list.map(f)\n",
    "const take = n => list => list.slice(0, n)"
   ]
  },
  {
   "cell_type": "code",
   "execution_count": 127,
   "id": "243184c3-f089-41c7-a6e8-1d1e2b94b049",
   "metadata": {
    "tags": []
   },
   "outputs": [],
   "source": [
    "const compose = (a, b, c) => x => a(b(c(x))) "
   ]
  },
  {
   "cell_type": "code",
   "execution_count": 128,
   "id": "9f8f6f34-81bc-4dac-af3d-9acfd4d0801e",
   "metadata": {
    "tags": []
   },
   "outputs": [],
   "source": [
    "const get2DarkCatsWithS = compose(\n",
    "    take(4),\n",
    "    filter(x => x.name.includes('S')),\n",
    "    filter(x => x.dark),\n",
    ")"
   ]
  },
  {
   "cell_type": "code",
   "execution_count": 129,
   "id": "90682a34-044c-4edf-8739-b972cc09f7c1",
   "metadata": {
    "tags": []
   },
   "outputs": [
    {
     "name": "stdout",
     "output_type": "stream",
     "text": [
      "[\n",
      "  {\n",
      "    id: \u001b[32m'8e53baad-c931-4e2b-a44e-2313e99c6654'\u001b[39m,\n",
      "    name: \u001b[32m'Sphynx'\u001b[39m,\n",
      "    age: \u001b[33m2\u001b[39m,\n",
      "    dark: \u001b[33mtrue\u001b[39m\n",
      "  },\n",
      "  {\n",
      "    id: \u001b[32m'e638e320-2046-4e1d-92ce-86b6b484b830'\u001b[39m,\n",
      "    name: \u001b[32m'Savannah'\u001b[39m,\n",
      "    age: \u001b[33m85\u001b[39m,\n",
      "    dark: \u001b[33mtrue\u001b[39m\n",
      "  },\n",
      "  {\n",
      "    id: \u001b[32m'516121ab-c3fa-4700-b00d-8a89ee41d860'\u001b[39m,\n",
      "    name: \u001b[32m'British Shorthair'\u001b[39m,\n",
      "    age: \u001b[33m29\u001b[39m,\n",
      "    dark: \u001b[33mtrue\u001b[39m\n",
      "  },\n",
      "  {\n",
      "    id: \u001b[32m'aadbc7da-83e7-4661-9ef6-f9888e635b26'\u001b[39m,\n",
      "    name: \u001b[32m'British Shorthair'\u001b[39m,\n",
      "    age: \u001b[33m43\u001b[39m,\n",
      "    dark: \u001b[33mtrue\u001b[39m\n",
      "  }\n",
      "]\n"
     ]
    }
   ],
   "source": [
    "get2DarkCatsWithS(cats)"
   ]
  },
  {
   "cell_type": "markdown",
   "id": "9aac81fc-c4e8-47d2-b047-ac77b6611fee",
   "metadata": {},
   "source": [
    "## use ramda"
   ]
  },
  {
   "cell_type": "code",
   "execution_count": 142,
   "id": "abab47a6-bbc6-4af5-9bec-75b65a332cf2",
   "metadata": {
    "tags": []
   },
   "outputs": [],
   "source": [
    "const { map, filter, compose, prop, take, pick, sortBy } = require('ramda')"
   ]
  },
  {
   "cell_type": "markdown",
   "id": "d0c4d8d1-80b3-4180-9dc3-caac8e52b227",
   "metadata": {},
   "source": [
    "### transform data"
   ]
  },
  {
   "cell_type": "code",
   "execution_count": 140,
   "id": "023afe4f-4e74-4ec5-ba2e-061e5acd3c82",
   "metadata": {
    "tags": []
   },
   "outputs": [],
   "source": [
    "const transform = map(pick(['id', 'name']))\n",
    "// transform(cats)"
   ]
  },
  {
   "cell_type": "code",
   "execution_count": 160,
   "id": "d042b1f1-2538-4cd8-b74f-c6e8195ee582",
   "metadata": {
    "tags": []
   },
   "outputs": [
    {
     "name": "stdout",
     "output_type": "stream",
     "text": [
      "[\n",
      "  { id: \u001b[32m'405c6691-fd40-45c3-a312-5af5c94f3939'\u001b[39m, name: \u001b[32m'Thai'\u001b[39m },\n",
      "  { id: \u001b[32m'05236427-91df-41a1-addc-1839d76cb6e2'\u001b[39m, name: \u001b[32m'Burmese'\u001b[39m },\n",
      "  { id: \u001b[32m'c727e101-a862-4250-b3ed-bb6ca8d7eae1'\u001b[39m, name: \u001b[32m'Burmese'\u001b[39m },\n",
      "  { id: \u001b[32m'112fe575-4c18-46c5-9e0e-35efd5f0efc0'\u001b[39m, name: \u001b[32m'Himalayan'\u001b[39m },\n",
      "  { id: \u001b[32m'5fbc6332-1271-4a63-890c-67a29077dd31'\u001b[39m, name: \u001b[32m'Singapura'\u001b[39m }\n",
      "]\n"
     ]
    }
   ],
   "source": [
    "const getData = compose(\n",
    "    take(5),\n",
    "    map(pick(['id', 'name'])),\n",
    "    sortBy(prop('age')),\n",
    "    filter(x => x.age > 10)\n",
    ")\n",
    "\n",
    "getData(cats)"
   ]
  },
  {
   "cell_type": "markdown",
   "id": "458863a3-7236-4713-8507-4288b7c3a48a",
   "metadata": {
    "tags": []
   },
   "source": [
    "### curry"
   ]
  },
  {
   "cell_type": "code",
   "execution_count": 163,
   "id": "766ff908-270d-4b38-ba3c-c7f4dccd9efd",
   "metadata": {
    "tags": []
   },
   "outputs": [
    {
     "name": "stdout",
     "output_type": "stream",
     "text": [
      "\u001b[33m6\u001b[39m\n"
     ]
    }
   ],
   "source": [
    "const add = a => b => c => a + b + c\n",
    "add(1)(2)(3)"
   ]
  },
  {
   "cell_type": "code",
   "execution_count": 166,
   "id": "fc285c17-cdb3-4900-acd6-88b133df6268",
   "metadata": {
    "tags": []
   },
   "outputs": [],
   "source": [
    "const { curry } = require('ramda')"
   ]
  },
  {
   "cell_type": "code",
   "execution_count": 168,
   "id": "90f987f9-3c95-4c97-8a2a-479c9b72a6e6",
   "metadata": {
    "tags": []
   },
   "outputs": [
    {
     "name": "stdout",
     "output_type": "stream",
     "text": [
      "\u001b[33m6\u001b[39m\n"
     ]
    }
   ],
   "source": [
    "const add = curry((a, b, c) => a + b + c)\n",
    "add(1, 2, 3)\n",
    "add(1, 2)(3)\n",
    "add(1)(2, 3)\n",
    "add(1)(2)(3)"
   ]
  },
  {
   "cell_type": "markdown",
   "id": "154afa5c-2c79-4612-b15c-7941f60a3ec8",
   "metadata": {},
   "source": [
    "## 组合动作函数"
   ]
  },
  {
   "cell_type": "markdown",
   "id": "1c06020b-6ac3-44e3-b5b5-39b3b048664d",
   "metadata": {},
   "source": [
    "### schema node"
   ]
  },
  {
   "cell_type": "code",
   "execution_count": 169,
   "id": "a6174290-47fc-433a-8e80-202880e6ba2f",
   "metadata": {
    "tags": []
   },
   "outputs": [],
   "source": [
    "const beforeFlow = {\n",
    "    type: 'Flow',\n",
    "    name: 'Validate',\n",
    "    props: {\n",
    "        // 这里只是演示，实际中不需要，直接实现成 breakOnFirst即可满足需求\n",
    "        breakOnFirst: true,\n",
    "    },\n",
    "    children: [\n",
    "        {\n",
    "            type: 'Action',\n",
    "            name: 'ValidateData',\n",
    "            props: {\n",
    "              // 规则选择器的属性值\n",
    "            }\n",
    "        },\n",
    "        \n",
    "        {\n",
    "            type: 'Action',\n",
    "            name: 'InvokeService',\n",
    "            props: {\n",
    "                serviceKey: 'xxx',\n",
    "            }\n",
    "        }\n",
    "    ]\n",
    "}"
   ]
  },
  {
   "cell_type": "code",
   "execution_count": 170,
   "id": "444ade36-0092-4cde-9e80-91aaca759440",
   "metadata": {
    "tags": []
   },
   "outputs": [],
   "source": [
    "const computeFlow = {\n",
    "    type: 'Flow',\n",
    "    name: 'Compute',\n",
    "    props: {\n",
    "        parallel: true,\n",
    "    },\n",
    "    children: [\n",
    "        {\n",
    "            type: 'Action',\n",
    "            name: 'InvokeService',\n",
    "            props: {\n",
    "                serviceKey: 'loadProducts',\n",
    "            }\n",
    "        },\n",
    "        {\n",
    "            // 工作流\n",
    "            type: 'Action',\n",
    "            name: 'InvokeFlow',\n",
    "            props: {\n",
    "                flowKey: 'notifyDingding'\n",
    "            }\n",
    "        }\n",
    "    ]\n",
    "}"
   ]
  },
  {
   "cell_type": "markdown",
   "id": "82bf7639-19df-4b18-88c7-f722f03c86af",
   "metadata": {},
   "source": [
    "### 动作的函数类型"
   ]
  },
  {
   "cell_type": "markdown",
   "id": "20c323f1-33d4-4473-99a5-8b313affb61b",
   "metadata": {},
   "source": [
    "#### 可组合: curry, datalast, arity 1"
   ]
  },
  {
   "cell_type": "code",
   "execution_count": 171,
   "id": "1818a4ec-f4ae-47b9-a4d6-b0cbde2f5488",
   "metadata": {
    "tags": []
   },
   "outputs": [],
   "source": [
    "const invokeService = props => ctx => {\n",
    "    \n",
    "}\n",
    "\n",
    "const invokeFlow = props => ctx => {\n",
    "}\n",
    "\n",
    "// or\n",
    "const validateData = (a, b, c) => ctx => {\n",
    "}"
   ]
  },
  {
   "cell_type": "markdown",
   "id": "6cdb31aa-6ac7-42fd-ab22-c7fe8058ad3a",
   "metadata": {},
   "source": [
    "#### async"
   ]
  },
  {
   "cell_type": "code",
   "execution_count": 229,
   "id": "1438819f-8547-4a66-a057-43ae2ace064a",
   "metadata": {
    "tags": []
   },
   "outputs": [],
   "source": [
    "const sleep = n => new Promise(r => setTimeout(r, n))\n",
    "\n",
    "const invokeService = props => async ctx => {\n",
    "    await sleep(300)\n",
    "    console.log('invoke service, props: %o, ctx: %o', props, ctx)\n",
    "    return { serviceKey: props.serviceKey, param: props.param, route: ctx.route }\n",
    "}"
   ]
  },
  {
   "cell_type": "code",
   "execution_count": 230,
   "id": "3346ee44-d34b-4e7d-8a70-94d7014665ff",
   "metadata": {
    "tags": []
   },
   "outputs": [],
   "source": [
    "const invokeFlow = props => async ctx => {\n",
    "    await sleep(300)\n",
    "    console.log('invoke flow, props: %o, ctx: %o', props, ctx)\n",
    "    return { flowKey: props.flowKey, route: ctx.route }\n",
    "}"
   ]
  },
  {
   "cell_type": "code",
   "execution_count": 231,
   "id": "054b9f5b-4761-44c5-9465-d0dadd89e3a7",
   "metadata": {
    "tags": []
   },
   "outputs": [],
   "source": [
    "const ctx = {\n",
    "    record: { id: '1', name: 'iphone' },\n",
    "    route: { module: 'products', action: 'show' }\n",
    "}"
   ]
  },
  {
   "cell_type": "markdown",
   "id": "d60b87ca-c6f1-4c4c-a72e-642de283e3d6",
   "metadata": {
    "tags": []
   },
   "source": [
    "#### test\n",
    "\n",
    "The code should be written that easy to test, but ideally it should not require testing."
   ]
  },
  {
   "cell_type": "code",
   "execution_count": 232,
   "id": "58cf541e-7ca9-4587-b0ad-42a165c7f61c",
   "metadata": {
    "tags": []
   },
   "outputs": [
    {
     "name": "stdout",
     "output_type": "stream",
     "text": [
      "invoke service, props: { serviceKey: \u001b[32m'xxxbbb'\u001b[39m, param: \u001b[32m'123'\u001b[39m }, ctx: {\n",
      "  record: { id: \u001b[32m'1'\u001b[39m, name: \u001b[32m'iphone'\u001b[39m },\n",
      "  route: { module: \u001b[32m'products'\u001b[39m, action: \u001b[32m'show'\u001b[39m }\n",
      "}\n",
      "{\n",
      "  serviceKey: \u001b[32m'xxxbbb'\u001b[39m,\n",
      "  param: \u001b[32m'123'\u001b[39m,\n",
      "  route: { module: \u001b[32m'products'\u001b[39m, action: \u001b[32m'show'\u001b[39m }\n",
      "}\n"
     ]
    }
   ],
   "source": [
    "await invokeService({ serviceKey: 'xxxbbb', param: '123' })(ctx)"
   ]
  },
  {
   "cell_type": "markdown",
   "id": "81efd514-4395-4e35-82af-fba36610fdd4",
   "metadata": {},
   "source": [
    "## 实现Flow\n",
    "\n",
    "- 动作的组合"
   ]
  },
  {
   "cell_type": "code",
   "execution_count": 233,
   "id": "f4d5088b-12ae-46c8-aef2-e517d631c5a8",
   "metadata": {
    "tags": []
   },
   "outputs": [],
   "source": [
    "const computeFlow = {\n",
    "    type: 'Flow',\n",
    "    name: 'Compute',\n",
    "    props: {\n",
    "        parallel: true,\n",
    "    },\n",
    "    children: [\n",
    "        {\n",
    "            type: 'Action',\n",
    "            name: 'InvokeService',\n",
    "            props: {\n",
    "                serviceKey: 'loadProduct',\n",
    "                param: 1,\n",
    "            }\n",
    "        },\n",
    "        {\n",
    "            type: 'Action',\n",
    "            name: 'InvokeService',\n",
    "            props: {\n",
    "                serviceKey: 'loadProduct',\n",
    "                param: 2,\n",
    "            }\n",
    "        },\n",
    "        {\n",
    "            // 工作流\n",
    "            type: 'Action',\n",
    "            name: 'InvokeFlow',\n",
    "            props: {\n",
    "                flowKey: 'notifyDingding'\n",
    "            }\n",
    "        }\n",
    "    ]\n",
    "}"
   ]
  },
  {
   "cell_type": "markdown",
   "id": "acb602f8-44a9-4448-8fdd-0036cadab008",
   "metadata": {
    "tags": []
   },
   "source": [
    "函数即数据， 将上述结构转成函数"
   ]
  },
  {
   "cell_type": "code",
   "execution_count": 234,
   "id": "de2ac0f7-e475-4e20-a2d7-06b993f6c96d",
   "metadata": {
    "tags": []
   },
   "outputs": [],
   "source": [
    "const Actions = {\n",
    "  InvokeService: invokeService,\n",
    "  InvokeFlow: invokeFlow\n",
    "}"
   ]
  },
  {
   "cell_type": "code",
   "execution_count": 219,
   "id": "2c076b74-2456-493c-93e8-0176755b1b1d",
   "metadata": {
    "tags": []
   },
   "outputs": [
    {
     "name": "stdout",
     "output_type": "stream",
     "text": [
      "{\n",
      "  InvokeService: \u001b[36m[Function: invokeService]\u001b[39m,\n",
      "  InvokeFlow: \u001b[36m[Function: invokeFlow]\u001b[39m\n",
      "}\n"
     ]
    }
   ],
   "source": [
    "Actions"
   ]
  },
  {
   "cell_type": "code",
   "execution_count": 235,
   "id": "0078316d-0d60-4442-8069-78db84a781c9",
   "metadata": {
    "tags": []
   },
   "outputs": [],
   "source": [
    "const fns = computeFlow.children.map(child => Actions[child.name](child.props))"
   ]
  },
  {
   "cell_type": "code",
   "execution_count": 221,
   "id": "63137280-e694-41c7-81b1-406e12f11825",
   "metadata": {
    "tags": []
   },
   "outputs": [
    {
     "name": "stdout",
     "output_type": "stream",
     "text": [
      "[\n",
      "  \u001b[36m[AsyncFunction (anonymous)]\u001b[39m,\n",
      "  \u001b[36m[AsyncFunction (anonymous)]\u001b[39m,\n",
      "  \u001b[36m[AsyncFunction (anonymous)]\u001b[39m\n",
      "]\n"
     ]
    }
   ],
   "source": [
    "fns"
   ]
  },
  {
   "cell_type": "code",
   "execution_count": 222,
   "id": "5321f9ba-f8ab-4595-8b77-d225daa7b905",
   "metadata": {
    "tags": []
   },
   "outputs": [],
   "source": [
    "type Context = unknown\n",
    "type ActionFn = (ctx: Context) => unknown"
   ]
  },
  {
   "cell_type": "markdown",
   "id": "2c046ed8-2492-4439-895c-dc4dafaa48a7",
   "metadata": {
    "tags": []
   },
   "source": [
    "### Flow的函数类型"
   ]
  },
  {
   "cell_type": "code",
   "execution_count": 223,
   "id": "77a1b5f3-53be-478e-ad9c-240256f2b920",
   "metadata": {
    "tags": []
   },
   "outputs": [],
   "source": [
    "type Dict = Record<string, unknown>\n",
    "const compute = (props: Dict, children: ActionFn[]) => async (ctx: Context) => {\n",
    "  \n",
    "}"
   ]
  },
  {
   "cell_type": "markdown",
   "id": "e13dc07e-7105-45f1-bd78-fff81715e7d9",
   "metadata": {},
   "source": [
    "### 并行 & map"
   ]
  },
  {
   "cell_type": "code",
   "execution_count": null,
   "id": "b79a62b0-1e10-405a-9bc1-d8423f547870",
   "metadata": {},
   "outputs": [],
   "source": [
    "const compute = (props, children) => async ctx => {\n",
    "    return Promise.all(children.map(fn => fn(ctx))) \n",
    "}"
   ]
  },
  {
   "cell_type": "code",
   "execution_count": null,
   "id": "d62ea1fb-e7e8-4c66-8f32-f95d4b4d8eea",
   "metadata": {},
   "outputs": [
    {
     "name": "stdout",
     "output_type": "stream",
     "text": [
      "invoke service, props: { serviceKey: \u001b[32m'loadProduct'\u001b[39m, param: \u001b[33m1\u001b[39m }, ctx: {\n",
      "  record: { id: \u001b[32m'1'\u001b[39m, name: \u001b[32m'iphone'\u001b[39m },\n",
      "  route: { module: \u001b[32m'products'\u001b[39m, action: \u001b[32m'show'\u001b[39m }\n",
      "}\n",
      "invoke service, props: { serviceKey: \u001b[32m'loadProduct'\u001b[39m, param: \u001b[33m2\u001b[39m }, ctx: {\n",
      "  record: { id: \u001b[32m'1'\u001b[39m, name: \u001b[32m'iphone'\u001b[39m },\n",
      "  route: { module: \u001b[32m'products'\u001b[39m, action: \u001b[32m'show'\u001b[39m }\n",
      "}\n",
      "invoke flow, props: { flowKey: \u001b[32m'notifyDingding'\u001b[39m }, ctx: {\n",
      "  record: { id: \u001b[32m'1'\u001b[39m, name: \u001b[32m'iphone'\u001b[39m },\n",
      "  route: { module: \u001b[32m'products'\u001b[39m, action: \u001b[32m'show'\u001b[39m }\n",
      "}\n",
      "[\n",
      "  {\n",
      "    serviceKey: \u001b[32m'loadProduct'\u001b[39m,\n",
      "    param: \u001b[33m1\u001b[39m,\n",
      "    route: { module: \u001b[32m'products'\u001b[39m, action: \u001b[32m'show'\u001b[39m }\n",
      "  },\n",
      "  {\n",
      "    serviceKey: \u001b[32m'loadProduct'\u001b[39m,\n",
      "    param: \u001b[33m2\u001b[39m,\n",
      "    route: { module: \u001b[32m'products'\u001b[39m, action: \u001b[32m'show'\u001b[39m }\n",
      "  },\n",
      "  {\n",
      "    flowKey: \u001b[32m'notifyDingding'\u001b[39m,\n",
      "    route: { module: \u001b[32m'products'\u001b[39m, action: \u001b[32m'show'\u001b[39m }\n",
      "  }\n",
      "]\n"
     ]
    }
   ],
   "source": [
    "await compute({}, fns)(ctx)"
   ]
  },
  {
   "cell_type": "markdown",
   "id": "b23cb8f0-aef6-446e-80a9-98dfd4053e86",
   "metadata": {
    "tags": []
   },
   "source": [
    "### 串行 & reduce"
   ]
  },
  {
   "cell_type": "code",
   "execution_count": null,
   "id": "800723a4-ab16-4352-bf67-45617b01ebab",
   "metadata": {},
   "outputs": [],
   "source": [
    "const compute = (props, children) => async ctx => {\n",
    "    return children.reduce((promise, fn) => promise.then(x => fn({ ...ctx, ...x })), Promise.resolve({}))\n",
    "}"
   ]
  },
  {
   "cell_type": "code",
   "execution_count": null,
   "id": "669885e7-40fc-4910-b24d-5106c1cef394",
   "metadata": {},
   "outputs": [
    {
     "name": "stdout",
     "output_type": "stream",
     "text": [
      "invoke service, props: { serviceKey: \u001b[32m'loadProduct'\u001b[39m, param: \u001b[33m1\u001b[39m }, ctx: {\n",
      "  record: { id: \u001b[32m'1'\u001b[39m, name: \u001b[32m'iphone'\u001b[39m },\n",
      "  route: { module: \u001b[32m'products'\u001b[39m, action: \u001b[32m'show'\u001b[39m }\n",
      "}\n",
      "invoke service, props: { serviceKey: \u001b[32m'loadProduct'\u001b[39m, param: \u001b[33m2\u001b[39m }, ctx: {\n",
      "  record: { id: \u001b[32m'1'\u001b[39m, name: \u001b[32m'iphone'\u001b[39m },\n",
      "  route: { module: \u001b[32m'products'\u001b[39m, action: \u001b[32m'show'\u001b[39m },\n",
      "  serviceKey: \u001b[32m'loadProduct'\u001b[39m,\n",
      "  param: \u001b[33m1\u001b[39m\n",
      "}\n",
      "invoke flow, props: { flowKey: \u001b[32m'notifyDingding'\u001b[39m }, ctx: {\n",
      "  record: { id: \u001b[32m'1'\u001b[39m, name: \u001b[32m'iphone'\u001b[39m },\n",
      "  route: { module: \u001b[32m'products'\u001b[39m, action: \u001b[32m'show'\u001b[39m },\n",
      "  serviceKey: \u001b[32m'loadProduct'\u001b[39m,\n",
      "  param: \u001b[33m2\u001b[39m\n",
      "}\n",
      "{\n",
      "  flowKey: \u001b[32m'notifyDingding'\u001b[39m,\n",
      "  route: { module: \u001b[32m'products'\u001b[39m, action: \u001b[32m'show'\u001b[39m }\n",
      "}\n"
     ]
    }
   ],
   "source": [
    "await compute({}, fns)(ctx)"
   ]
  },
  {
   "cell_type": "markdown",
   "id": "767949db-7265-4701-8556-407cfadde247",
   "metadata": {},
   "source": [
    "## 加深对reduce的理解"
   ]
  },
  {
   "cell_type": "code",
   "execution_count": 240,
   "id": "6bd33bee-f723-4de7-8313-6c0824d7f13e",
   "metadata": {
    "tags": []
   },
   "outputs": [],
   "source": [
    "const list = range(100).map(_ => Math.random())"
   ]
  },
  {
   "cell_type": "code",
   "execution_count": 242,
   "id": "9a12d082-715f-4206-81f4-97e81ce0cfc3",
   "metadata": {
    "tags": []
   },
   "outputs": [],
   "source": [
    "// list"
   ]
  },
  {
   "cell_type": "code",
   "execution_count": 243,
   "id": "f79979ce-08e8-4304-bffe-5558c8e118aa",
   "metadata": {
    "tags": []
   },
   "outputs": [
    {
     "name": "stdout",
     "output_type": "stream",
     "text": [
      "\u001b[33m48.07869205749073\u001b[39m\n"
     ]
    }
   ],
   "source": [
    "list.reduce((acc, item) => acc + item, 0)"
   ]
  },
  {
   "cell_type": "code",
   "execution_count": 257,
   "id": "17741390-54eb-4d73-b679-f13d00f4b38e",
   "metadata": {
    "tags": []
   },
   "outputs": [],
   "source": [
    "// cats"
   ]
  },
  {
   "cell_type": "code",
   "execution_count": 260,
   "id": "8e2c8d45-f891-45f6-9c01-6d1eaf91d3a8",
   "metadata": {
    "tags": []
   },
   "outputs": [
    {
     "name": "stdout",
     "output_type": "stream",
     "text": [
      "\n"
     ]
    }
   ],
   "source": [
    "// 组织成以age为key的Map列表\n",
    "\n",
    "cats.reduce((acc, cat) => {\n",
    "  const bag = acc[cat.age] || []\n",
    "  acc[cat.age] = bag\n",
    "  bag.push(cat)\n",
    "  return acc\n",
    "}, {})\n",
    "\n",
    "''\n"
   ]
  },
  {
   "cell_type": "code",
   "execution_count": 268,
   "id": "ad1543a8-89c4-419b-a499-92efe0b2df21",
   "metadata": {
    "tags": []
   },
   "outputs": [
    {
     "name": "stdout",
     "output_type": "stream",
     "text": [
      "\n"
     ]
    }
   ],
   "source": [
    "const { groupBy, prop } = require('ramda')\n",
    "\n",
    "groupBy(prop('age'))(cats); //(cats)\n",
    "\n",
    "''"
   ]
  },
  {
   "cell_type": "code",
   "execution_count": 276,
   "id": "97063553-2afa-44e6-97ee-289bf647a58d",
   "metadata": {
    "tags": []
   },
   "outputs": [
    {
     "name": "stdout",
     "output_type": "stream",
     "text": [
      "\u001b[33m48.07869205749073\u001b[39m\n"
     ]
    }
   ],
   "source": [
    "const { reduce } = require('ramda')\n",
    "\n",
    "const add = (a, b) => a + b\n",
    "reduce(add, 0, list)"
   ]
  },
  {
   "cell_type": "code",
   "execution_count": 279,
   "id": "7478c21b-b674-4462-b1e6-6ea7079df707",
   "metadata": {
    "tags": []
   },
   "outputs": [
    {
     "name": "stdout",
     "output_type": "stream",
     "text": [
      "\u001b[33m5148\u001b[39m\n"
     ]
    }
   ],
   "source": [
    "const sumCatsAge = compose(\n",
    "  reduce(add, 0),\n",
    "  map(prop('age'))\n",
    ")\n",
    "\n",
    "sumCatsAge(cats)\n"
   ]
  },
  {
   "cell_type": "markdown",
   "id": "9df26128-e93a-42a8-b6eb-bdea98f278cd",
   "metadata": {},
   "source": [
    "### break in reduce"
   ]
  },
  {
   "cell_type": "code",
   "execution_count": null,
   "id": "0263d07d-1f24-41e1-94c9-0feb4526a023",
   "metadata": {},
   "outputs": [],
   "source": [
    "const { reduced, reduce } = require('ramda')"
   ]
  },
  {
   "cell_type": "code",
   "execution_count": 308,
   "id": "abdb9972-ce5f-487f-97cb-585ce17a7951",
   "metadata": {
    "tags": []
   },
   "outputs": [
    {
     "name": "stdout",
     "output_type": "stream",
     "text": [
      "\u001b[33m1035\u001b[39m\n"
     ]
    }
   ],
   "source": [
    "const reducer = (a, b) => a > 1000 ? reduced(a) : a + b\n",
    "reduce(reducer, 0)      (range(100))\n",
    "\n",
    "// 如何实现呢？"
   ]
  },
  {
   "cell_type": "markdown",
   "id": "c57f4411-d521-459b-a791-529ec0d76977",
   "metadata": {
    "tags": []
   },
   "source": [
    "### compose"
   ]
  },
  {
   "cell_type": "code",
   "execution_count": 289,
   "id": "b8ae72b6-436f-4307-aaaf-428ffadb7594",
   "metadata": {
    "tags": []
   },
   "outputs": [],
   "source": [
    "const compose2 = (f, g) => x => f(g(x))\n",
    "const compose = (...fns) => fns.reduce(compose2, x => x)"
   ]
  },
  {
   "cell_type": "code",
   "execution_count": 286,
   "id": "7dcf9446-77b4-412b-8d7f-7bd8560fffee",
   "metadata": {
    "tags": []
   },
   "outputs": [
    {
     "name": "stdout",
     "output_type": "stream",
     "text": [
      "\u001b[33m20\u001b[39m\n"
     ]
    }
   ],
   "source": [
    "const add = a => b => a + b\n",
    "\n",
    "compose(\n",
    "  add(1),\n",
    "  add(2),\n",
    "  add(3),\n",
    "  add(4)\n",
    ")(10)"
   ]
  },
  {
   "cell_type": "code",
   "execution_count": 292,
   "id": "970a3f44-b471-449c-a586-b45cb392f7a7",
   "metadata": {
    "tags": []
   },
   "outputs": [],
   "source": [
    "const compose = (...args) => reduce(compose2, x => x, args)"
   ]
  },
  {
   "cell_type": "code",
   "execution_count": 294,
   "id": "6aefd808-87f6-4dd8-b345-327f131302df",
   "metadata": {
    "tags": []
   },
   "outputs": [
    {
     "name": "stdout",
     "output_type": "stream",
     "text": [
      "\u001b[33m21\u001b[39m\n"
     ]
    }
   ],
   "source": [
    "compose(\n",
    "  compose(\n",
    "    add(1),\n",
    "    add(2),\n",
    "  ),\n",
    "  compose(\n",
    "    compose(\n",
    "      add(3),\n",
    "      add(4),\n",
    "    ),\n",
    "    add(5)\n",
    "  ),\n",
    "  add(6)\n",
    ")(0)"
   ]
  },
  {
   "cell_type": "markdown",
   "id": "8c4f49d2-dad6-44f2-b2b1-e534378c3000",
   "metadata": {
    "tags": []
   },
   "source": [
    "## 实现 Validation Flow"
   ]
  },
  {
   "cell_type": "code",
   "execution_count": 300,
   "id": "7776d3d1-bb1d-475d-b7a9-4210e9f21c95",
   "metadata": {
    "tags": []
   },
   "outputs": [],
   "source": [
    "const beforeFlow = {\n",
    "    type: 'Flow',\n",
    "    name: 'Validate',\n",
    "    props: {\n",
    "        // 这里只是演示，实际中不需要，直接实现成 breakOnFirst即可满足需求\n",
    "        breakOnFirst: true,\n",
    "    },\n",
    "    children: [\n",
    "        {\n",
    "            type: 'Action',\n",
    "            name: 'ValidateData',\n",
    "            props: {\n",
    "              // 规则选择器的属性值\n",
    "            }\n",
    "        },\n",
    "        \n",
    "        {\n",
    "            type: 'Action',\n",
    "            name: 'InvokeService',\n",
    "            props: {\n",
    "                serviceKey: 'xxx',\n",
    "            }\n",
    "        }\n",
    "    ]\n",
    "}"
   ]
  },
  {
   "cell_type": "markdown",
   "id": "db916186-6a12-4f21-9ca0-496ac13260da",
   "metadata": {},
   "source": [
    "### Validate Flow的实现"
   ]
  },
  {
   "cell_type": "code",
   "execution_count": 335,
   "id": "830a9b05-6c15-45cf-b1fe-972bfc3aceab",
   "metadata": {
    "tags": []
   },
   "outputs": [],
   "source": [
    "const validateFlow = (props, actions) => async ctx => {\n",
    "    for (const fn of actions) {\n",
    "        const ret = await fn(ctx)\n",
    "        if (!ret) {\n",
    "          return false\n",
    "        }\n",
    "    }\n",
    "    return true\n",
    "}"
   ]
  },
  {
   "cell_type": "code",
   "execution_count": 336,
   "id": "3628f53d-0991-4018-b84d-66bb7b566586",
   "metadata": {
    "tags": []
   },
   "outputs": [
    {
     "name": "stdout",
     "output_type": "stream",
     "text": [
      "{\n",
      "  record: { id: \u001b[32m'1'\u001b[39m, name: \u001b[32m'iphone'\u001b[39m },\n",
      "  route: { module: \u001b[32m'products'\u001b[39m, action: \u001b[32m'show'\u001b[39m }\n",
      "}\n"
     ]
    }
   ],
   "source": [
    "ctx"
   ]
  },
  {
   "cell_type": "code",
   "execution_count": 342,
   "id": "658c5bef-0a24-436e-b3b3-8d23c20560d8",
   "metadata": {
    "tags": []
   },
   "outputs": [],
   "source": [
    "const beforeFlow = {\n",
    "    type: 'Flow',\n",
    "    name: 'Validate',\n",
    "    props: {\n",
    "        // 这里只是演示，实际中不需要，直接实现成 breakOnFirst即可满足需求\n",
    "        breakOnFirst: true,\n",
    "    },\n",
    "    children: [\n",
    "        {\n",
    "            type: 'Action',\n",
    "            name: 'ValidateData',\n",
    "            props: {\n",
    "                name: 'iphone'\n",
    "            }\n",
    "        },\n",
    "        \n",
    "        {\n",
    "            type: 'Action',\n",
    "            name: 'InvokeService',\n",
    "            props: {\n",
    "                serviceKey: 'xxx',\n",
    "                id: '1'\n",
    "            }\n",
    "        }\n",
    "    ]\n",
    "}"
   ]
  },
  {
   "cell_type": "code",
   "execution_count": 343,
   "id": "6baf3ebb-2885-4197-86ba-d1b6361364d1",
   "metadata": {
    "tags": []
   },
   "outputs": [],
   "source": [
    "const ValidateData = props => async ctx => ctx.record.name === props.name\n",
    "const InvokeService = props => async ctx => ctx.record.id === props.id\n",
    "\n",
    "const Actions = {\n",
    "  ValidateData,\n",
    "  InvokeService,\n",
    "}"
   ]
  },
  {
   "cell_type": "code",
   "execution_count": 344,
   "id": "665f0434-af5e-4d3f-b476-92bf7ca541bf",
   "metadata": {
    "tags": []
   },
   "outputs": [
    {
     "name": "stdout",
     "output_type": "stream",
     "text": [
      "[ \u001b[36m[AsyncFunction (anonymous)]\u001b[39m, \u001b[36m[AsyncFunction (anonymous)]\u001b[39m ]\n"
     ]
    }
   ],
   "source": [
    "const fns = beforeFlow.children.map(child => Actions[child.name](child.props))\n",
    "\n",
    "fns"
   ]
  },
  {
   "cell_type": "code",
   "execution_count": 345,
   "id": "aa8d0405-4396-4e7d-8ce6-145b1cc10dff",
   "metadata": {
    "tags": []
   },
   "outputs": [
    {
     "name": "stdout",
     "output_type": "stream",
     "text": [
      "{\n",
      "  record: { id: \u001b[32m'1'\u001b[39m, name: \u001b[32m'iphone'\u001b[39m },\n",
      "  route: { module: \u001b[32m'products'\u001b[39m, action: \u001b[32m'show'\u001b[39m }\n",
      "}\n"
     ]
    }
   ],
   "source": [
    "ctx"
   ]
  },
  {
   "cell_type": "code",
   "execution_count": 346,
   "id": "a3cb7bde-fe1e-452b-a1b0-9eeee555f9d7",
   "metadata": {
    "tags": []
   },
   "outputs": [
    {
     "name": "stdout",
     "output_type": "stream",
     "text": [
      "\u001b[33mtrue\u001b[39m\n"
     ]
    }
   ],
   "source": [
    "await validateFlow(beforeFlow.props, fns)  (ctx)"
   ]
  },
  {
   "cell_type": "markdown",
   "id": "2bc711be-1b36-4c29-9b3e-7b3ced791878",
   "metadata": {
    "tags": []
   },
   "source": [
    "## compile - 组合起来"
   ]
  },
  {
   "cell_type": "markdown",
   "id": "20f1a493-2639-42b6-a091-82440681f2e0",
   "metadata": {},
   "source": [
    "### Schema"
   ]
  },
  {
   "cell_type": "code",
   "execution_count": 351,
   "id": "981b1193-bd42-4035-88dc-d64df78b9937",
   "metadata": {
    "tags": []
   },
   "outputs": [],
   "source": [
    "type FlowActionNode = ActionNode | FlowNode\n",
    "\n",
    "type Dict = Record<string, unknown>\n",
    "\n",
    "type ActionNode = {\n",
    "    type: 'Action',\n",
    "    name: string,\n",
    "    props: Dict,\n",
    "}\n",
    "\n",
    "type FlowNode = {\n",
    "    type: 'Flow',\n",
    "    name: string,\n",
    "    props: Dict,\n",
    "    children: FlowActionNode[]\n",
    "}"
   ]
  },
  {
   "cell_type": "markdown",
   "id": "65f903a6-ed68-4872-a3a2-ee44186dfb79",
   "metadata": {},
   "source": [
    "### API"
   ]
  },
  {
   "cell_type": "markdown",
   "id": "27bb8eb9-2257-4a1e-a53b-bcd78cdd50c1",
   "metadata": {},
   "source": [
    "#### 之前的定义"
   ]
  },
  {
   "cell_type": "code",
   "execution_count": 357,
   "id": "e353e8f7-1bbd-4a31-b820-e7c33a79eb94",
   "metadata": {
    "tags": []
   },
   "outputs": [],
   "source": [
    "type Transformer = (ctx: Context) => Promise<unknown>\n",
    "\n",
    "type ActionFn = (props: Dict) => Transformer\n",
    "type FlowFn = (props: Dict, transformers: Transformer[]) => Transformer"
   ]
  },
  {
   "cell_type": "markdown",
   "id": "53e9484f-e21a-4e7a-937e-0d4d380357ba",
   "metadata": {},
   "source": [
    "#### 使用方法"
   ]
  },
  {
   "cell_type": "code",
   "execution_count": 366,
   "id": "4578ef5f-a79c-4430-bbd4-a6e9b39a5c97",
   "metadata": {
    "tags": []
   },
   "outputs": [
    {
     "name": "stderr",
     "output_type": "stream",
     "text": [
      "12:21 - This expression is not callable.\n",
      "12:21 - Type 'void' has no call signatures.\n",
      "12:30 - Cannot find name 'schemaNode'.\n"
     ]
    }
   ],
   "source": [
    "\n",
    "// 定义Action函数集 \n",
    "const Actions: Record<string, ActionFn> = { }\n",
    "\n",
    "// 定义流函数集\n",
    "const Flows: Record<string, FlowFn> = {}\n",
    "\n",
    "// 构建编译器\n",
    "const compiler = createCompiler({ Actions, Flows })  // 只有这个没实现\n",
    "\n",
    "// 创建转换器\n",
    "const transformer = compiler(schemaNode)\n",
    "\n",
    "// 使用\n",
    "const ctx = {}\n",
    "const result = await transformer(ctx)"
   ]
  },
  {
   "cell_type": "markdown",
   "id": "9766d45e-bea1-473e-81d5-2f3881bc1865",
   "metadata": {
    "tags": []
   },
   "source": [
    "### compiler的实现\n",
    "\n",
    "- tree的应用\n",
    "- 简单递归"
   ]
  },
  {
   "cell_type": "markdown",
   "id": "dee3ee3f-3055-4ca9-8cd2-24f330c79556",
   "metadata": {
    "tags": []
   },
   "source": [
    "### 思考类型"
   ]
  },
  {
   "cell_type": "code",
   "execution_count": 409,
   "id": "a017b0a4-15a3-48ad-82ae-95d6366dd136",
   "metadata": {
    "tags": []
   },
   "outputs": [],
   "source": [
    "type Library = {\n",
    "    Actions: Record<string, ActionFn>\n",
    "    Flow: Record<string, FlowFn>\n",
    "}\n",
    "\n",
    "type CompilerFactory = (library: Library) => Compiler\n",
    "type Compiler = (node: FlowActionNode) => Transformer"
   ]
  },
  {
   "cell_type": "markdown",
   "id": "9747bfaf-1ef1-4d1d-b3d8-e3774bf22d22",
   "metadata": {
    "tags": []
   },
   "source": [
    "### 最简可运行实现"
   ]
  },
  {
   "cell_type": "code",
   "execution_count": 444,
   "id": "e7f886ec-6e5e-492d-afcd-2c410a605ff6",
   "metadata": {
    "tags": []
   },
   "outputs": [],
   "source": [
    "const createCompiler = ({ Actions, Flows }) => {\n",
    "    const compiler = node => {\n",
    "        console.log('compile', node)\n",
    "        if (node.type !== 'Flow') {\n",
    "            return Actions[node.name](node.props)\n",
    "        }\n",
    "        const transformers = node.children.map(compiler)\n",
    "        return Flows[node.name](node.props, transformers)\n",
    "    }\n",
    "    return compiler\n",
    "}"
   ]
  },
  {
   "cell_type": "markdown",
   "id": "def8ae86-0f9a-4f99-9ef2-7c7776a5cdb8",
   "metadata": {
    "tags": []
   },
   "source": [
    "#### 定义FlowAction"
   ]
  },
  {
   "cell_type": "code",
   "execution_count": 445,
   "id": "a149b261-7a07-4154-bebc-d2e86f8da4e2",
   "metadata": {
    "tags": []
   },
   "outputs": [],
   "source": [
    "const sleep = n => new Promise(r => setTimeout(r, n))\n",
    "\n",
    "// 调用服务\n",
    "const InvokeService = props => async ctx => {\n",
    "    await sleep(300)\n",
    "    console.log('invoke service, props: %o, ctx: %o', props, ctx)\n",
    "    return { serviceKey: props.serviceKey, param: props.param, route: ctx.route }\n",
    "}\n",
    "\n",
    "const InvokeFlow = props => async ctx => {\n",
    "    await sleep(300)\n",
    "    console.log('invoke flow, props: %o, ctx: %o', props, ctx)\n",
    "    return { flowKey: props.flowKey, route: ctx.route }\n",
    "}\n",
    "\n",
    "// 验证数据\n",
    "const ValidateData = props => async ctx => ctx.record.name === props.name\n",
    "\n",
    "// 验证服务\n",
    "const ValidateService = props => async ctx => ctx.record.id === props.id\n",
    "\n",
    "const Actions = {\n",
    "    InvokeService,\n",
    "    InvokeFlow,\n",
    "    ValidateData,\n",
    "    ValidateService,\n",
    "}\n",
    "\n",
    "const ValidateFlow = (props, transformers) => async ctx => {\n",
    "    for (const fn of transformers) {\n",
    "        const ret = await fn(ctx)\n",
    "        if (!ret) {\n",
    "          return false\n",
    "        }\n",
    "    }\n",
    "    return true\n",
    "}\n",
    "\n",
    "const ComputeFlow = (props, transformers) => async ctx => {\n",
    "    return transformers.reduce((promise, fn) => promise.then(x => fn({ ...ctx, ...x })), Promise.resolve({}))\n",
    "}\n",
    "\n",
    "const EffectFlow = (props, transformers) => async ctx => {\n",
    "    await Promise.all(transformers.map(tranform => transform(ctx)))\n",
    "    return null\n",
    "}\n",
    "\n",
    "const Flows = {\n",
    "    Validate: ValidateFlow,\n",
    "    Compute: ComputeFlow,\n",
    "    Effect: EffectFlow,\n",
    "    Pipeline: ValidateFlow,\n",
    "}"
   ]
  },
  {
   "cell_type": "markdown",
   "id": "f022d85d-3484-47da-8b53-cb1fa395498a",
   "metadata": {
    "tags": []
   },
   "source": [
    "### 使用"
   ]
  },
  {
   "cell_type": "code",
   "execution_count": 448,
   "id": "d22e57ed-b736-47f4-bbf5-e0719a795ef4",
   "metadata": {
    "tags": []
   },
   "outputs": [],
   "source": [
    "const compiler = createCompiler({ Actions: Actions, Flows: Flows })"
   ]
  },
  {
   "cell_type": "code",
   "execution_count": 449,
   "id": "d2f5aee4-4846-4abc-b5be-31a3ebe58e45",
   "metadata": {
    "tags": []
   },
   "outputs": [
    {
     "name": "stdout",
     "output_type": "stream",
     "text": [
      "compile {\n",
      "  type: \u001b[32m'Flow'\u001b[39m,\n",
      "  name: \u001b[32m'Pipeline'\u001b[39m,\n",
      "  children: [\n",
      "    { type: \u001b[32m'Flow'\u001b[39m, name: \u001b[32m'Validate'\u001b[39m, children: \u001b[36m[Array]\u001b[39m },\n",
      "    { type: \u001b[32m'Flow'\u001b[39m, name: \u001b[32m'Compute'\u001b[39m, children: \u001b[36m[Array]\u001b[39m }\n",
      "  ]\n",
      "}\n",
      "compile {\n",
      "  type: \u001b[32m'Flow'\u001b[39m,\n",
      "  name: \u001b[32m'Validate'\u001b[39m,\n",
      "  children: [\n",
      "    { name: \u001b[32m'ValidateData'\u001b[39m, props: \u001b[36m[Object]\u001b[39m },\n",
      "    { name: \u001b[32m'ValidateService'\u001b[39m, props: \u001b[36m[Object]\u001b[39m }\n",
      "  ]\n",
      "}\n",
      "compile { name: \u001b[32m'ValidateData'\u001b[39m, props: { name: \u001b[32m'iphone'\u001b[39m } }\n",
      "compile { name: \u001b[32m'ValidateService'\u001b[39m, props: { id: \u001b[32m'123'\u001b[39m } }\n",
      "compile {\n",
      "  type: \u001b[32m'Flow'\u001b[39m,\n",
      "  name: \u001b[32m'Compute'\u001b[39m,\n",
      "  children: [\n",
      "    { name: \u001b[32m'InvokeService'\u001b[39m, props: \u001b[36m[Object]\u001b[39m },\n",
      "    { name: \u001b[32m'InvokeService'\u001b[39m, props: \u001b[36m[Object]\u001b[39m },\n",
      "    { name: \u001b[32m'InvokeFlow'\u001b[39m, props: \u001b[36m[Object]\u001b[39m }\n",
      "  ]\n",
      "}\n",
      "compile {\n",
      "  name: \u001b[32m'InvokeService'\u001b[39m,\n",
      "  props: { serviceKey: \u001b[32m'loadProduct'\u001b[39m, param: \u001b[33m1\u001b[39m }\n",
      "}\n",
      "compile {\n",
      "  name: \u001b[32m'InvokeService'\u001b[39m,\n",
      "  props: { serviceKey: \u001b[32m'loadProduct'\u001b[39m, param: \u001b[33m2\u001b[39m }\n",
      "}\n",
      "compile { name: \u001b[32m'InvokeFlow'\u001b[39m, props: { flowKey: \u001b[32m'xxxhhh'\u001b[39m } }\n",
      "1...\n",
      "invoke service, props: { serviceKey: \u001b[32m'loadProduct'\u001b[39m, param: \u001b[33m1\u001b[39m }, ctx: {\n",
      "  record: { id: \u001b[32m'123'\u001b[39m, name: \u001b[32m'iphone'\u001b[39m },\n",
      "  route: { module: \u001b[32m'orders'\u001b[39m, action: \u001b[32m'show'\u001b[39m }\n",
      "}\n",
      "invoke service, props: { serviceKey: \u001b[32m'loadProduct'\u001b[39m, param: \u001b[33m2\u001b[39m }, ctx: {\n",
      "  record: { id: \u001b[32m'123'\u001b[39m, name: \u001b[32m'iphone'\u001b[39m },\n",
      "  route: { module: \u001b[32m'orders'\u001b[39m, action: \u001b[32m'show'\u001b[39m },\n",
      "  serviceKey: \u001b[32m'loadProduct'\u001b[39m,\n",
      "  param: \u001b[33m1\u001b[39m\n",
      "}\n",
      "invoke flow, props: { flowKey: \u001b[32m'xxxhhh'\u001b[39m }, ctx: {\n",
      "  record: { id: \u001b[32m'123'\u001b[39m, name: \u001b[32m'iphone'\u001b[39m },\n",
      "  route: { module: \u001b[32m'orders'\u001b[39m, action: \u001b[32m'show'\u001b[39m },\n",
      "  serviceKey: \u001b[32m'loadProduct'\u001b[39m,\n",
      "  param: \u001b[33m2\u001b[39m\n",
      "}\n",
      "2...\n",
      "invoke service, props: { serviceKey: \u001b[32m'loadProduct'\u001b[39m, param: \u001b[33m1\u001b[39m }, ctx: {\n",
      "  record: { id: \u001b[32m'123'\u001b[39m, name: \u001b[32m'iphone'\u001b[39m },\n",
      "  route: { module: \u001b[32m'orders'\u001b[39m, action: \u001b[32m'show'\u001b[39m }\n",
      "}\n",
      "invoke service, props: { serviceKey: \u001b[32m'loadProduct'\u001b[39m, param: \u001b[33m2\u001b[39m }, ctx: {\n",
      "  record: { id: \u001b[32m'123'\u001b[39m, name: \u001b[32m'iphone'\u001b[39m },\n",
      "  route: { module: \u001b[32m'orders'\u001b[39m, action: \u001b[32m'show'\u001b[39m },\n",
      "  serviceKey: \u001b[32m'loadProduct'\u001b[39m,\n",
      "  param: \u001b[33m1\u001b[39m\n",
      "}\n",
      "invoke flow, props: { flowKey: \u001b[32m'xxxhhh'\u001b[39m }, ctx: {\n",
      "  record: { id: \u001b[32m'123'\u001b[39m, name: \u001b[32m'iphone'\u001b[39m },\n",
      "  route: { module: \u001b[32m'orders'\u001b[39m, action: \u001b[32m'show'\u001b[39m },\n",
      "  serviceKey: \u001b[32m'loadProduct'\u001b[39m,\n",
      "  param: \u001b[33m2\u001b[39m\n",
      "}\n",
      "\u001b[33mtrue\u001b[39m\n"
     ]
    }
   ],
   "source": [
    "const node = {\n",
    "  type: 'Flow',\n",
    "  name: 'Pipeline',\n",
    "  children: [\n",
    "      {\n",
    "          type: 'Flow',\n",
    "          name: 'Validate',\n",
    "          children: [\n",
    "              {\n",
    "                  name: 'ValidateData',\n",
    "                  props: { name: 'iphone' }\n",
    "              },\n",
    "              {\n",
    "                  name: 'ValidateService',\n",
    "                  props: { id: '123' }\n",
    "              }\n",
    "          ]\n",
    "      },\n",
    "      {\n",
    "          type: 'Flow',\n",
    "          name: 'Compute',\n",
    "          children: [\n",
    "              {\n",
    "                  name: 'InvokeService',\n",
    "                  props: { serviceKey: 'loadProduct', param: 1 }\n",
    "              },\n",
    "              \n",
    "              {\n",
    "                  name: 'InvokeService',\n",
    "                  props: { serviceKey: 'loadProduct', param: 2 }\n",
    "              },\n",
    "              \n",
    "              {\n",
    "                  name: 'InvokeFlow',\n",
    "                  props: { flowKey: 'xxxhhh' }\n",
    "              },\n",
    "          ]\n",
    "      }\n",
    "  ]\n",
    "}\n",
    "\n",
    "\n",
    "const transformer = compiler(node)\n",
    "\n",
    "const ctx = {\n",
    "    record: { id: '123', name: 'iphone' },\n",
    "    route: { module: 'orders', action: 'show' },\n",
    "}\n",
    "\n",
    "console.log('1...')\n",
    "await transformer(ctx)\n",
    "\n",
    "console.log('2...')\n",
    "await transformer(ctx)"
   ]
  },
  {
   "cell_type": "markdown",
   "id": "3d1a110a-1597-4baf-ab01-3f1b33a3c01c",
   "metadata": {},
   "source": [
    "## typespec"
   ]
  },
  {
   "cell_type": "code",
   "execution_count": 272,
   "id": "e65a99eb-cddc-4d96-82e7-02f0a52d1f7b",
   "metadata": {
    "tags": []
   },
   "outputs": [],
   "source": [
    "// (a, b) -> a\n",
    "\n",
    "type Reducer = <A, B>(a: A, b: B) => A"
   ]
  },
  {
   "cell_type": "code",
   "execution_count": 274,
   "id": "7c151fb1-83a9-4a8f-9920-6ccc21da3dc4",
   "metadata": {
    "tags": []
   },
   "outputs": [],
   "source": [
    "// a -> b\n",
    "type Transformer = <A, B>(a: A) => B"
   ]
  },
  {
   "cell_type": "code",
   "execution_count": 314,
   "id": "c4cc6228-e4f7-45a5-b651-a8d1cd0c3825",
   "metadata": {
    "tags": []
   },
   "outputs": [],
   "source": [
    "const add = (a, b, c) => a + b + c\n",
    "//add: a -> b -> c -> d\n",
    "\n",
    "// reduce\n",
    "// ((a, b) -> a) -> a -> [b] -> a"
   ]
  },
  {
   "cell_type": "code",
   "execution_count": null,
   "id": "784be639-1b59-4ceb-acff-9ffe7aa75d67",
   "metadata": {},
   "outputs": [],
   "source": []
  }
 ],
 "metadata": {
  "kernelspec": {
   "display_name": "TypeScript",
   "language": "typescript",
   "name": "tslab"
  },
  "language_info": {
   "codemirror_mode": {
    "mode": "typescript",
    "name": "javascript",
    "typescript": true
   },
   "file_extension": ".ts",
   "mimetype": "text/typescript",
   "name": "typescript",
   "version": "3.7.2"
  }
 },
 "nbformat": 4,
 "nbformat_minor": 5
}
