{
 "cells": [
  {
   "cell_type": "markdown",
   "id": "4c58a38e-fb32-4435-9f40-52a15f2682b5",
   "metadata": {},
   "source": [
    "# 从动作流（FlowAction）设计和实现的过程中思考函数组合的思想（草稿）"
   ]
  },
  {
   "cell_type": "markdown",
   "id": "2d917645-21c0-4474-8152-7b59331789ff",
   "metadata": {},
   "source": [
    "## 0. 关于动作流\n",
    "- 前置动作，实现逻辑和后置动作，称为流(Flow)。\n",
    "- 调用服务(InvokeService), 打开视图(OpenView), 关闭页面(Close), 跳转（Goto）称为动作（Action）\n",
    "两者合起来称为 (FlowAction)"
   ]
  },
  {
   "cell_type": "markdown",
   "id": "d908065f-5261-4ada-a928-e58d3e0abbaf",
   "metadata": {},
   "source": [
    "## 1. 动作流的Schema描述"
   ]
  },
  {
   "cell_type": "markdown",
   "id": "80a23fdb-a93d-4045-a9bf-5b80e99d2550",
   "metadata": {},
   "source": [
    "### Before Flow"
   ]
  },
  {
   "cell_type": "code",
   "execution_count": 7,
   "id": "c31b28e7-3987-4377-bdd2-91581a99714b",
   "metadata": {
    "tags": []
   },
   "outputs": [],
   "source": [
    "const beforeFlow = {\n",
    "    type: 'Flow',\n",
    "    name: 'Validate',\n",
    "    props: {\n",
    "        // 这里只是演示，实际中不需要，直接实现成 breakOnFirst即可满足需求\n",
    "        breakOnFirst: true,\n",
    "    },\n",
    "    children: [\n",
    "        {\n",
    "            type: 'Action',\n",
    "            name: 'ValidateData',\n",
    "            props: {\n",
    "              // 规则选择器的属性值\n",
    "            }\n",
    "        },\n",
    "        \n",
    "        {\n",
    "            type: 'Action',\n",
    "            name: 'InvokeService',\n",
    "            props: {\n",
    "                serviceKey: 'xxx',\n",
    "            }\n",
    "        }\n",
    "    ]\n",
    "}"
   ]
  },
  {
   "cell_type": "markdown",
   "id": "2a2e6b5f-ba5a-4fc5-965c-c2f2057d28a7",
   "metadata": {
    "tags": []
   },
   "source": [
    "### Compute"
   ]
  },
  {
   "cell_type": "code",
   "execution_count": 8,
   "id": "e1925d10-bf8d-4bd1-9cbb-bb72ebdb4ae0",
   "metadata": {
    "tags": []
   },
   "outputs": [],
   "source": [
    "const computeFlow = {\n",
    "    type: 'Flow',\n",
    "    name: 'Compute',\n",
    "    props: {\n",
    "        parallel: true,\n",
    "    },\n",
    "    children: [\n",
    "        {\n",
    "            type: 'Action',\n",
    "            name: 'InvokeService',\n",
    "            props: {\n",
    "                serviceKey: 'loadProducts',\n",
    "            }\n",
    "        },\n",
    "        {\n",
    "            // 工作流\n",
    "            type: 'Action',\n",
    "            name: 'InvokeFlow',\n",
    "            props: {\n",
    "                flowKey: 'notifyDingding'\n",
    "            }\n",
    "        }\n",
    "    ]\n",
    "}"
   ]
  },
  {
   "cell_type": "markdown",
   "id": "0721d820-6f77-4174-85e1-ce1138d45646",
   "metadata": {},
   "source": [
    "### After"
   ]
  },
  {
   "cell_type": "code",
   "execution_count": 10,
   "id": "fec4d628-5eca-45da-ba0d-88a2990ea8d2",
   "metadata": {
    "tags": []
   },
   "outputs": [],
   "source": [
    "const afterFlow = {\n",
    "    type: 'Flow',\n",
    "    name: 'Effect',\n",
    "    props: {},\n",
    "    children: [\n",
    "        {\n",
    "            type: 'Action',\n",
    "            name: 'OpenView',\n",
    "            props: {\n",
    "                viewKey: 'sayHello'\n",
    "            }\n",
    "        }\n",
    "    ]\n",
    "}"
   ]
  },
  {
   "cell_type": "markdown",
   "id": "768320d6-87c4-46c1-baa9-6e9bd945d4f5",
   "metadata": {},
   "source": [
    "### Pipeline"
   ]
  },
  {
   "cell_type": "code",
   "execution_count": 11,
   "id": "dbb981a7-b1b2-466d-9184-6e17563b1b25",
   "metadata": {
    "tags": []
   },
   "outputs": [],
   "source": [
    "const pipeline = {\n",
    "    type: 'Flow',\n",
    "    name: 'Pipeline',\n",
    "    children: [\n",
    "        beforeFlow,\n",
    "        computeFlow,\n",
    "        afterFlow\n",
    "    ]\n",
    "}"
   ]
  },
  {
   "cell_type": "code",
   "execution_count": 12,
   "id": "1eae1eac-bdbd-455b-8dc4-2760b943acd7",
   "metadata": {
    "tags": []
   },
   "outputs": [
    {
     "name": "stdout",
     "output_type": "stream",
     "text": [
      "{\n",
      "  type: \u001b[32m'Flow'\u001b[39m,\n",
      "  name: \u001b[32m'Pipeline'\u001b[39m,\n",
      "  children: [\n",
      "    {\n",
      "      type: \u001b[32m'Flow'\u001b[39m,\n",
      "      name: \u001b[32m'Validate'\u001b[39m,\n",
      "      props: \u001b[36m[Object]\u001b[39m,\n",
      "      children: \u001b[36m[Array]\u001b[39m\n",
      "    },\n",
      "    {\n",
      "      type: \u001b[32m'Flow'\u001b[39m,\n",
      "      name: \u001b[32m'Compute'\u001b[39m,\n",
      "      props: \u001b[36m[Object]\u001b[39m,\n",
      "      children: \u001b[36m[Array]\u001b[39m\n",
      "    },\n",
      "    { type: \u001b[32m'Flow'\u001b[39m, name: \u001b[32m'Effect'\u001b[39m, props: {}, children: \u001b[36m[Array]\u001b[39m }\n",
      "  ]\n",
      "}\n"
     ]
    }
   ],
   "source": [
    "pipeline"
   ]
  },
  {
   "cell_type": "markdown",
   "id": "994e1376-3e1b-4bf7-82d2-c202c12595c5",
   "metadata": {
    "tags": []
   },
   "source": [
    "### 类型定义"
   ]
  },
  {
   "cell_type": "code",
   "execution_count": 15,
   "id": "ed38fdce-9789-41f3-a2bb-a402d76e4d32",
   "metadata": {
    "tags": []
   },
   "outputs": [],
   "source": [
    "type ActionNode = {\n",
    "    type: 'Action',\n",
    "    name: string,\n",
    "    props: Record<string, unknown>\n",
    "}\n",
    "\n",
    "type FlowNode = {\n",
    "    type: 'Flow',\n",
    "    name: string,\n",
    "    props: Record<string, unknown>\n",
    "    children: (FlowNode | ActionNode)[]\n",
    "}"
   ]
  },
  {
   "cell_type": "markdown",
   "id": "ead95ecc-da39-4f3d-9546-b4de45a2e550",
   "metadata": {
    "tags": []
   },
   "source": [
    "## 动作流的执行引擎"
   ]
  },
  {
   "cell_type": "markdown",
   "id": "6b1f4602-6323-4434-90a5-6ecc20ff0773",
   "metadata": {
    "tags": []
   },
   "source": [
    "### 动作的定义\n",
    "\n",
    "- 什么是动作？如何定义动作？\n",
    "- 动作是一个操作，操作属于一种计算，函数即计算，所以动作可以用函数表达。—— 动作即函数！"
   ]
  },
  {
   "cell_type": "markdown",
   "id": "a64adc92-fc63-4828-95e7-a0d5f0ed4bfd",
   "metadata": {
    "tags": []
   },
   "source": [
    "### trival version"
   ]
  },
  {
   "cell_type": "code",
   "execution_count": 21,
   "id": "aefe8515-f6d1-4721-9710-1ad91a53a22e",
   "metadata": {
    "tags": []
   },
   "outputs": [],
   "source": [
    "const validateData = (ctx, props) => {\n",
    "    const record = ctx.record\n",
    "    // 实际上会解析规则来执行\n",
    "    return props.validate(record)\n",
    "}\n",
    "\n"
   ]
  },
  {
   "cell_type": "code",
   "execution_count": 24,
   "id": "06a06a28-e2d8-469f-bd81-d0261d4e607d",
   "metadata": {
    "tags": []
   },
   "outputs": [],
   "source": [
    "const invokeService = async (ctx, props) => {\n",
    "    const route = ctx.route\n",
    "    return props.invokeService(props.serviceKey)\n",
    "}"
   ]
  },
  {
   "cell_type": "code",
   "execution_count": 28,
   "id": "c702ede5-5563-4f00-acc2-c6f4212b33be",
   "metadata": {
    "tags": []
   },
   "outputs": [],
   "source": [
    "const ctx = {\n",
    "    record: { id: '1', name: 'iphone' },\n",
    "    route: { module: 'products', action: 'show' }\n",
    "}"
   ]
  },
  {
   "cell_type": "markdown",
   "id": "fe27543c-67ea-41a3-a313-e24c603a7cfa",
   "metadata": {},
   "source": [
    "## function composition\n",
    "\n",
    "- Why?\n",
    "- How?"
   ]
  },
  {
   "cell_type": "markdown",
   "id": "b903e9ad-fa21-4c10-be78-d9fdbbe10542",
   "metadata": {
    "tags": []
   },
   "source": [
    "### arity 1\n",
    "\n",
    "- 什么是函数的类型？"
   ]
  },
  {
   "cell_type": "code",
   "execution_count": 32,
   "id": "10a148cb-38b9-4e1f-b024-a14df541af8b",
   "metadata": {
    "tags": []
   },
   "outputs": [],
   "source": [
    "const add1 = x => x + 1\n",
    "const x2 = x => x * 2"
   ]
  },
  {
   "cell_type": "code",
   "execution_count": 35,
   "id": "93059a67-4bc9-4ead-9e7b-392564ddfa91",
   "metadata": {
    "tags": []
   },
   "outputs": [
    {
     "name": "stdout",
     "output_type": "stream",
     "text": [
      "\u001b[33m202\u001b[39m\n"
     ]
    }
   ],
   "source": [
    "// (x + 1) * 2\n",
    "\n",
    "const f = x => x2(add1(x))\n",
    "f(100)"
   ]
  },
  {
   "cell_type": "code",
   "execution_count": 34,
   "id": "2724b3ae-a620-45d5-8e72-beb30dff7956",
   "metadata": {
    "tags": []
   },
   "outputs": [],
   "source": [
    "const compose = (f, g) => x => f(g(x)) "
   ]
  },
  {
   "cell_type": "code",
   "execution_count": 36,
   "id": "1a352352-924f-4245-a559-b17b4ae9b889",
   "metadata": {
    "tags": []
   },
   "outputs": [],
   "source": [
    "const f = compose(x2, add1)"
   ]
  },
  {
   "cell_type": "code",
   "execution_count": 37,
   "id": "d22d4726-13b0-4861-9ce6-f5783a0880c8",
   "metadata": {
    "tags": []
   },
   "outputs": [
    {
     "name": "stdout",
     "output_type": "stream",
     "text": [
      "\u001b[33m202\u001b[39m\n"
     ]
    }
   ],
   "source": [
    "f(100)"
   ]
  },
  {
   "cell_type": "markdown",
   "id": "7014cde9-c627-4a58-aa3f-86cd78f4eda5",
   "metadata": {},
   "source": [
    "### curry"
   ]
  },
  {
   "cell_type": "code",
   "execution_count": 48,
   "id": "3740b5e1-ff09-4d27-a9d7-ef2e11988050",
   "metadata": {
    "tags": []
   },
   "outputs": [],
   "source": [
    "const add = (x, y, z) => x + y + z\n",
    "const add2 = x => y => z => x + y + z"
   ]
  },
  {
   "cell_type": "code",
   "execution_count": 49,
   "id": "86d2d554-db48-435b-99c9-49e68d6963c7",
   "metadata": {
    "tags": []
   },
   "outputs": [
    {
     "name": "stdout",
     "output_type": "stream",
     "text": [
      "\u001b[33m6\u001b[39m\n"
     ]
    }
   ],
   "source": [
    "add(1,2,3)"
   ]
  },
  {
   "cell_type": "code",
   "execution_count": 50,
   "id": "c7a5683f-e92a-4962-94c3-3513387b7748",
   "metadata": {
    "tags": []
   },
   "outputs": [
    {
     "name": "stdout",
     "output_type": "stream",
     "text": [
      "\u001b[33m6\u001b[39m\n"
     ]
    }
   ],
   "source": [
    "add2(1)(2)(3)"
   ]
  },
  {
   "cell_type": "markdown",
   "id": "109d50bb-4e47-4ee3-be33-a57844c782df",
   "metadata": {},
   "source": [
    "### pointless"
   ]
  },
  {
   "cell_type": "code",
   "execution_count": 51,
   "id": "308e5c96-5fb3-4673-9c24-43de212fa078",
   "metadata": {
    "tags": []
   },
   "outputs": [],
   "source": [
    "const range = n => [...Array(n).keys()]"
   ]
  },
  {
   "cell_type": "code",
   "execution_count": 52,
   "id": "174e778e-a7f6-40cb-911d-ded3c0fd4ef0",
   "metadata": {
    "tags": []
   },
   "outputs": [
    {
     "name": "stdout",
     "output_type": "stream",
     "text": [
      "[\n",
      "  \u001b[33m0\u001b[39m, \u001b[33m1\u001b[39m, \u001b[33m2\u001b[39m, \u001b[33m3\u001b[39m, \u001b[33m4\u001b[39m,\n",
      "  \u001b[33m5\u001b[39m, \u001b[33m6\u001b[39m, \u001b[33m7\u001b[39m, \u001b[33m8\u001b[39m, \u001b[33m9\u001b[39m\n",
      "]\n"
     ]
    }
   ],
   "source": [
    "range(10)"
   ]
  },
  {
   "cell_type": "code",
   "execution_count": 53,
   "id": "a36d748b-d46e-4b24-8dce-431a76229558",
   "metadata": {
    "tags": []
   },
   "outputs": [],
   "source": [
    "const { faker } = require('@faker-js/faker')"
   ]
  },
  {
   "cell_type": "markdown",
   "id": "66a5b550-9f4b-429a-844f-7e70ef4b50ba",
   "metadata": {},
   "source": [
    "[faker-js](https://fakerjs.dev/guide/usage.html) [faker-js/api](https://fakerjs.dev/api/)"
   ]
  },
  {
   "cell_type": "code",
   "execution_count": 54,
   "id": "be83d34e-706b-4593-b8d0-958f34fe7fd6",
   "metadata": {
    "tags": []
   },
   "outputs": [
    {
     "name": "stdout",
     "output_type": "stream",
     "text": [
      "Persian\n"
     ]
    }
   ],
   "source": [
    "faker.animal.cat()"
   ]
  },
  {
   "cell_type": "code",
   "execution_count": 65,
   "id": "af76a0f2-5f1a-4207-b237-5445d7204ab7",
   "metadata": {
    "tags": []
   },
   "outputs": [],
   "source": [
    "const cats = range(100).map(_ => ({ id: faker.datatype.uuid(), name: faker.animal.cat(), age: faker.datatype.number(100), dark: faker.datatype.boolean() }))"
   ]
  },
  {
   "cell_type": "code",
   "execution_count": 93,
   "id": "0899a534-0f86-4594-8778-c64deabf51b0",
   "metadata": {
    "tags": []
   },
   "outputs": [
    {
     "name": "stdout",
     "output_type": "stream",
     "text": [
      "[\n",
      "  \u001b[32m'8e53baad-c931-4e2b-a44e-2313e99c6654'\u001b[39m,\n",
      "  \u001b[32m'afa8ce05-3f41-4c88-b4d1-8b0186abb1db'\u001b[39m,\n",
      "  \u001b[32m'07be175d-b81c-43e9-a2e0-273cd3bcd796'\u001b[39m,\n",
      "  \u001b[32m'0a2bef0f-cc35-4c56-b3ef-e569bdd1d1d4'\u001b[39m,\n",
      "  \u001b[32m'8eb43676-3f1d-4089-b842-4d6da82f6b78'\u001b[39m,\n",
      "  \u001b[32m'9191352e-e583-4cdb-91e7-f73cff8e99d8'\u001b[39m,\n",
      "  \u001b[32m'cffc228c-583a-4ef5-b3b5-8fd1ed1c88c0'\u001b[39m,\n",
      "  \u001b[32m'1afb31e1-f958-4449-b85d-b12740a842d5'\u001b[39m,\n",
      "  \u001b[32m'ba7bff04-146f-4d34-9f09-75a440b5540e'\u001b[39m,\n",
      "  \u001b[32m'117269b5-2d15-452d-816f-67e80b61a759'\u001b[39m\n",
      "]\n"
     ]
    }
   ],
   "source": [
    "cats.filter(x => x.age < 10).map(x => x.id)"
   ]
  },
  {
   "cell_type": "code",
   "execution_count": 110,
   "id": "a8dc243f-9d79-4d11-97f5-d5a65e2fadfc",
   "metadata": {
    "tags": []
   },
   "outputs": [],
   "source": [
    "const findByAge = (list, age) => list.filter(x => x.age < age)"
   ]
  },
  {
   "cell_type": "code",
   "execution_count": 94,
   "id": "0df140aa-370d-4487-8fa8-402d3c69f469",
   "metadata": {
    "tags": []
   },
   "outputs": [],
   "source": [
    "//findByAge(cats, 10)"
   ]
  },
  {
   "cell_type": "code",
   "execution_count": 111,
   "id": "e53e54f8-e914-4581-bd3a-49997887784f",
   "metadata": {
    "tags": []
   },
   "outputs": [
    {
     "name": "stdout",
     "output_type": "stream",
     "text": [
      "\u001b[36m[Function (anonymous)]\u001b[39m\n"
     ]
    }
   ],
   "source": [
    "const findByAge = list => age => list.filter(x => x.age < age)\n",
    "\n",
    "//fiterWithAge(cats)(10)\n",
    "findByAge(cats)"
   ]
  },
  {
   "cell_type": "code",
   "execution_count": 112,
   "id": "309fbfc1-8a86-4dac-a3a1-4c59e8b6c262",
   "metadata": {
    "tags": []
   },
   "outputs": [],
   "source": [
    "const search = list => text => list.filter(x => x.name.includes(text))"
   ]
  },
  {
   "cell_type": "code",
   "execution_count": 98,
   "id": "e027edcb-60c6-43a6-9778-d3c2bc480491",
   "metadata": {
    "tags": []
   },
   "outputs": [
    {
     "name": "stdout",
     "output_type": "stream",
     "text": [
      "\u001b[36m[Function (anonymous)]\u001b[39m\n"
     ]
    }
   ],
   "source": [
    "//search(cats)('S')\n",
    "search(cats)"
   ]
  },
  {
   "cell_type": "code",
   "execution_count": 113,
   "id": "2b559e89-25b4-41d4-b270-04adeee66b05",
   "metadata": {
    "tags": []
   },
   "outputs": [],
   "source": [
    "const fiindByAgeAndSearch = (list, age, text) => search(findByAge(list)(age))(text)"
   ]
  },
  {
   "cell_type": "code",
   "execution_count": 115,
   "id": "5071ac44-533b-4c8d-a049-4bd7e42beea0",
   "metadata": {
    "tags": []
   },
   "outputs": [],
   "source": [
    "// fiindByAgeAndSearch(cats, 10, 'S')"
   ]
  },
  {
   "cell_type": "code",
   "execution_count": 116,
   "id": "eebf009f-2aaf-4773-bde4-9baa03d3e61b",
   "metadata": {
    "tags": []
   },
   "outputs": [],
   "source": [
    "const findByAge = age => list => list.filter(x => x.age < age)\n",
    "const search = text => list => list.filter(x => x.name.includes(text))"
   ]
  },
  {
   "cell_type": "code",
   "execution_count": 119,
   "id": "c74c3f44-996d-4c01-b4f2-358472529776",
   "metadata": {
    "tags": []
   },
   "outputs": [],
   "source": [
    "const fiindByAgeAndSearch = (age, text) => compose(search(text), findByAge(age))"
   ]
  },
  {
   "cell_type": "code",
   "execution_count": 121,
   "id": "dfe42778-301a-4ac7-af85-da598d69a501",
   "metadata": {
    "tags": []
   },
   "outputs": [
    {
     "name": "stdout",
     "output_type": "stream",
     "text": [
      "[\n",
      "  {\n",
      "    id: \u001b[32m'8e53baad-c931-4e2b-a44e-2313e99c6654'\u001b[39m,\n",
      "    name: \u001b[32m'Sphynx'\u001b[39m,\n",
      "    age: \u001b[33m2\u001b[39m,\n",
      "    dark: \u001b[33mtrue\u001b[39m\n",
      "  },\n",
      "  {\n",
      "    id: \u001b[32m'8eb43676-3f1d-4089-b842-4d6da82f6b78'\u001b[39m,\n",
      "    name: \u001b[32m'Exotic Shorthair'\u001b[39m,\n",
      "    age: \u001b[33m2\u001b[39m,\n",
      "    dark: \u001b[33mfalse\u001b[39m\n",
      "  },\n",
      "  {\n",
      "    id: \u001b[32m'1afb31e1-f958-4449-b85d-b12740a842d5'\u001b[39m,\n",
      "    name: \u001b[32m'Snowshoe'\u001b[39m,\n",
      "    age: \u001b[33m2\u001b[39m,\n",
      "    dark: \u001b[33mfalse\u001b[39m\n",
      "  }\n",
      "]\n"
     ]
    }
   ],
   "source": [
    "fiindByAgeAndSearch(10, 'S')(cats)"
   ]
  },
  {
   "cell_type": "markdown",
   "id": "9818be89-89fc-4541-9a18-844cea8baad3",
   "metadata": {},
   "source": [
    "### datalast"
   ]
  },
  {
   "cell_type": "code",
   "execution_count": 123,
   "id": "1f84bf72-48e2-4c3b-adf7-80b0155af5c0",
   "metadata": {
    "tags": []
   },
   "outputs": [],
   "source": [
    "const filter = f => list => list.filter(f)\n",
    "const map = f => list => list.map(f)\n",
    "const take = n => list => list.slice(0, n)"
   ]
  },
  {
   "cell_type": "code",
   "execution_count": 127,
   "id": "243184c3-f089-41c7-a6e8-1d1e2b94b049",
   "metadata": {
    "tags": []
   },
   "outputs": [],
   "source": [
    "const compose = (a, b, c) => x => a(b(c(x))) "
   ]
  },
  {
   "cell_type": "code",
   "execution_count": 128,
   "id": "9f8f6f34-81bc-4dac-af3d-9acfd4d0801e",
   "metadata": {
    "tags": []
   },
   "outputs": [],
   "source": [
    "const get2DarkCatsWithS = compose(\n",
    "    take(4),\n",
    "    filter(x => x.name.includes('S')),\n",
    "    filter(x => x.dark),\n",
    ")"
   ]
  },
  {
   "cell_type": "code",
   "execution_count": 129,
   "id": "90682a34-044c-4edf-8739-b972cc09f7c1",
   "metadata": {
    "tags": []
   },
   "outputs": [
    {
     "name": "stdout",
     "output_type": "stream",
     "text": [
      "[\n",
      "  {\n",
      "    id: \u001b[32m'8e53baad-c931-4e2b-a44e-2313e99c6654'\u001b[39m,\n",
      "    name: \u001b[32m'Sphynx'\u001b[39m,\n",
      "    age: \u001b[33m2\u001b[39m,\n",
      "    dark: \u001b[33mtrue\u001b[39m\n",
      "  },\n",
      "  {\n",
      "    id: \u001b[32m'e638e320-2046-4e1d-92ce-86b6b484b830'\u001b[39m,\n",
      "    name: \u001b[32m'Savannah'\u001b[39m,\n",
      "    age: \u001b[33m85\u001b[39m,\n",
      "    dark: \u001b[33mtrue\u001b[39m\n",
      "  },\n",
      "  {\n",
      "    id: \u001b[32m'516121ab-c3fa-4700-b00d-8a89ee41d860'\u001b[39m,\n",
      "    name: \u001b[32m'British Shorthair'\u001b[39m,\n",
      "    age: \u001b[33m29\u001b[39m,\n",
      "    dark: \u001b[33mtrue\u001b[39m\n",
      "  },\n",
      "  {\n",
      "    id: \u001b[32m'aadbc7da-83e7-4661-9ef6-f9888e635b26'\u001b[39m,\n",
      "    name: \u001b[32m'British Shorthair'\u001b[39m,\n",
      "    age: \u001b[33m43\u001b[39m,\n",
      "    dark: \u001b[33mtrue\u001b[39m\n",
      "  }\n",
      "]\n"
     ]
    }
   ],
   "source": [
    "get2DarkCatsWithS(cats)"
   ]
  },
  {
   "cell_type": "markdown",
   "id": "9aac81fc-c4e8-47d2-b047-ac77b6611fee",
   "metadata": {},
   "source": [
    "## use ramda"
   ]
  },
  {
   "cell_type": "code",
   "execution_count": 142,
   "id": "abab47a6-bbc6-4af5-9bec-75b65a332cf2",
   "metadata": {
    "tags": []
   },
   "outputs": [],
   "source": [
    "const { map, filter, compose, prop, take, pick, sortBy } = require('ramda')"
   ]
  },
  {
   "cell_type": "markdown",
   "id": "d0c4d8d1-80b3-4180-9dc3-caac8e52b227",
   "metadata": {},
   "source": [
    "### transform data"
   ]
  },
  {
   "cell_type": "code",
   "execution_count": 140,
   "id": "023afe4f-4e74-4ec5-ba2e-061e5acd3c82",
   "metadata": {
    "tags": []
   },
   "outputs": [],
   "source": [
    "const transform = map(pick(['id', 'name']))\n",
    "// transform(cats)"
   ]
  },
  {
   "cell_type": "code",
   "execution_count": 160,
   "id": "d042b1f1-2538-4cd8-b74f-c6e8195ee582",
   "metadata": {
    "tags": []
   },
   "outputs": [
    {
     "name": "stdout",
     "output_type": "stream",
     "text": [
      "[\n",
      "  { id: \u001b[32m'405c6691-fd40-45c3-a312-5af5c94f3939'\u001b[39m, name: \u001b[32m'Thai'\u001b[39m },\n",
      "  { id: \u001b[32m'05236427-91df-41a1-addc-1839d76cb6e2'\u001b[39m, name: \u001b[32m'Burmese'\u001b[39m },\n",
      "  { id: \u001b[32m'c727e101-a862-4250-b3ed-bb6ca8d7eae1'\u001b[39m, name: \u001b[32m'Burmese'\u001b[39m },\n",
      "  { id: \u001b[32m'112fe575-4c18-46c5-9e0e-35efd5f0efc0'\u001b[39m, name: \u001b[32m'Himalayan'\u001b[39m },\n",
      "  { id: \u001b[32m'5fbc6332-1271-4a63-890c-67a29077dd31'\u001b[39m, name: \u001b[32m'Singapura'\u001b[39m }\n",
      "]\n"
     ]
    }
   ],
   "source": [
    "const getData = compose(\n",
    "    take(5),\n",
    "    map(pick(['id', 'name'])),\n",
    "    sortBy(prop('age')),\n",
    "    filter(x => x.age > 10)\n",
    ")\n",
    "\n",
    "getData(cats)"
   ]
  },
  {
   "cell_type": "markdown",
   "id": "aba05420-c7a4-4254-befd-ba53e7a63133",
   "metadata": {
    "tags": []
   },
   "source": [
    "### curry"
   ]
  },
  {
   "cell_type": "markdown",
   "id": "154afa5c-2c79-4612-b15c-7941f60a3ec8",
   "metadata": {},
   "source": [
    "## 实现动作函数并组合"
   ]
  },
  {
   "cell_type": "code",
   "execution_count": null,
   "id": "4fe1430a-e8ab-43a2-b0c1-846bb84f51ad",
   "metadata": {},
   "outputs": [],
   "source": []
  }
 ],
 "metadata": {
  "kernelspec": {
   "display_name": "TypeScript",
   "language": "typescript",
   "name": "tslab"
  },
  "language_info": {
   "codemirror_mode": {
    "mode": "typescript",
    "name": "javascript",
    "typescript": true
   },
   "file_extension": ".ts",
   "mimetype": "text/typescript",
   "name": "typescript",
   "version": "3.7.2"
  }
 },
 "nbformat": 4,
 "nbformat_minor": 5
}
